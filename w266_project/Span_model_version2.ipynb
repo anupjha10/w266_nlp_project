{
 "cells": [
  {
   "cell_type": "code",
   "execution_count": null,
   "metadata": {},
   "outputs": [],
   "source": [
    "#to be run only when on Google Colab\n",
    "%tensorflow_version 2.x\n",
    "from google.colab import drive\n",
    "drive.mount('/content/gdrive')\n",
    "import sys\n",
    "import os\n",
    "sys.path.append('/content/gdrive/My Drive/W266-NLP/Project')\n",
    "os.chdir('/content/gdrive/My Drive/W266-NLP/Project')\n",
    "os.listdir()"
   ]
  },
  {
   "cell_type": "code",
   "execution_count": 1,
   "metadata": {},
   "outputs": [
    {
     "name": "stdout",
     "output_type": "stream",
     "text": [
      "Requirement already satisfied: wget in /home/anupj/anaconda3/envs/tensorflow_cpu_2/lib/python3.7/site-packages (3.2)\n",
      "Requirement already satisfied: tqdm in /home/anupj/anaconda3/envs/tensorflow_cpu_2/lib/python3.7/site-packages (4.43.0)\n"
     ]
    }
   ],
   "source": [
    "import os\n",
    "import time\n",
    "import numpy as np\n",
    "import pickle\n",
    "import pandas as pd\n",
    "import json\n",
    "from pandas.io.json import json_normalize\n",
    "from collections import Counter\n",
    "import tensorflow as tf\n",
    "from tensorflow import keras as keras\n",
    "from tensorflow.keras.preprocessing.text import Tokenizer\n",
    "from tensorflow.keras.layers import Attention\n",
    "import nltk\n",
    "from functools import reduce\n",
    "!pip install wget\n",
    "# Load PyDrive and Google Auth related packages\n",
    "#!pip install -U -q PyDrive\n",
    "#from pydrive.auth import GoogleAuth\n",
    "#from pydrive.drive import GoogleDrive\n",
    "#from google.colab import auth\n",
    "#from oauth2client.client import GoogleCredentials\n",
    "# Authenticate and create the PyDrive client.\n",
    "#auth.authenticate_user()\n",
    "#gauth = GoogleAuth()\n",
    "#gauth.credentials = GoogleCredentials.get_application_default()\n",
    "#drive = GoogleDrive(gauth)\n",
    "\n",
    "import tensorflow as tf\n",
    "from tensorflow import keras as keras\n",
    "from tensorflow.keras.preprocessing.text import Tokenizer\n",
    "from tensorflow.keras.layers import Attention\n",
    "from tensorflow.keras.preprocessing.sequence import pad_sequences\n",
    "from tensorflow.keras.models import Model\n",
    "from tensorflow.keras import layers\n",
    "from tensorflow.keras import Input\n",
    "from functools import reduce\n",
    "flatten = lambda data: reduce(lambda x, y: x + y, data)\n",
    "import glove_helper\n",
    "!pip install tqdm\n",
    "from tqdm import tqdm\n",
    "import matplotlib.pyplot as plt\n",
    "%matplotlib inline\n",
    "# Load the json data\n",
    "def load_json_file(name):\n",
    "  \"\"\"\n",
    "  Load the json file and return a json object\n",
    "  \"\"\"\n",
    "  with open(name,encoding='utf-8') as myfile:\n",
    "    data = json.load(myfile)\n",
    "    return data\n",
    "\n",
    "# Convert json data object to a pandas data frame\n",
    "def convert_to_pd(data):\n",
    "    \"\"\"\n",
    "      Load the data to a pandas dataframe.\n",
    "      Dataframe Columns:\n",
    "      title\n",
    "      para_index\n",
    "      context\n",
    "      q_index\n",
    "      q_id\n",
    "      q_isimpossible\n",
    "      q_question\n",
    "      q_anscount - number of answers\n",
    "      q_answers - a list of object e.g [{ text: '', answer_start: 123}, ...]\n",
    "    \"\"\"\n",
    "    result = []\n",
    "    for pdata in data['data']:\n",
    "        for para in pdata['paragraphs']:\n",
    "            for q in para['qas']:\n",
    "                result.append({\n",
    "                                'title' : pdata['title'],\n",
    "                                'context' : para['context'],\n",
    "                                'q_id' : q['id'],\n",
    "                                'q_isimpossible' : q['is_impossible'],\n",
    "                                'q_question' : q['question'],\n",
    "                                'q_anscount' : len(q['answers']),\n",
    "                                'q_answers' : [a for a in q['answers']],\n",
    "                                'q_answers_text': [a.get(\"text\") for a in q['answers']],\n",
    "                                'context_lowercase': para['context'].lower(),\n",
    "                                'q_question_lowercase' : q['question'].lower(),\n",
    "                                'q_answers_text_lowercase': [a.get(\"text\").lower() for a in q['answers']]\n",
    "                               })\n",
    "    return pd.DataFrame.from_dict(result, orient='columns')\n",
    "\n",
    "# Load the file from shareable google drive link and return a pandas dataframe\n",
    "def loadDataFile(filename): \n",
    "    \"\"\"\n",
    "    Download a file from google drive with the shared link\n",
    "    \"\"\" \n",
    "    data = load_json_file(filename)\n",
    "    return convert_to_pd(data)"
   ]
  },
  {
   "cell_type": "code",
   "execution_count": 2,
   "metadata": {},
   "outputs": [],
   "source": [
    "# DONOT RUN THIS ON COLAB#\n",
    "#to make use of CPU and not GPU DONOT RUN THIS ON COLAB\n",
    "os.environ[\"CUDA_DEVICE_ORDER\"] = \"PCI_BUS_ID\"\n",
    "os.environ[\"CUDA_VISIBLE_DEVICES\"] = \"\"\n"
   ]
  },
  {
   "cell_type": "code",
   "execution_count": 3,
   "metadata": {},
   "outputs": [],
   "source": [
    "train_filename = 'train-v2.0.json'\n",
    "dev_filename = 'dev-v2.0.json'\n",
    "\n",
    "train_pd = loadDataFile(train_filename)\n",
    "dev_pd = loadDataFile(dev_filename)"
   ]
  },
  {
   "cell_type": "code",
   "execution_count": 4,
   "metadata": {},
   "outputs": [
    {
     "name": "stdout",
     "output_type": "stream",
     "text": [
      "Max context length: 653\n",
      "Max question length: 40\n",
      "Max answer length: 43\n"
     ]
    }
   ],
   "source": [
    "def get_c_q_a(dataset):\n",
    "    q_id_list = []\n",
    "    context_list =[]\n",
    "    questions_list = []\n",
    "    answers_list =[]\n",
    "    q_impossible_list =[]\n",
    "    for index,row in dataset.iterrows():\n",
    "        q_id_list.append(row.q_id)\n",
    "        context_list.append(row.context)\n",
    "        questions_list.append(row.q_question)\n",
    "        q_impossible_list.append(int(row.q_isimpossible))\n",
    "        if len(row.q_answers_text)>0 :\n",
    "            answers_list.append(row.q_answers_text[0])\n",
    "        else:\n",
    "            answers_list.append(\"\")\n",
    "    return [q_id_list,context_list,questions_list,q_impossible_list,answers_list]\n",
    "\n",
    "train_lists = get_c_q_a(train_pd)\n",
    "dev_lists = get_c_q_a(dev_pd)\n",
    "context_maxlen = max(map(len, (x.split() for x in train_lists[1])))\n",
    "question_maxlen = max(map(len, (x.split() for x in train_lists[2])))\n",
    "answer_maxlen = max(map(len, (x.split() for x in train_lists[4])))\n",
    "print(\"Max context length:\",context_maxlen)\n",
    "print(\"Max question length:\",question_maxlen)\n",
    "print(\"Max answer length:\",answer_maxlen)"
   ]
  },
  {
   "cell_type": "code",
   "execution_count": 6,
   "metadata": {},
   "outputs": [],
   "source": [
    "context_maxlen = 250\n",
    "question_maxlen = 20\n",
    "answer_maxlen = 15\n",
    "ndim = 100"
   ]
  },
  {
   "cell_type": "code",
   "execution_count": 7,
   "metadata": {},
   "outputs": [
    {
     "name": "stdout",
     "output_type": "stream",
     "text": [
      "Vocab Size: 88701\n",
      "validation num samples where answer impossible:  8730\n",
      "validation num samples where answer not impossible:  17382\n",
      "train num samples where answer impossible:  34761\n",
      "train num samples where answer not impossible:  69431\n"
     ]
    }
   ],
   "source": [
    "def tokenize_c_q_a(dataset,num_words=None):\n",
    "    tokenizer = Tokenizer(num_words,filters='!\"#$%&()*+,-./:;<=>?@[\\\\]^_`{|}~\\t\\n'+\"''\",oov_token='<unk>')\n",
    "    data = dataset[1]+dataset[2]+dataset[4]\n",
    "    tokenizer.fit_on_texts(data)\n",
    "    vocab = {}\n",
    "    for word,i in tokenizer.word_index.items():\n",
    "        if num_words is not None:\n",
    "            if i <= num_words:\n",
    "                vocab[word] = i\n",
    "        else:\n",
    "            vocab[word] = i\n",
    "    #vocab = tokenizer.word_index\n",
    "    vocab['<s>'] = len(vocab)+1\n",
    "    vocab['</s>'] = len(vocab)+1\n",
    "    id_vocab = {value: key for key, value in vocab.items()}\n",
    "    return (tokenizer,vocab,id_vocab)\n",
    "\n",
    "tokenizer_obj,vocab,id_vocab = tokenize_c_q_a(train_lists)\n",
    "\n",
    "vocab_size = len(vocab)\n",
    "print(\"Vocab Size:\",vocab_size)\n",
    "\n",
    "def calc_answer_span(context,answer):\n",
    "    \n",
    "    ans_len = len(answer)\n",
    "    \n",
    "    if ans_len!=0 and answer[0] in context:\n",
    "        indices = [i for i, x in enumerate(context) if x == answer[0]]\n",
    "        try:\n",
    "            if(len(indices)>1):\n",
    "                start = [i for i in indices if (context[i:i+ans_len] == answer) ]\n",
    "                end = start[0] + ans_len - 1\n",
    "                return (start[0],end)\n",
    "            else:\n",
    "                start = context.index(answer[0])\n",
    "                end = start + ans_len - 1\n",
    "                return (start,end)\n",
    "        except:\n",
    "            return (-1,-1)\n",
    "    else:\n",
    "        return (-1,-1)\n",
    "\n",
    "\n",
    "def vectorize_data(tokenizer_obj,train_lists):\n",
    "    qid_original = train_lists[0]\n",
    "    context_seq = tokenizer_obj.texts_to_sequences(train_lists[1])\n",
    "    question_seq = tokenizer_obj.texts_to_sequences(train_lists[2])\n",
    "    answer_seq = tokenizer_obj.texts_to_sequences(train_lists[4])\n",
    "    answer_span = [calc_answer_span(context_seq[i],answer_seq[i]) for i,x in enumerate(context_seq)]\n",
    "    answer_start_index = [item[0] for item in answer_span]\n",
    "    answer_end_index =  [item[1] for item in answer_span]\n",
    "    answer_start_seq = []\n",
    "    answer_end_seq = []\n",
    "    for i,x in enumerate(answer_start_index):\n",
    "        start = np.zeros(context_maxlen,dtype = \"int32\")\n",
    "        end   = np.zeros(context_maxlen,dtype = \"int32\")\n",
    "        #last space reserved for the question where there are no answers\n",
    "        if (answer_start_index[i] < context_maxlen-1):\n",
    "            start[answer_start_index[i]] = 1\n",
    "        if (answer_end_index[i] < context_maxlen-1):\n",
    "            end[answer_end_index[i]] = 1\n",
    "        answer_start_seq.append(start)\n",
    "        answer_end_seq.append(end)\n",
    "        \n",
    "    answer_input_seq = [i for i in answer_seq]\n",
    "    answer_target_seq = answer_input_seq\n",
    "    context_seq_padded = pad_sequences(context_seq,context_maxlen-1,padding='post', truncating='post')\n",
    "    #Adding 0 to last position special for no answer questions\n",
    "    context_seq_padded = pad_sequences(context_seq_padded,context_maxlen,padding='post', truncating='post')\n",
    "    question_seq_padded = pad_sequences(question_seq,question_maxlen,padding='post', truncating='post')\n",
    "    answer_seq_padded = pad_sequences(answer_seq,answer_maxlen,padding='post', truncating='post')\n",
    "    answer_input_seq_padded = pad_sequences(answer_input_seq,answer_maxlen,padding='post', truncating='post')\n",
    "    answer_target_seq_padded = pad_sequences(answer_target_seq,answer_maxlen,padding='post', truncating='post')\n",
    "    answer_impossible = np.array(train_lists[3])\n",
    "    answer_start_seq_padded = pad_sequences(answer_start_seq,context_maxlen,padding='post', truncating='post') \n",
    "    answer_end_seq_padded = pad_sequences(answer_end_seq,context_maxlen,padding='post', truncating='post')\n",
    "    #context_match_question = []\n",
    "    #for i,a in enumerate(context_seq_padded):\n",
    "    #    exact = [[1]if ecw in question_seq_padded[i] and ecw !=0 else [0] for ecw in a]\n",
    "    #    context_match_question.append(exact)\n",
    "    \n",
    "    #context_match_question_padded = np.array(context_match_question)\n",
    "    indices = np.arange(context_seq_padded.shape[0])\n",
    "    np.random.seed(19)\n",
    "    np.random.shuffle(indices)\n",
    "    qid = [qid_original[i] for i in indices]\n",
    "    context_seq_padded = context_seq_padded[indices]\n",
    "    question_seq_padded = question_seq_padded[indices]\n",
    "    answer_seq_padded = answer_seq_padded[indices]\n",
    "    answer_input_seq_padded = answer_input_seq_padded[indices]\n",
    "    answer_target_seq_padded = answer_target_seq_padded[indices]\n",
    "    answer_impossible = answer_impossible[indices]\n",
    "    answer_start_seq_padded = answer_start_seq_padded[indices]\n",
    "    answer_end_seq_padded = answer_end_seq_padded[indices]\n",
    "    #context_match_question_padded = context_match_question_padded[indices]\n",
    "    train_samples = int(((context_seq_padded.shape[0]*.8)//128)*128)\n",
    "    end_samples = int((context_seq_padded.shape[0]//128)*128)\n",
    "    train_qid = qid[:train_samples]\n",
    "    train_context_padded_seq = context_seq_padded[:train_samples]\n",
    "    train_question_seq_padded = question_seq_padded[:train_samples]\n",
    "    train_answer_seq_padded = answer_seq_padded[:train_samples]\n",
    "    train_answer_input_seq_padded = answer_input_seq_padded[:train_samples]\n",
    "    train_answer_target_seq_padded = answer_target_seq_padded[:train_samples]\n",
    "    train_answer_impossible = answer_impossible[:train_samples]\n",
    "    train_answer_start_seq_padded = answer_start_seq_padded[:train_samples]\n",
    "    train_answer_end_seq_padded = answer_end_seq_padded[:train_samples]\n",
    "    #train_context_match_question_padded = context_match_question_padded[:train_samples]\n",
    "    val_qid = qid[train_samples:end_samples]\n",
    "    val_context_padded_seq = context_seq_padded[train_samples:end_samples]\n",
    "    val_question_seq_padded = question_seq_padded[train_samples:end_samples]\n",
    "    val_answer_seq_padded = answer_seq_padded[train_samples:end_samples]\n",
    "    val_answer_input_seq_padded = answer_input_seq_padded[train_samples:end_samples]\n",
    "    val_answer_target_seq_padded = answer_target_seq_padded[train_samples:end_samples]\n",
    "    val_answer_impossible = answer_impossible[train_samples:end_samples]\n",
    "    val_answer_start_seq_padded = answer_start_seq_padded[train_samples:end_samples]\n",
    "    val_answer_end_seq_padded = answer_end_seq_padded[train_samples:end_samples]\n",
    "    #val_context_match_question_padded = context_match_question_padded[train_samples:end_samples]\n",
    "    return (train_qid,train_context_padded_seq,train_question_seq_padded,train_answer_seq_padded,\n",
    "            train_answer_input_seq_padded,train_answer_target_seq_padded,train_answer_impossible,\n",
    "            train_answer_start_seq_padded,train_answer_end_seq_padded,\n",
    "            #train_context_match_question_padded,\n",
    "            val_qid,val_context_padded_seq,val_question_seq_padded,val_answer_seq_padded,\n",
    "            val_answer_input_seq_padded,val_answer_target_seq_padded,val_answer_impossible,\n",
    "            val_answer_start_seq_padded,val_answer_end_seq_padded\n",
    "            #,val_context_match_question_padded\n",
    "           )\n",
    "\n",
    "train_qid,train_context_padded_seq,train_question_seq_padded,train_answer_seq_padded,\\\n",
    "train_answer_input_seq_padded,train_answer_target_seq_padded,train_answer_impossible,\\\n",
    "train_answer_start_seq_padded,train_answer_end_seq_padded,\\\n",
    "val_qid,val_context_padded_seq,val_question_seq_padded,val_answer_seq_padded,\\\n",
    "val_answer_input_seq_padded,val_answer_target_seq_padded,val_answer_impossible,\\\n",
    "val_answer_start_seq_padded,val_answer_end_seq_padded\\\n",
    "= vectorize_data(tokenizer_obj,train_lists)\n",
    "print(\"validation num samples where answer impossible: \",len(val_answer_seq_padded[val_answer_impossible==1]))\n",
    "print(\"validation num samples where answer not impossible: \",len(val_answer_seq_padded[val_answer_impossible==0]))\n",
    "print(\"train num samples where answer impossible: \",len(train_answer_seq_padded[train_answer_impossible==1]))\n",
    "print(\"train num samples where answer not impossible: \",len(train_answer_seq_padded[train_answer_impossible==0]))"
   ]
  },
  {
   "cell_type": "code",
   "execution_count": 8,
   "metadata": {},
   "outputs": [
    {
     "name": "stdout",
     "output_type": "stream",
     "text": [
      "Loading vectors from data/glove/glove.6B.zip\n",
      "Parsing file: data/glove/glove.6B.zip:glove.6B.100d.txt\n",
      "Found 400,000 words.\n",
      "Parsing vectors... Done! (W.shape = (400003, 100))\n"
     ]
    }
   ],
   "source": [
    "def create_embedding_matrix(word_index,vocab_size=50000,ndim=100):\n",
    "    hands = glove_helper.Hands(ndim)\n",
    "    embedding_matrix = np.zeros((vocab_size+1,ndim))\n",
    "    for word,i in word_index.items():\n",
    "        if i<=vocab_size:\n",
    "            embedding_vector = hands.get_vector(word,strict=False)\n",
    "            if embedding_vector is not None:\n",
    "                embedding_matrix[i] = embedding_vector\n",
    "    return embedding_matrix\n",
    "\n",
    "embedding_matrix = create_embedding_matrix(vocab,vocab_size,ndim)"
   ]
  },
  {
   "cell_type": "code",
   "execution_count": 9,
   "metadata": {},
   "outputs": [
    {
     "data": {
      "text/plain": [
       "(88702, 100)"
      ]
     },
     "execution_count": 9,
     "metadata": {},
     "output_type": "execute_result"
    }
   ],
   "source": [
    "embedding_matrix.shape"
   ]
  },
  {
   "cell_type": "code",
   "execution_count": 10,
   "metadata": {},
   "outputs": [],
   "source": [
    "#New Model with attention in every step of the answer decoder\n",
    "class BahdanauAttention_model2(tf.keras.layers.Layer):\n",
    "    def __init__(self, units):\n",
    "        super(BahdanauAttention_model2, self).__init__()\n",
    "        self.W1 = tf.keras.layers.Dense(units)\n",
    "        self.W2 = tf.keras.layers.Dense(units)\n",
    "        self.V = tf.keras.layers.Dense(1)\n",
    "\n",
    "    def call(self, query, values):\n",
    "        # query hidden state shape == (batch_size, hidden size)\n",
    "        # query_with_time_axis shape == (batch_size, 1, hidden size)\n",
    "        # values shape == (batch_size, max_len, hidden size)\n",
    "        # we are doing this to broadcast addition along the time axis to calculate the score\n",
    "        query_with_time_axis = tf.expand_dims(query, 1)\n",
    "\n",
    "        # score shape == (batch_size, max_length, 1)\n",
    "        # we get 1 at the last axis because we are applying score to self.V\n",
    "        # the shape of the tensor before applying self.V is (batch_size, max_length, units)\n",
    "        score = self.V(tf.nn.tanh(\n",
    "                                self.W1(query_with_time_axis) + self.W2(values)))\n",
    "\n",
    "        # attention_weights shape == (batch_size, max_length, 1)\n",
    "        attention_weights = tf.nn.softmax(score, axis=1)\n",
    "\n",
    "        # context_vector shape after sum == (batch_size, hidden_size)\n",
    "        context_vector = attention_weights * values\n",
    "        context_vector = tf.reduce_sum(context_vector, axis=1)\n",
    "\n",
    "        return context_vector, attention_weights\n",
    "\n",
    "# Answer Module which is custom as we need to feed output of each time sequence with attention to next \n",
    "# time sequence\n",
    "class answer_module(tf.keras.Model):\n",
    "    def __init__(self,embedding_matrix,\n",
    "                      vocab_size,\n",
    "                      ndim,\n",
    "                      num_unit_gru,\n",
    "                      num_layers_gru,\n",
    "                      dropout_rate,\n",
    "                      l1_regularizer_weight = .01,\n",
    "                      l2_regularizer_weight = .01\n",
    "                      ):\n",
    "        super(answer_module, self).__init__()\n",
    "        self.num_unit_gru = num_unit_gru\n",
    "        self.dropout_rate = dropout_rate\n",
    "        self.WSTART = tf.keras.layers.Dense(2*self.num_unit_gru)\n",
    "        self.WEND = tf.keras.layers.Dense(2*self.num_unit_gru)        \n",
    "    \n",
    "    def call(self,\n",
    "             question,\n",
    "             context):\n",
    "        \n",
    "        context = tf.transpose(context,[0,2,1])\n",
    "        ################ start prediction logit ######################\n",
    "        start = self.WSTART(question)\n",
    "        hidden_start_time_axis = tf.expand_dims(start, 1)\n",
    "        \n",
    "        start_logit = tf.squeeze(tf.matmul(hidden_start_time_axis,context),axis=1)\n",
    "        start_logit = tf.math.exp(start_logit)\n",
    "            \n",
    "        ################ end prediction logit ######################\n",
    "        end = self.WEND(question)\n",
    "\n",
    "        hidden_end_time_axis = tf.expand_dims(end, 1)\n",
    "        \n",
    "        # squeeze remooves time slice we added before\n",
    "        # final shape = (batch_size,decoder_timesteps)\n",
    "        end_logit = tf.squeeze(tf.matmul(hidden_end_time_axis,context),axis=1)\n",
    "        end_logit = tf.math.exp(end_logit)\n",
    "        \n",
    "        \n",
    "        return start_logit,end_logit \n",
    "\n",
    "#Encoder Module which combines the context,question into episodic memory and emits context outputs and \n",
    "#question outputs\n",
    "class encoder_module(tf.keras.Model):    \n",
    "    def __init__(self,embedding_matrix,\n",
    "                      vocab_size,\n",
    "                      max_context_length,\n",
    "                      max_question_length,\n",
    "                      max_answer_length,\n",
    "                      num_unit_gru = 64,\n",
    "                      num_layers_gru = 2,\n",
    "                      ndim =100,\n",
    "                      num_episodes = 2,\n",
    "                      dropout_rate = 0.5,\n",
    "                      num_episodic_network_unit = 64,\n",
    "                      l1_regularizer_weight = .01,\n",
    "                      l2_regularizer_weight = .01\n",
    "                      ):\n",
    "        super(encoder_module, self).__init__()\n",
    "        #Context Module\n",
    "        self.num_unit_gru = num_unit_gru\n",
    "        self.dropout_rate = dropout_rate\n",
    "        self.num_layers_gru = num_layers_gru\n",
    "        self.embedding_matrix = embedding_matrix\n",
    "        self.vocab_size = vocab_size\n",
    "        self.ndim = ndim\n",
    "        self.max_context_length = max_context_length\n",
    "        self.max_question_length = max_question_length\n",
    "        self.max_answer_length = max_answer_length\n",
    "        self.num_episodes = num_episodes\n",
    "        self.num_episodic_network_unit = num_episodic_network_unit\n",
    "        self.context_embeddings_layer = layers.Embedding(self.vocab_size+1,\n",
    "                                                         self.ndim,\n",
    "                                                         mask_zero=True,\n",
    "                                                         weights =[self.embedding_matrix],\n",
    "                                                         trainable = False,\n",
    "                                                         name='Context_Embedding')\n",
    "        self.context_output_layers = []\n",
    "        self.context_batch_normalization_layers = []\n",
    "        for i in range(self.num_layers_gru):\n",
    "            self.context_output_layers.append(layers.Bidirectional(\n",
    "                                                layers.GRU(self.num_unit_gru,\n",
    "                                                           dropout=self.dropout_rate,\n",
    "                                                           recurrent_dropout= self.dropout_rate,\n",
    "                                                           recurrent_initializer='glorot_uniform',\n",
    "                                                           return_sequences=True,\n",
    "                                                           kernel_regularizer=tf.keras.regularizers.l1_l2(\n",
    "                                                                              l1_regularizer_weight,\n",
    "                                                                              l2_regularizer_weight),\n",
    "                                                           bias_regularizer=tf.keras.regularizers.l1_l2(\n",
    "                                                                              l1_regularizer_weight,\n",
    "                                                                              l2_regularizer_weight)),\n",
    "                                                           merge_mode='concat',\n",
    "                                                           name='Context_Bid_Layer'+str(i))\n",
    "                                              )\n",
    "            self.context_batch_normalization_layers.append(layers.BatchNormalization())\n",
    "        \n",
    "        #Question Module\n",
    "        self.question_embeddings_layer = layers.Embedding(self.vocab_size+1,\n",
    "                                                          self.ndim,\n",
    "                                                          mask_zero=True,\n",
    "                                                          weights =[self.embedding_matrix],\n",
    "                                                          trainable = False,\n",
    "                                                          name='Question_Embedding')\n",
    "          \n",
    "        self.question_output_layers = []\n",
    "        self.question_batch_normalization_layers = []\n",
    "        for i in range(num_layers_gru):\n",
    "            self.question_output_layers.append(layers.Bidirectional(\n",
    "                                                 layers.GRU(self.num_unit_gru,\n",
    "                                                            dropout=self.dropout_rate,\n",
    "                                                            recurrent_dropout= self.dropout_rate,\n",
    "                                                            recurrent_initializer='glorot_uniform',\n",
    "                                                            return_sequences=True,\n",
    "                                                            kernel_regularizer=tf.keras.regularizers.l1_l2(\n",
    "                                                                                l1_regularizer_weight,\n",
    "                                                                                l2_regularizer_weight),\n",
    "                                                            bias_regularizer=tf.keras.regularizers.l1_l2(\n",
    "                                                                                l1_regularizer_weight,\n",
    "                                                                                l2_regularizer_weight)),\n",
    "                                                             merge_mode='concat',\n",
    "                                                             name='Question_Bid_Layer'+str(i))\n",
    "                                              )\n",
    "            self.question_batch_normalization_layers.append(layers.BatchNormalization())\n",
    "            \n",
    "        self.question_attention_layer = layers.Dense(1)\n",
    "        #Episodic Memory \n",
    "        #self.episodic_weight_layer = layers.Dense(self.num_unit_gru,use_bias=False)\n",
    "        #self.episodic_tanh_layer = layers.Dense(self.num_episodic_network_unit,activation='tanh')\n",
    "        #self.episodic_score_layer = layers.Dense(1)\n",
    "        #Self alignment\n",
    "        self.Align_W1 = tf.keras.layers.Dense(1,activation=\"relu\")\n",
    "        self.Align_W2 = tf.keras.layers.Dense(1,activation=\"relu\")\n",
    "    def call(self,context_input,question_input):\n",
    "        #context Module\n",
    "        context_embeddings = self.context_embeddings_layer(context_input)\n",
    "        #Question Module\n",
    "        question_embeddings = self.question_embeddings_layer(question_input)\n",
    "        #self alignment\n",
    "        context_relu = self.Align_W1(context_embeddings)\n",
    "        question_relu = self.Align_W2(question_embeddings)\n",
    "        self_align_logits = tf.matmul(context_relu,tf.transpose(question_relu,[0,2,1]))\n",
    "        self_align_scores = tf.nn.softmax(self_align_logits)\n",
    "        self_align_embeddings = tf.matmul(self_align_scores,question_embeddings)\n",
    "        context_concat_embeddings = tf.concat(values=[context_embeddings,self_align_embeddings],axis=-1)\n",
    "        \n",
    "        #print(\"context_embeddings.shape:\",context_embeddings.shape)\n",
    "        #print(\"question_embeddings.shape:\",question_embeddings.shape)\n",
    "        #print(\"context_relu.shape:\",context_relu.shape)\n",
    "        #print(\"question_relu.shape:\",question_relu.shape)\n",
    "        #print(\"self_align_logits.shape:\",self_align_logits.shape)\n",
    "        #print(\"self_align_scores.shape:\",self_align_scores.shape)\n",
    "        #print(\"self_align_embeddings.shape:\",self_align_embeddings.shape)\n",
    "        #print(\"context_concat_embeddings.shape:\",context_concat_embeddings.shape)\n",
    "        for i in range(len(self.context_output_layers)):\n",
    "            if i==0:\n",
    "                context_outputs = self.context_output_layers[i](context_concat_embeddings)\n",
    "            else:\n",
    "                context_outputs = self.context_output_layers[i](context_outputs)\n",
    "            context_outputs = self.context_batch_normalization_layers[i](context_outputs)\n",
    "\n",
    "        \n",
    "        for i in range(len(self.question_output_layers)):\n",
    "            if i==0:\n",
    "                question_outputs = self.question_output_layers[i](question_embeddings)\n",
    "            else:\n",
    "                question_outputs = self.question_output_layers[i](question_outputs)\n",
    "            question_outputs = self.question_batch_normalization_layers[i](question_outputs) \n",
    "        \n",
    "        #Calculate the self attention for question        \n",
    "        question_score = self.question_attention_layer(question_outputs)\n",
    "        # attention_weights shape == (batch_size, max_length, 1)\n",
    "        question_attention_weights = tf.nn.softmax(question_score, axis=1)\n",
    "        question_outputs = question_attention_weights * question_outputs\n",
    "        question_outputs = tf.reduce_sum(question_outputs, axis=1)\n",
    "        \n",
    "        #Episodic Memory \n",
    "        #m = tf.identity(question_outputs)\n",
    "        #for i in range(self.num_episodes):\n",
    "        #    m_increased = tf.tile(tf.keras.backend.expand_dims(m,1),\n",
    "        #                          tf.constant([1,self.max_context_length,1],tf.int32))\n",
    "        #    q_increased = tf.tile(tf.keras.backend.expand_dims(question_outputs,1),\n",
    "        #                          tf.constant([1,self.max_context_length,1],tf.int32))\n",
    "        #    c_mul_q = layers.multiply([context_outputs,q_increased])\n",
    "        #    c_mul_m = layers.multiply([context_outputs,m_increased])\n",
    "        #    c_minus_q =tf.keras.backend.abs(layers.subtract([context_outputs,q_increased]))\n",
    "        #    c_minus_m = tf.keras.backend.abs(layers.subtract([context_outputs,m_increased]))\n",
    "        #    c_dot_q = tf.matmul(tf.keras.backend.expand_dims(self.episodic_weight_layer(question_outputs),1), \n",
    "        #                        context_outputs,\n",
    "        #                        transpose_b=True)\n",
    "        #    c_dot_q = layers.Permute((2,1))(c_dot_q)\n",
    "        #    c_dot_m = tf.matmul(tf.keras.backend.expand_dims(self.episodic_weight_layer(m),1), \n",
    "        #                        context_outputs,transpose_b=True)\n",
    "        #    c_dot_m = layers.Permute((2,1))(c_dot_m)\n",
    "        #    z = tf.concat([context_outputs,\n",
    "        #                            m_increased,\n",
    "        #                            q_increased,\n",
    "        #                            c_mul_q,\n",
    "        #                            c_mul_m,\n",
    "        #                            c_minus_q,\n",
    "        #                            c_minus_m,\n",
    "        #                            c_dot_q,\n",
    "        #                            c_dot_m],axis=-1)\n",
    "        #    score = self.episodic_score_layer(self.episodic_tanh_layer(z))\n",
    "        #    attention_weights = tf.nn.softmax(score, axis=1)\n",
    "        #    m_value = attention_weights * context_outputs\n",
    "        #    m = tf.reduce_sum(m_value, axis=1)\n",
    "        #concatenate episodic memory with question\n",
    "        #concatenated_tensor = tf.concat(values=[m,question_outputs],axis=1)\n",
    "        return (question_outputs,context_outputs)\n",
    "    \n",
    "                \n",
    "#Function to create the Models\n",
    "def create_models(embedding_matrix,\n",
    "                  max_context_length,\n",
    "                  max_question_length,\n",
    "                  max_answer_length,\n",
    "                  num_unit_gru = 64,\n",
    "                  num_layers_gru = 2,\n",
    "                  ndim =100,\n",
    "                  num_episodes = 2,\n",
    "                  num_dense_layer_feasibility_units = 16,\n",
    "                  dropout_rate = 0.5,\n",
    "                  num_dense_layers_feasibility = 1,\n",
    "                  num_episodic_network_unit = 64,\n",
    "                  l1_regularizer_weight = .01,\n",
    "                  l2_regularizer_weight = .01):\n",
    "    \"\"\"\n",
    "    \n",
    "    def create_episodic_memory(num_episodes,\n",
    "                               query,\n",
    "                               context_outputs,\n",
    "                               max_context_length,\n",
    "                               max_question_length,\n",
    "                               num_episodic_network_unit):\n",
    "        m = layers.Lambda(lambda x: x)(query)\n",
    "        weight_layer = layers.Dense(query.shape[1],use_bias=False)\n",
    "        for i in range(num_episodes):\n",
    "            m_increased = tf.tile(tf.keras.backend.expand_dims(m,1),\n",
    "                                  tf.constant([1,max_context_length,1],tf.int32))\n",
    "            q_increased = tf.tile(tf.keras.backend.expand_dims(query,1),\n",
    "                                  tf.constant([1,max_context_length,1],tf.int32))\n",
    "            c_mul_q = layers.multiply([context_outputs,q_increased])\n",
    "            c_mul_m = layers.multiply([context_outputs,m_increased])\n",
    "            c_minus_q =tf.keras.backend.abs(layers.subtract([context_outputs,q_increased]))\n",
    "            c_minus_m = tf.keras.backend.abs(layers.subtract([context_outputs,m_increased]))\n",
    "            c_dot_q = tf.matmul(tf.keras.backend.expand_dims(weight_layer(query),1), \n",
    "                                context_outputs,transpose_b=True)\n",
    "            c_dot_q = layers.Permute((2,1))(c_dot_q)\n",
    "            c_dot_m = tf.matmul(tf.keras.backend.expand_dims(weight_layer(m),1), \n",
    "                                context_outputs,transpose_b=True)\n",
    "            c_dot_m = layers.Permute((2,1))(c_dot_m)\n",
    "            z = layers.concatenate([context_outputs,\n",
    "                                    m_increased,\n",
    "                                    q_increased,\n",
    "                                    c_mul_q,\n",
    "                                    c_mul_m,\n",
    "                                    c_minus_q,\n",
    "                                    c_minus_m,\n",
    "                                    c_dot_q,\n",
    "                                    c_dot_m],axis=-1)\n",
    "            score = layers.Dense(1)(layers.Dense(num_episodic_network_unit,activation='tanh')(z))\n",
    "            attention_weights = tf.nn.softmax(score, axis=1)\n",
    "            m_value = attention_weights * context_outputs\n",
    "            m = tf.reduce_sum(m_value, axis=1)\n",
    "        return m\n",
    "    \n",
    "    \n",
    "    #Input Module\n",
    "    context_input = Input(shape=(None,),dtype='int32',name='Context_Input')\n",
    "    context_embeddings = layers.Embedding(vocab_size+1,\n",
    "                                          ndim,\n",
    "                                          mask_zero=True,\n",
    "                                          name='Context_Embedding')(context_input)\n",
    "\n",
    "    for i in range(num_layers_gru):\n",
    "        context_outputs_layers = layers.Bidirectional(layers.GRU(num_unit_gru,\n",
    "                                                                 dropout=dropout_rate,\n",
    "                                                                 recurrent_dropout= dropout_rate,\n",
    "                                                                 recurrent_initializer='glorot_uniform',\n",
    "                                                                 return_sequences=True),\n",
    "                                                      merge_mode='sum',\n",
    "                                                      name='Context_Bid_Layer'+str(i))\n",
    "        if i==0:\n",
    "            context_outputs = context_outputs_layers(context_embeddings)\n",
    "        else:\n",
    "            context_outputs = context_outputs_layers(context_outputs)\n",
    "        context_outputs = layers.BatchNormalization()(context_outputs)\n",
    "    print(\"Context output shape\",context_outputs.shape)\n",
    "    #Question Module\n",
    "    question_input = Input(shape=(None,),dtype='int32',name='Question_Input')\n",
    "    question_embeddings = layers.Embedding(vocab_size+1,\n",
    "                                           ndim,\n",
    "                                           mask_zero=True,\n",
    "                                           name='Question_Embedding')(question_input)\n",
    "\n",
    "    for i in range(num_layers_gru):\n",
    "        if i==0 and num_layers_gru >1:\n",
    "            question_outputs = layers.Bidirectional(layers.GRU(num_unit_gru,\n",
    "                                                               dropout=dropout_rate,\n",
    "                                                               recurrent_dropout= dropout_rate,\n",
    "                                                               recurrent_initializer='glorot_uniform',\n",
    "                                                               return_sequences=True),\n",
    "                                                    merge_mode='sum',\n",
    "                                                    name='Question_Bid_Layer'+str(i))(question_embeddings)\n",
    "        elif i==0 and num_layers_gru ==1:\n",
    "            question_outputs = layers.Bidirectional(layers.GRU(num_unit_gru,\n",
    "                                                               dropout=dropout_rate,\n",
    "                                                               recurrent_dropout= dropout_rate,\n",
    "                                                               recurrent_initializer='glorot_uniform',\n",
    "                                                               return_sequences=False),\n",
    "                                                    merge_mode='sum',\n",
    "                                                    name='Question_Bid_Layer'+str(i))(question_embeddings)\n",
    "        elif i==(num_layers_gru-1):\n",
    "            question_outputs = layers.Bidirectional(layers.GRU(num_unit_gru,\n",
    "                                                               dropout=dropout_rate,\n",
    "                                                               recurrent_dropout= dropout_rate,\n",
    "                                                               recurrent_initializer='glorot_uniform',\n",
    "                                                               return_sequences=False),\n",
    "                                                    merge_mode='sum',\n",
    "                                                    name='Question_Bid_Layer'+str(i))(question_outputs)\n",
    "        else:\n",
    "            question_outputs = layers.Bidirectional(layers.GRU(num_unit_gru,\n",
    "                                                               dropout=dropout_rate,\n",
    "                                                               recurrent_dropout= dropout_rate,\n",
    "                                                               recurrent_initializer='glorot_uniform',\n",
    "                                                               return_sequences=True),\n",
    "                                                    merge_mode='sum',\n",
    "                                                    name='Question_Bid_Layer'+str(i))(question_outputs)\n",
    "        question_outputs = layers.BatchNormalization()(question_outputs)\n",
    "    #Episodic Memory Module\n",
    "    m=create_episodic_memory(num_episodes,\n",
    "                             question_outputs,\n",
    "                             context_outputs,\n",
    "                             max_context_length,\n",
    "                             max_question_length,\n",
    "                             num_episodic_network_unit)\n",
    "\n",
    "    concatenated_tensor = layers.concatenate(inputs=[m,question_outputs],\n",
    "                                             name='Concatenation_Memory_Question',axis=1)\n",
    "    \"\"\"\n",
    "    #encoder Model\n",
    "    encoder_model = encoder_module(embedding_matrix,\n",
    "                                   vocab_size,\n",
    "                                   max_context_length,\n",
    "                                   max_question_length,\n",
    "                                   max_answer_length,\n",
    "                                   num_unit_gru,\n",
    "                                   num_layers_gru,\n",
    "                                   ndim,\n",
    "                                   num_episodes,\n",
    "                                   dropout_rate,\n",
    "                                   num_episodic_network_unit,\n",
    "                                   l1_regularizer_weight = l1_regularizer_weight,\n",
    "                                   l2_regularizer_weight = l2_regularizer_weight\n",
    "                                 )\n",
    "    \n",
    "    \n",
    "    #Model([context_input,question_input], [m,concatenated_tensor,question_outputs,context_outputs])\n",
    "    #answer_module\n",
    "    answer_model = answer_module(embedding_matrix,\n",
    "                                 vocab_size,\n",
    "                                 ndim,\n",
    "                                 num_unit_gru,\n",
    "                                 num_layers_gru,\n",
    "                                 dropout_rate,\n",
    "                                 l1_regularizer_weight = l1_regularizer_weight,\n",
    "                                 l2_regularizer_weight = l2_regularizer_weight)\n",
    "    #encoder_model.get_layer(\"Question_Embedding\").set_weights([embedding_matrix])\n",
    "    #encoder_model.get_layer(\"Question_Embedding\").trainable = False\n",
    "    #encoder_model.get_layer(\"Context_Embedding\").set_weights([embedding_matrix])\n",
    "    #encoder_model.get_layer(\"Context_Embedding\").trainable = False\n",
    "    \n",
    "    #feasibility module\n",
    "    #feasibility_episodic_memory_input = Input(shape=(num_unit_gru,), name=\"FeasibilityEpisodicMemoryInput\")\n",
    "    feasibility_start_logits_input = Input(shape=(max_context_length,),name=\"FeasibilityStartLogitInput\")\n",
    "    feasibility_end_logits_input = Input(shape=(max_context_length),name=\"FeasibilityEndLogitInput\")\n",
    "    feasibility_context_input = Input(shape=(None,2*num_unit_gru,),name='feasibilityContext_Input')\n",
    "    feasibility_question_input = Input(shape=(2*num_unit_gru,),name='feasibilityQuestion_Input')\n",
    "    #create attention between Context and Question\n",
    "    #q_with_time_axis = tf.keras.backend.expand_dims(feasibility_question_input,1)\n",
    "    #attentionContextQuestion = layers.AdditiveAttention()([q_with_time_axis,\n",
    "    #                                                      feasibility_context_input])\n",
    "    #attentionContextQuestionReduced = tf.keras.backend.sum(attentionContextQuestion, axis=1)\n",
    "    #create Episodic memory \n",
    "    #Episodic Memory \n",
    "    episodic_weight_layer = layers.Dense(2*num_unit_gru,use_bias=False)\n",
    "    episodic_tanh_layer = layers.Dense(num_episodic_network_unit,activation='tanh')\n",
    "    episodic_score_layer = layers.Dense(1)\n",
    "    m = tf.identity(feasibility_question_input)\n",
    "    for i in range(num_episodes):\n",
    "        m_increased = tf.tile(tf.keras.backend.expand_dims(m,1),\n",
    "                              tf.constant([1,max_context_length,1],tf.int32))\n",
    "        q_increased = tf.tile(tf.keras.backend.expand_dims(feasibility_question_input,1),\n",
    "                              tf.constant([1,max_context_length,1],tf.int32))\n",
    "        c_mul_q = layers.multiply([feasibility_context_input,q_increased])\n",
    "        c_mul_m = layers.multiply([feasibility_context_input,m_increased])\n",
    "        c_minus_q =tf.keras.backend.abs(layers.subtract([feasibility_context_input,q_increased]))\n",
    "        c_minus_m = tf.keras.backend.abs(layers.subtract([feasibility_context_input,m_increased]))\n",
    "        c_dot_q = tf.matmul(tf.keras.backend.expand_dims(episodic_weight_layer(feasibility_question_input),1), \n",
    "                            feasibility_context_input,\n",
    "                            transpose_b=True)\n",
    "        c_dot_q = layers.Permute((2,1))(c_dot_q)\n",
    "        c_dot_m = tf.matmul(tf.keras.backend.expand_dims(episodic_weight_layer(m),1), \n",
    "                            feasibility_context_input,transpose_b=True)\n",
    "        c_dot_m = layers.Permute((2,1))(c_dot_m)\n",
    "        z = tf.concat([feasibility_context_input,\n",
    "                                m_increased,\n",
    "                                q_increased,\n",
    "                                c_mul_q,\n",
    "                                c_mul_m,\n",
    "                                c_minus_q,\n",
    "                                c_minus_m,\n",
    "                                c_dot_q,\n",
    "                                c_dot_m],axis=-1)\n",
    "        score = episodic_score_layer(episodic_tanh_layer(z))\n",
    "        attention_weights = tf.nn.softmax(score, axis=1)\n",
    "        m_value = attention_weights * feasibility_context_input\n",
    "        m = tf.reduce_sum(m_value, axis=1)\n",
    "    \n",
    "    \n",
    "    feasibility_dense_input = tf.concat([m,\n",
    "                                         feasibility_start_logits_input,\n",
    "                                         feasibility_end_logits_input],\n",
    "                                        axis=-1)\n",
    "    for i in range(num_dense_layers_feasibility):        \n",
    "        if i==0:\n",
    "            dense_layer = layers.Dense(num_dense_layer_feasibility_units,\n",
    "                                       activation='relu',\n",
    "                                       name='feasibility_layer_'+str(i),\n",
    "                                       kernel_regularizer=tf.keras.regularizers.l1_l2(\n",
    "                                                                                      l1_regularizer_weight,\n",
    "                                                                                      l2_regularizer_weight),\n",
    "                                        bias_regularizer=tf.keras.regularizers.l1_l2(\n",
    "                                                                                      l1_regularizer_weight,\n",
    "                                                                                      l2_regularizer_weight)\n",
    "                                      )(feasibility_dense_input)\n",
    "        else:\n",
    "            dense_layer = layers.Dense(num_dense_layer_feasibility_units,\n",
    "                                       activation='relu',\n",
    "                                       name='feasibility_layer_'+str(i),\n",
    "                                       kernel_regularizer=tf.keras.regularizers.l1_l2(\n",
    "                                                                                      l1_regularizer_weight,\n",
    "                                                                                      l2_regularizer_weight),\n",
    "                                        bias_regularizer=tf.keras.regularizers.l1_l2(\n",
    "                                                                                      l1_regularizer_weight,\n",
    "                                                                                      l2_regularizer_weight)\n",
    "                                      )(dense_layer)\n",
    "        dense_layer = layers.BatchNormalization()(dense_layer)\n",
    "        dropout_layer = layers.Dropout(dropout_rate,name='feasibility_drop_'+str(i))(dense_layer)\n",
    "\n",
    "    feasibility_output = layers.Dense(1,activation='sigmoid',\n",
    "                                      name='feasibility_output',\n",
    "                                      kernel_regularizer=tf.keras.regularizers.l1_l2(\n",
    "                                                                    l1_regularizer_weight,\n",
    "                                                                    l2_regularizer_weight),\n",
    "                                      bias_regularizer=tf.keras.regularizers.l1_l2(\n",
    "                                                                    l1_regularizer_weight,\n",
    "                                                                    l2_regularizer_weight))(dropout_layer)\n",
    "    feasibility_model = Model([feasibility_question_input,\n",
    "                               feasibility_context_input,\n",
    "                               feasibility_start_logits_input,\n",
    "                               feasibility_end_logits_input],\n",
    "                               feasibility_output)\n",
    "    \n",
    "    return (answer_model,encoder_model,feasibility_model)"
   ]
  },
  {
   "cell_type": "code",
   "execution_count": 11,
   "metadata": {},
   "outputs": [],
   "source": [
    "#Function to get sentences from the predicted answers\n",
    "def decode_sentence(context_input_seq,\n",
    "                     question_input_seq,\n",
    "                     encoder_model,\n",
    "                     answer_model):\n",
    "    decoded_sentence = \"\"\n",
    "    question_output,context_output = encoder_model(context_input_seq,question_input_seq) \n",
    "    \n",
    "    start_logits,end_logits = answer_model(question_output,context_output)\n",
    "    \n",
    "    #Do a outer matrix multiplication of the logits \n",
    "    # we need to get the start and end index with highest multiplication of start and end probs\n",
    "    outer = tf.matmul(tf.expand_dims(start_logits, axis=2),tf.expand_dims(end_logits, axis=0)) \n",
    "    outer = tf.linalg.band_part(outer, 0, answer_maxlen)\n",
    "    start_position = tf.argmax(tf.reduce_max(outer, axis=2),axis=1)    \n",
    "    end_position = tf.argmax(tf.reduce_max(outer, axis=1),axis=1)\n",
    "    #print(start_position.shape)\n",
    "    #print(end_position.shape)\n",
    "    #print(start_position)\n",
    "    #print(end_position)\n",
    "    \n",
    "    for i in range(start_position[0],end_position[0]+1):\n",
    "        sampled_token_index = context_input_seq[0,i]\n",
    "        if sampled_token_index == 0:\n",
    "            sampled_char = \"\"\n",
    "        else:\n",
    "            sampled_char = id_vocab[sampled_token_index]\n",
    "        if i == start_position[0]:\n",
    "            decoded_sentence += sampled_char\n",
    "        else:\n",
    "            decoded_sentence += \" \"+sampled_char\n",
    "    return decoded_sentence"
   ]
  },
  {
   "cell_type": "code",
   "execution_count": 12,
   "metadata": {},
   "outputs": [
    {
     "data": {
      "text/plain": [
       "{'Experiment0': {'num_unit_gru': 64,\n",
       "  'num_layers_gru': 2,\n",
       "  'num_episodes': 3,\n",
       "  'num_dense_layer_feasibility_units': 32,\n",
       "  'dropout_rate': 0.6,\n",
       "  'num_dense_layers_feasibility': 1,\n",
       "  'num_episodic_network_unit': 192,\n",
       "  'learning_rate': 0.001,\n",
       "  'l1_regularizer_weight': 0.01,\n",
       "  'l2_regularizer_weight': 0.01},\n",
       " 'Experiment1': {'num_unit_gru': 80,\n",
       "  'num_layers_gru': 2,\n",
       "  'num_episodes': 2,\n",
       "  'num_dense_layer_feasibility_units': 64,\n",
       "  'dropout_rate': 0.7,\n",
       "  'num_dense_layers_feasibility': 3,\n",
       "  'num_episodic_network_unit': 192,\n",
       "  'learning_rate': 0.005,\n",
       "  'l1_regularizer_weight': 0.0001,\n",
       "  'l2_regularizer_weight': 0.01},\n",
       " 'Experiment2': {'num_unit_gru': 100,\n",
       "  'num_layers_gru': 2,\n",
       "  'num_episodes': 3,\n",
       "  'num_dense_layer_feasibility_units': 64,\n",
       "  'dropout_rate': 0.5,\n",
       "  'num_dense_layers_feasibility': 1,\n",
       "  'num_episodic_network_unit': 64,\n",
       "  'learning_rate': 0.005,\n",
       "  'l1_regularizer_weight': 0.01,\n",
       "  'l2_regularizer_weight': 0.01},\n",
       " 'Experiment3': {'num_unit_gru': 80,\n",
       "  'num_layers_gru': 2,\n",
       "  'num_episodes': 2,\n",
       "  'num_dense_layer_feasibility_units': 32,\n",
       "  'dropout_rate': 0.7,\n",
       "  'num_dense_layers_feasibility': 3,\n",
       "  'num_episodic_network_unit': 192,\n",
       "  'learning_rate': 0.005,\n",
       "  'l1_regularizer_weight': 0.01,\n",
       "  'l2_regularizer_weight': 0.0001},\n",
       " 'Experiment4': {'num_unit_gru': 80,\n",
       "  'num_layers_gru': 2,\n",
       "  'num_episodes': 2,\n",
       "  'num_dense_layer_feasibility_units': 48,\n",
       "  'dropout_rate': 0.6,\n",
       "  'num_dense_layers_feasibility': 1,\n",
       "  'num_episodic_network_unit': 128,\n",
       "  'learning_rate': 0.005,\n",
       "  'l1_regularizer_weight': 0.001,\n",
       "  'l2_regularizer_weight': 0.001},\n",
       " 'Experiment5': {'num_unit_gru': 80,\n",
       "  'num_layers_gru': 2,\n",
       "  'num_episodes': 3,\n",
       "  'num_dense_layer_feasibility_units': 64,\n",
       "  'dropout_rate': 0.5,\n",
       "  'num_dense_layers_feasibility': 1,\n",
       "  'num_episodic_network_unit': 192,\n",
       "  'learning_rate': 0.005,\n",
       "  'l1_regularizer_weight': 0.001,\n",
       "  'l2_regularizer_weight': 0.0001},\n",
       " 'Experiment6': {'num_unit_gru': 64,\n",
       "  'num_layers_gru': 1,\n",
       "  'num_episodes': 1,\n",
       "  'num_dense_layer_feasibility_units': 64,\n",
       "  'dropout_rate': 0.5,\n",
       "  'num_dense_layers_feasibility': 1,\n",
       "  'num_episodic_network_unit': 80,\n",
       "  'learning_rate': 0.001,\n",
       "  'l1_regularizer_weight': 0.01,\n",
       "  'l2_regularizer_weight': 0.01},\n",
       " 'Experiment7': {'num_unit_gru': 48,\n",
       "  'num_layers_gru': 1,\n",
       "  'num_episodes': 1,\n",
       "  'num_dense_layer_feasibility_units': 32,\n",
       "  'dropout_rate': 0.5,\n",
       "  'num_dense_layers_feasibility': 1,\n",
       "  'num_episodic_network_unit': 64,\n",
       "  'learning_rate': 0.001,\n",
       "  'l1_regularizer_weight': 0.01,\n",
       "  'l2_regularizer_weight': 0.01}}"
      ]
     },
     "execution_count": 12,
     "metadata": {},
     "output_type": "execute_result"
    }
   ],
   "source": [
    "Experiment_Dic = {'Experiment0': {'num_unit_gru': 64,\n",
    "                                  'num_layers_gru': 2,\n",
    "                                  'num_episodes': 3,\n",
    "                                  'num_dense_layer_feasibility_units': 32,\n",
    "                                  'dropout_rate': 0.6,\n",
    "                                  'num_dense_layers_feasibility': 1,\n",
    "                                  'num_episodic_network_unit': 192,\n",
    "                                  'learning_rate': 0.001,\n",
    "                                  'l1_regularizer_weight':0.01,\n",
    "                                  'l2_regularizer_weight':0.01},\n",
    "                  'Experiment1': {'num_unit_gru': 80,\n",
    "                                  'num_layers_gru': 2,\n",
    "                                  'num_episodes': 2,\n",
    "                                  'num_dense_layer_feasibility_units': 64,\n",
    "                                  'dropout_rate': 0.7,\n",
    "                                  'num_dense_layers_feasibility': 3,\n",
    "                                  'num_episodic_network_unit': 192,\n",
    "                                  'learning_rate': 0.005,\n",
    "                                  'l1_regularizer_weight':0.0001,\n",
    "                                  'l2_regularizer_weight':0.01},\n",
    "                  'Experiment2': {'num_unit_gru': 100,\n",
    "                                  'num_layers_gru': 2,\n",
    "                                  'num_episodes': 3,\n",
    "                                  'num_dense_layer_feasibility_units': 64,\n",
    "                                  'dropout_rate': 0.5,\n",
    "                                  'num_dense_layers_feasibility': 1,\n",
    "                                  'num_episodic_network_unit': 64,\n",
    "                                  'learning_rate': 0.005,\n",
    "                                  'l1_regularizer_weight':0.01,\n",
    "                                  'l2_regularizer_weight':0.01},\n",
    "                  'Experiment3': {'num_unit_gru': 80,\n",
    "                                  'num_layers_gru': 2,\n",
    "                                  'num_episodes': 2,\n",
    "                                  'num_dense_layer_feasibility_units': 32,\n",
    "                                  'dropout_rate': 0.7,\n",
    "                                  'num_dense_layers_feasibility': 3,\n",
    "                                  'num_episodic_network_unit': 192,\n",
    "                                  'learning_rate': 0.005,\n",
    "                                  'l1_regularizer_weight':0.01,\n",
    "                                  'l2_regularizer_weight':0.0001},\n",
    "                  'Experiment4': {'num_unit_gru': 80,\n",
    "                                  'num_layers_gru': 2,\n",
    "                                  'num_episodes': 2,\n",
    "                                  'num_dense_layer_feasibility_units': 48,\n",
    "                                  'dropout_rate': 0.6,\n",
    "                                  'num_dense_layers_feasibility': 1,\n",
    "                                  'num_episodic_network_unit': 128,\n",
    "                                  'learning_rate': 0.005,\n",
    "                                  'l1_regularizer_weight':0.001,\n",
    "                                  'l2_regularizer_weight':0.001},\n",
    "                  'Experiment5': {'num_unit_gru': 80,\n",
    "                                  'num_layers_gru': 2,\n",
    "                                  'num_episodes': 3,\n",
    "                                  'num_dense_layer_feasibility_units': 64,\n",
    "                                  'dropout_rate': 0.5,\n",
    "                                  'num_dense_layers_feasibility': 1,\n",
    "                                  'num_episodic_network_unit': 192,\n",
    "                                  'learning_rate': 0.005,\n",
    "                                  'l1_regularizer_weight':0.001,\n",
    "                                  'l2_regularizer_weight':0.0001},\n",
    "                  'Experiment6': {'num_unit_gru': 64,\n",
    "                                  'num_layers_gru': 1,\n",
    "                                  'num_episodes': 1,\n",
    "                                  'num_dense_layer_feasibility_units': 64,\n",
    "                                  'dropout_rate': 0.5,\n",
    "                                  'num_dense_layers_feasibility': 1,\n",
    "                                  'num_episodic_network_unit': 80,\n",
    "                                  'learning_rate': 0.001,\n",
    "                                  'l1_regularizer_weight':0.01,\n",
    "                                  'l2_regularizer_weight':0.01},\n",
    "                  'Experiment7': {'num_unit_gru': 48,\n",
    "                                  'num_layers_gru': 1,\n",
    "                                  'num_episodes': 1,\n",
    "                                  'num_dense_layer_feasibility_units': 32,\n",
    "                                  'dropout_rate': 0.5,\n",
    "                                  'num_dense_layers_feasibility': 1,\n",
    "                                  'num_episodic_network_unit': 64,\n",
    "                                  'learning_rate': 0.001,\n",
    "                                  'l1_regularizer_weight':0.01,\n",
    "                                  'l2_regularizer_weight':0.01}\n",
    "                }\n",
    "Experiment_Dic"
   ]
  },
  {
   "cell_type": "code",
   "execution_count": 13,
   "metadata": {},
   "outputs": [],
   "source": [
    "def run_experiments(Experiment_Dic,\n",
    "                    Experiment_No,\n",
    "                    embedding_matrix,\n",
    "                    ndim = 100,\n",
    "                    tpu_enabled=0,\n",
    "                    num_training_samples=1024,\n",
    "                    num_validation_samples = 256,\n",
    "                    num_epochs = 50,\n",
    "                    batch_size = 10):\n",
    "    num_training_samples = int((num_training_samples//128)*128)\n",
    "    num_validation_samples = int((num_validation_samples//128)*128)\n",
    "    #get the experiment details\n",
    "    ExperimentNo = 'Experiment'+str(Experiment_No)\n",
    "    num_unit_gru = Experiment_Dic[ExperimentNo]['num_unit_gru']\n",
    "    num_layers_gru = Experiment_Dic[ExperimentNo]['num_layers_gru']\n",
    "    num_episodes = Experiment_Dic[ExperimentNo]['num_episodes']\n",
    "    num_dense_layer_feasibility_units = Experiment_Dic[ExperimentNo]['num_dense_layer_feasibility_units']\n",
    "    dropout_rate = Experiment_Dic[ExperimentNo]['dropout_rate']\n",
    "    num_dense_layers_feasibility = Experiment_Dic[ExperimentNo]['num_dense_layers_feasibility']\n",
    "    num_episodic_network_unit = Experiment_Dic[ExperimentNo]['num_episodic_network_unit']\n",
    "    learning_rate = Experiment_Dic[ExperimentNo]['learning_rate']\n",
    "    l1_regularizer_weight = Experiment_Dic[ExperimentNo]['l1_regularizer_weight']\n",
    "    l2_regularizer_weight = Experiment_Dic[ExperimentNo]['l2_regularizer_weight']\n",
    "        \n",
    "    if tpu_enabled==0:\n",
    "        #When GPU ENABLED\n",
    "        answer_model,\\\n",
    "        encoder_model,\\\n",
    "        feasibility_model = create_models(\n",
    "                                      embedding_matrix = embedding_matrix,\n",
    "                                      max_context_length = context_maxlen,\n",
    "                                      max_question_length = question_maxlen,\n",
    "                                      max_answer_length = answer_maxlen,\n",
    "                                      num_unit_gru = num_unit_gru,\n",
    "                                      num_layers_gru = num_layers_gru,\n",
    "                                      ndim =ndim,\n",
    "                                      num_episodes = num_episodes,\n",
    "                                      num_dense_layer_feasibility_units = num_dense_layer_feasibility_units,\n",
    "                                      dropout_rate = dropout_rate,\n",
    "                                      num_dense_layers_feasibility = num_dense_layers_feasibility,\n",
    "                                      num_episodic_network_unit = num_episodic_network_unit,\n",
    "                                      l1_regularizer_weight = l1_regularizer_weight,\n",
    "                                      l2_regularizer_weight = l2_regularizer_weight)\n",
    "\n",
    "        adam_optim = keras.optimizers.Adam(learning_rate=learning_rate)\n",
    "        #encoder_model.compile(optimizer=adam_optim,\n",
    "        #                      loss=tf.keras.losses.SparseCategoricalCrossentropy(),\n",
    "        #                      metrics=[tf.keras.metrics.SparseCategoricalAccuracy()])\n",
    "        #encoder_model.summary()\n",
    "        #answer_model.compile(optimizer=adam_optim,\n",
    "        #                           loss=tf.keras.losses.SparseCategoricalCrossentropy(),\n",
    "        #                           metrics=[tf.keras.metrics.SparseCategoricalAccuracy()]\n",
    "        #                        )\n",
    "        #\n",
    "        #answer_model.summary()\n",
    "        feasibility_model.compile(optimizer=adam_optim,\n",
    "                                   loss=tf.keras.losses.BinaryCrossentropy(),\n",
    "                                   metrics=[tf.keras.metrics.BinaryAccuracy()]\n",
    "                                   )\n",
    "        #feasibility_model.summary()\n",
    "    else: \n",
    "        resolver = tf.distribute.cluster_resolver.TPUClusterResolver(tpu='grpc://' +\n",
    "                                                                     os.environ['COLAB_TPU_ADDR'])\n",
    "        tf.config.experimental_connect_to_cluster(resolver)\n",
    "        tf.tpu.experimental.initialize_tpu_system(resolver)\n",
    "        strategy = tf.distribute.experimental.TPUStrategy(resolver)\n",
    "        batch_size = 128*8\n",
    "        with strategy.scope():\n",
    "            answer_model,\\\n",
    "            encoder_model,\\\n",
    "            feasibility_model = create_models(\n",
    "                                          embedding_matrix = embedding_matrix,\n",
    "                                          max_context_length = context_maxlen,\n",
    "                                          max_question_length = question_maxlen,\n",
    "                                          max_answer_length = answer_maxlen,\n",
    "                                          num_unit_gru = num_unit_gru,\n",
    "                                          num_layers_gru = num_layers_gru,\n",
    "                                          ndim =ndim,\n",
    "                                          num_episodes = num_episodes,\n",
    "                                          num_dense_layer_feasibility_units = \n",
    "                                                        num_dense_layer_feasibility_units,\n",
    "                                          dropout_rate = dropout_rate,\n",
    "                                          num_dense_layers_feasibility = num_dense_layers_feasibility,\n",
    "                                          num_episodic_network_unit = num_episodic_network_unit,\n",
    "                                         l1_regularizer_weight = l1_regularizer_weight,\n",
    "                                         l2_regularizer_weight = l2_regularizer_weight)\n",
    "\n",
    "            adam_optim = keras.optimizers.Adam(learning_rate=learning_rate)\n",
    "            #encoder_model.compile(optimizer=adam_optim,\n",
    "            #                  loss=tf.keras.losses.SparseCategoricalCrossentropy(),\n",
    "            #                  metrics=[tf.keras.metrics.SparseCategoricalAccuracy()])\n",
    "            #encoder_model.summary()\n",
    "            #\n",
    "            #answer_model.compile(optimizer=adam_optim,\n",
    "            #                           loss=tf.keras.losses.SparseCategoricalCrossentropy(),\n",
    "            #                           metrics=[tf.keras.metrics.SparseCategoricalAccuracy()]\n",
    "            #                    )\n",
    "\n",
    "            #answer_model.summary()\n",
    "            feasibility_model.compile(optimizer=adam_optim,\n",
    "                                       loss=tf.keras.losses.BinaryCrossentropy(),\n",
    "                                       metrics=[tf.keras.metrics.BinaryAccuracy()]\n",
    "                                       )\n",
    "            #feasibility_model.summary()\n",
    "    #Train the Answer Model and Encoder Model\n",
    "    answer_optimizer = tf.keras.optimizers.Adam(learning_rate=learning_rate)\n",
    "    answer_loss_object = tf.keras.losses.CategoricalCrossentropy(from_logits=True, reduction='none')\n",
    "    train_acc_metric = keras.metrics.CategoricalAccuracy()\n",
    "    val_acc_metric = keras.metrics.CategoricalAccuracy()\n",
    "    @tf.function\n",
    "    def answer_loss_function(real_start, real_end,pred_start,pred_end):\n",
    "        \n",
    "        start_loss = answer_loss_object(real_start,pred_start)\n",
    "        end_loss = answer_loss_object(real_end,pred_end)\n",
    "        return tf.reduce_mean(start_loss+end_loss)\n",
    "\n",
    "    @tf.function\n",
    "    def answer_train_step(inp,ques,targ_start,targ_end,encoder_model,answer_model):\n",
    "        loss = 0\n",
    "        batch_loss = 0\n",
    "        with tf.GradientTape() as tape:\n",
    "            question_output,context_output = encoder_model(inp,ques)\n",
    "            start_logits,end_logits = answer_model(question_output,context_output)\n",
    "            loss += answer_loss_function(targ_start,targ_end,start_logits,end_logits)\n",
    "            batch_loss = loss\n",
    "            train_acc_metric(targ_start,start_logits)\n",
    "            train_acc_metric(targ_end,end_logits)\n",
    "            variables = encoder_model.trainable_variables + answer_model.trainable_variables\n",
    "            gradients = tape.gradient(loss, variables)\n",
    "            answer_optimizer.apply_gradients(zip(gradients, variables))\n",
    "        return batch_loss\n",
    "\n",
    "    @tf.function\n",
    "    def answer_val_step(inp,ques,targ_start,targ_end,encoder_model,answer_model):\n",
    "        loss = 0\n",
    "        question_output,context_output = encoder_model(inp,ques)\n",
    "        start_logits,end_logits = answer_model(question_output,context_output)\n",
    "        loss += answer_loss_function(targ_start,targ_end,start_logits,end_logits)\n",
    "        batch_loss = loss\n",
    "        val_acc_metric(targ_start,start_logits)\n",
    "        val_acc_metric(targ_end,end_logits)\n",
    "        \n",
    "        return batch_loss\n",
    "    #Create batches for training only include where its possible to answer\n",
    "    #\n",
    "    #c = b==1\n",
    "    #a[c][:3]\n",
    "    train_ans_cond = train_answer_impossible==0\n",
    "    val_ans_cond = val_answer_impossible==0\n",
    "    #make sure that training samples and validation samples are divisible by 1024\n",
    "    num_training_samples_upd = int((train_context_padded_seq[train_ans_cond][:num_training_samples].shape[0]//1024)\n",
    "                                   *1024)\n",
    "    \n",
    "    num_validation_samples_upd = int((val_context_padded_seq[val_ans_cond][:num_validation_samples].shape[0]//1024)\n",
    "                                   *1024)\n",
    "    TRAIN_BUFFER_SIZE = train_context_padded_seq[train_ans_cond][:num_training_samples_upd].shape[0]\n",
    "    VAL_BUFFER_SIZE = val_context_padded_seq[val_ans_cond][:num_validation_samples_upd].shape[0]\n",
    "    steps_per_epoch = TRAIN_BUFFER_SIZE//batch_size\n",
    "    steps_per_epoch_val = VAL_BUFFER_SIZE//batch_size\n",
    "    train_dataset = tf.data.Dataset.from_tensor_slices((train_context_padded_seq[train_ans_cond][:num_training_samples_upd],\n",
    "                                                        train_question_seq_padded[train_ans_cond][:num_training_samples_upd],\n",
    "                                                        train_answer_seq_padded[train_ans_cond][:num_training_samples_upd],\n",
    "                                                        train_answer_input_seq_padded[train_ans_cond][:num_training_samples_upd],\n",
    "                                                        train_answer_target_seq_padded[train_ans_cond][:num_training_samples_upd],\n",
    "                                                        train_answer_impossible[train_ans_cond][:num_training_samples_upd],\n",
    "                                                        train_answer_start_seq_padded[train_ans_cond][:num_training_samples_upd],\n",
    "                                                        train_answer_end_seq_padded[train_ans_cond][:num_training_samples_upd]\n",
    "                                                       ))\\\n",
    "                                   .shuffle(TRAIN_BUFFER_SIZE,reshuffle_each_iteration=True)\n",
    "    train_dataset = train_dataset.batch(batch_size, drop_remainder=True)\n",
    "\n",
    "    val_dataset = tf.data.Dataset.from_tensor_slices((val_context_padded_seq[val_ans_cond][:num_validation_samples_upd],\n",
    "                                                      val_question_seq_padded[val_ans_cond][:num_validation_samples_upd],\n",
    "                                                      val_answer_seq_padded[val_ans_cond][:num_validation_samples_upd],\n",
    "                                                      val_answer_input_seq_padded[val_ans_cond][:num_validation_samples_upd],\n",
    "                                                      val_answer_target_seq_padded[val_ans_cond][:num_validation_samples_upd],\n",
    "                                                      val_answer_impossible[val_ans_cond][:num_validation_samples_upd],\n",
    "                                                      val_answer_start_seq_padded[val_ans_cond][:num_validation_samples_upd],\n",
    "                                                      val_answer_end_seq_padded[val_ans_cond][:num_validation_samples_upd]\n",
    "                                                     ))\n",
    "    val_dataset = val_dataset.batch(batch_size,drop_remainder=True)\n",
    "    \n",
    "    #Run Epochs\n",
    "    \n",
    "    history_answer_model = {'loss':[],\n",
    "                            'categorical_accuracy':[],\n",
    "                            'val_loss':[],\n",
    "                            'val_categorical_accuracy':[]}\n",
    "\n",
    "    tqdm.write(\"\\nTraining the answer model:\")\n",
    "    for epoch in range(num_epochs):\n",
    "        start = time.time()\n",
    "\n",
    "        total_loss = 0\n",
    "        total_val_loss = 0\n",
    "        tqdm.write('Epoch {}/{}'.format(epoch + 1, num_epochs))\n",
    "        for (batch, (batch_train_context_padded_seq,\n",
    "                     batch_train_question_seq_padded,\n",
    "                     batch_train_answer_seq_padded,\n",
    "                     batch_train_answer_input_seq_padded,\n",
    "                     batch_train_answer_target_seq_padded,\n",
    "                     batch_train_answer_impossible,\n",
    "                     batch_train_answer_start_seq_padded,\n",
    "                     batch_train_answer_end_seq_padded)) in tqdm(enumerate(train_dataset.take(steps_per_epoch)),\n",
    "                                                             total = num_training_samples_upd//batch_size,\n",
    "                                                             desc=\"[Training Answer]\"):\n",
    "            batch_loss = answer_train_step(batch_train_context_padded_seq,\n",
    "                                           batch_train_question_seq_padded,\n",
    "                                           batch_train_answer_start_seq_padded,\n",
    "                                           batch_train_answer_end_seq_padded,\n",
    "                                           encoder_model,\n",
    "                                           answer_model)\n",
    "            total_loss += batch_loss\n",
    "            #if batch % 50 == 0:\n",
    "            #    print('=t',end='')\n",
    "\n",
    "        epoch_training_loss = total_loss / steps_per_epoch\n",
    "        epoch_training_accuracy = train_acc_metric.result()\n",
    "        tqdm.write('\\nEpoch {} - Train Loss {:.4f} Train Accuracy {:.4f}'.format(epoch + 1,\n",
    "                                                                                 epoch_training_loss, \n",
    "                                                                                 epoch_training_accuracy))\n",
    "        train_acc_metric.reset_states()\n",
    "        #print('')\n",
    "        #print('Epoch {} Train Loss {:.4f}'.format(epoch + 1,epoch_training_loss),end=' ')\n",
    "        #print('Epoch {} Train Accuracy {:.4f}'.format(epoch + 1,epoch_training_accuracy))\n",
    "        \n",
    "        \n",
    "        for (batch, (batch_val_context_padded_seq,\n",
    "                     batch_val_question_seq_padded,\n",
    "                     batch_val_answer_seq_padded,\n",
    "                     batch_val_answer_input_seq_padded,\n",
    "                     batch_val_answer_target_seq_padded,\n",
    "                     batch_val_answer_impossible,\n",
    "                     batch_val_answer_start_seq_padded,\n",
    "                     batch_val_answer_end_seq_padded)) in tqdm(enumerate(val_dataset.take(steps_per_epoch_val)),\n",
    "                                                           total = num_validation_samples_upd//batch_size,\n",
    "                                                           desc=\"[Validating Answer]\"):\n",
    "            batch_loss = answer_val_step(batch_val_context_padded_seq,\n",
    "                                         batch_val_question_seq_padded,\n",
    "                                         batch_val_answer_start_seq_padded,\n",
    "                                         batch_val_answer_end_seq_padded,\n",
    "                                         encoder_model,\n",
    "                                         answer_model)\n",
    "            total_val_loss += batch_loss\n",
    "            #if batch % 50 == 0:\n",
    "            #    print('=v',end='')\n",
    "\n",
    "        epoch_val_loss = total_val_loss / steps_per_epoch_val\n",
    "        epoch_val_accuracy = val_acc_metric.result()\n",
    "        tqdm.write('\\nEpoch {} - Validation Loss {:.4f} Validation Accuracy {:.4f}'.format(epoch + 1,\n",
    "                                                                                           epoch_val_loss, \n",
    "                                                                                           epoch_val_accuracy))\n",
    "        val_acc_metric.reset_states()\n",
    "        #print('')\n",
    "        #print('Epoch {} Validation Loss {:.4f}'.format(epoch + 1,epoch_val_loss),end=' ')\n",
    "        #print('Epoch {} Validation Accuracy {:.4f}'.format(epoch + 1,epoch_val_accuracy))\n",
    "        \n",
    "        \n",
    "        history_answer_model['loss'].append(epoch_training_loss)\n",
    "        history_answer_model['categorical_accuracy'].append(epoch_training_accuracy)\n",
    "        history_answer_model['val_loss'].append(epoch_val_loss)\n",
    "        history_answer_model['val_categorical_accuracy'].append(epoch_val_accuracy)\n",
    "        \n",
    "        #print('Time taken for epoch {} sec\\n'.format(time.time() - start))\n",
    "        tqdm.write('Time taken for epoch {} sec\\n'.format(time.time() - start))\n",
    "    \n",
    "    answer_model.save_weights(ExperimentNo+'span2_model_answer_model.h5')\n",
    "    encoder_model.save_weights(ExperimentNo+'span2_model_encoder_model.h5')\n",
    "    with open(ExperimentNo+'span2_model_'+'history_answer_model', 'wb') as file_history:\n",
    "        pickle.dump(history_answer_model, file_history)\n",
    "        \n",
    "    \n",
    "    #Train the Feasibility Model\n",
    "    \n",
    "    #Create batches for training including where answer is impossible\n",
    "    \n",
    "    TRAIN_BUFFER_SIZE = train_context_padded_seq[:num_training_samples].shape[0]\n",
    "    VAL_BUFFER_SIZE = val_context_padded_seq[:num_validation_samples].shape[0]\n",
    "    steps_per_epoch = TRAIN_BUFFER_SIZE//batch_size\n",
    "    steps_per_epoch_val = VAL_BUFFER_SIZE//batch_size\n",
    "    train_dataset = tf.data.Dataset.from_tensor_slices((train_context_padded_seq[:num_training_samples],\n",
    "                                                        train_question_seq_padded[:num_training_samples],\n",
    "                                                        train_answer_seq_padded[:num_training_samples],\n",
    "                                                        train_answer_input_seq_padded[:num_training_samples],\n",
    "                                                        train_answer_target_seq_padded[:num_training_samples],\n",
    "                                                        train_answer_impossible[:num_training_samples],\n",
    "                                                        train_answer_start_seq_padded[:num_training_samples],\n",
    "                                                        train_answer_end_seq_padded[:num_training_samples]\n",
    "                                                       ))\\\n",
    "                                   .shuffle(TRAIN_BUFFER_SIZE,reshuffle_each_iteration=True)\n",
    "    train_dataset = train_dataset.batch(batch_size, drop_remainder=True)\n",
    "\n",
    "    val_dataset = tf.data.Dataset.from_tensor_slices((val_context_padded_seq[:num_validation_samples],\n",
    "                                                      val_question_seq_padded[:num_validation_samples],\n",
    "                                                      val_answer_seq_padded[:num_validation_samples],\n",
    "                                                      val_answer_input_seq_padded[:num_validation_samples],\n",
    "                                                      val_answer_target_seq_padded[:num_validation_samples],\n",
    "                                                      val_answer_impossible[:num_validation_samples],\n",
    "                                                      val_answer_start_seq_padded[:num_validation_samples],\n",
    "                                                      val_answer_end_seq_padded[:num_validation_samples]\n",
    "                                                     ))\n",
    "    val_dataset = val_dataset.batch(batch_size,drop_remainder=True)\n",
    "    \n",
    "    feasibility_optimizer = tf.keras.optimizers.Adam(learning_rate=learning_rate)\n",
    "    feasibility_loss_object = tf.keras.losses.BinaryCrossentropy(reduction='none')\n",
    "    feasibility_train_acc_metric = tf.keras.metrics.BinaryAccuracy()\n",
    "    feasibility_val_acc_metric = tf.keras.metrics.BinaryAccuracy()\n",
    "    @tf.function\n",
    "    def feasibility_loss_function(y_true,y_pred):\n",
    "        \n",
    "        loss = feasibility_loss_object(y_true,y_pred)\n",
    "        return tf.reduce_mean(loss)\n",
    "\n",
    "    @tf.function\n",
    "    def feasibility_train_step(inp,ques,feasibility_true,encoder_model,answer_model,feasibility_model):\n",
    "        loss = 0\n",
    "        batch_loss = 0\n",
    "        question_output,context_output = encoder_model(inp,ques)\n",
    "        start_logits,end_logits = answer_model(question_output,context_output)        \n",
    "        with tf.GradientTape() as tape:            \n",
    "            feasibility_pred = feasibility_model([question_output,\n",
    "                                                  context_output,\n",
    "                                                  start_logits,\n",
    "                                                  end_logits])\n",
    "            loss += feasibility_loss_function(feasibility_true,feasibility_pred)\n",
    "            batch_loss = loss\n",
    "            feasibility_train_acc_metric(feasibility_true,feasibility_pred)\n",
    "            variables = feasibility_model.trainable_variables\n",
    "            gradients = tape.gradient(loss, variables)\n",
    "            feasibility_optimizer.apply_gradients(zip(gradients, variables))\n",
    "        return batch_loss\n",
    "\n",
    "    @tf.function\n",
    "    def feasibility_val_step(inp,ques,feasibility_true,encoder_model,answer_model,feasibility_model):\n",
    "        loss = 0\n",
    "        question_output,context_output = encoder_model(inp,ques)\n",
    "        start_logits,end_logits = answer_model(question_output,context_output)         \n",
    "        feasibility_pred = feasibility_model([question_output,\n",
    "                                              context_output,\n",
    "                                              start_logits,\n",
    "                                              end_logits])\n",
    "        loss += feasibility_loss_function(feasibility_true,feasibility_pred)\n",
    "        batch_loss = loss\n",
    "        feasibility_val_acc_metric(feasibility_true,feasibility_pred)\n",
    "        return batch_loss\n",
    "    #Run Epochs\n",
    "    \n",
    "    history_feasibility_model = {'loss':[],\n",
    "                            'binary_accuracy':[],\n",
    "                            'val_loss':[],\n",
    "                            'val_binary_accuracy':[]}\n",
    "\n",
    "    tqdm.write(\"\\nTraining the Feasibility model:\")\n",
    "    for epoch in range(num_epochs):\n",
    "        start = time.time()\n",
    "\n",
    "        total_loss = 0\n",
    "        total_val_loss = 0\n",
    "        tqdm.write('Epoch {}/{}'.format(epoch + 1, num_epochs))\n",
    "        for (batch, (batch_train_context_padded_seq,\n",
    "                     batch_train_question_seq_padded,\n",
    "                     batch_train_answer_seq_padded,\n",
    "                     batch_train_answer_input_seq_padded,\n",
    "                     batch_train_answer_target_seq_padded,\n",
    "                     batch_train_answer_impossible,\n",
    "                     batch_train_answer_start_seq_padded,\n",
    "                     batch_train_answer_end_seq_padded)) in tqdm(enumerate(train_dataset.take(steps_per_epoch)),\n",
    "                                                             total = num_training_samples//batch_size,\n",
    "                                                             desc=\"[Training Feasibility]\"):\n",
    "            batch_loss = feasibility_train_step(batch_train_context_padded_seq,\n",
    "                                                batch_train_question_seq_padded,\n",
    "                                                batch_train_answer_impossible,\n",
    "                                                encoder_model,\n",
    "                                                answer_model,\n",
    "                                                feasibility_model)\n",
    "            total_loss += batch_loss\n",
    "            #if batch % 50 == 0:\n",
    "            #    print('=t',end='')\n",
    "\n",
    "        epoch_training_loss = total_loss / steps_per_epoch\n",
    "        epoch_training_accuracy = feasibility_train_acc_metric.result()\n",
    "        tqdm.write('\\nEpoch {} - Train Loss {:.4f} Train Accuracy {:.4f}'.format(epoch + 1,\n",
    "                                                                                 epoch_training_loss, \n",
    "                                                                                 epoch_training_accuracy))\n",
    "        feasibility_train_acc_metric.reset_states()\n",
    "        #print('')\n",
    "        #print('Epoch {} Train Loss {:.4f}'.format(epoch + 1,epoch_training_loss),end=' ')\n",
    "        #print('Epoch {} Train Accuracy {:.4f}'.format(epoch + 1,epoch_training_accuracy))\n",
    "        \n",
    "        \n",
    "        for (batch, (batch_val_context_padded_seq,\n",
    "                     batch_val_question_seq_padded,\n",
    "                     batch_val_answer_seq_padded,\n",
    "                     batch_val_answer_input_seq_padded,\n",
    "                     batch_val_answer_target_seq_padded,\n",
    "                     batch_val_answer_impossible,\n",
    "                     batch_val_answer_start_seq_padded,\n",
    "                     batch_val_answer_end_seq_padded)) in tqdm(enumerate(val_dataset.take(steps_per_epoch_val)),\n",
    "                                                           total = num_validation_samples//batch_size,\n",
    "                                                           desc=\"[Validating Feasibility]\"):\n",
    "            batch_loss = feasibility_val_step(batch_val_context_padded_seq,\n",
    "                                              batch_val_question_seq_padded,\n",
    "                                              batch_val_answer_impossible,\n",
    "                                              encoder_model,\n",
    "                                              answer_model,\n",
    "                                              feasibility_model)\n",
    "            total_val_loss += batch_loss\n",
    "            #if batch % 50 == 0:\n",
    "            #    print('=v',end='')\n",
    "\n",
    "        epoch_val_loss = total_val_loss / steps_per_epoch_val\n",
    "        epoch_val_accuracy = feasibility_val_acc_metric.result()\n",
    "        tqdm.write('\\nEpoch {} - Validation Loss {:.4f} Validation Accuracy {:.4f}'.format(epoch + 1,\n",
    "                                                                                           epoch_val_loss, \n",
    "                                                                                           epoch_val_accuracy))\n",
    "        feasibility_val_acc_metric.reset_states()\n",
    "        #print('')\n",
    "        #print('Epoch {} Validation Loss {:.4f}'.format(epoch + 1,epoch_val_loss),end=' ')\n",
    "        #print('Epoch {} Validation Accuracy {:.4f}'.format(epoch + 1,epoch_val_accuracy))\n",
    "        \n",
    "        \n",
    "        history_feasibility_model['loss'].append(epoch_training_loss)\n",
    "        history_feasibility_model['binary_accuracy'].append(epoch_training_accuracy)\n",
    "        history_feasibility_model['val_loss'].append(epoch_val_loss)\n",
    "        history_feasibility_model['val_binary_accuracy'].append(epoch_val_accuracy)\n",
    "        \n",
    "        #print('Time taken for epoch {} sec\\n'.format(time.time() - start))\n",
    "        tqdm.write('Time taken for epoch {} sec\\n'.format(time.time() - start))\n",
    "    \n",
    "    feasibility_model.save(ExperimentNo+'span2_model_feasibility_model.h5')\n",
    "    with open(ExperimentNo+'span2_model_'+'history_feasibility_model', 'wb') as file_history:\n",
    "        pickle.dump(history_feasibility_model, file_history)\n",
    "    \n",
    "    \"\"\"\n",
    "        \n",
    "    train_question_output,\\\n",
    "    train_context_output = encoder_model(train_context_padded_seq[:num_training_samples],\n",
    "                                         train_question_seq_padded[:num_training_samples])\n",
    "    \n",
    "    train_start_logits,train_end_logits = answer_model(train_question_output,train_context_output)\n",
    "    \n",
    "    val_question_output,\\\n",
    "    val_context_output = encoder_model(val_context_padded_seq[:num_validation_samples],\n",
    "                                                           val_question_seq_padded[:num_validation_samples])\n",
    "    \n",
    "    val_start_logits,val_end_logits = answer_model(val_question_output,val_context_output)\n",
    "    \n",
    "    \n",
    "    print(\"training the feasibility model\")\n",
    "    history_feasibility_model = feasibility_model.fit([train_question_output,\n",
    "                                                       train_context_output,\n",
    "                                                       train_start_logits,\n",
    "                                                       train_end_logits],\n",
    "                                                      train_answer_impossible[:num_training_samples],\n",
    "                                                      epochs=num_epochs,\n",
    "                                                      batch_size=batch_size,\n",
    "                                                      validation_data = \n",
    "                                                            ([val_question_output,\n",
    "                                                              val_context_output,\n",
    "                                                              val_start_logits,\n",
    "                                                              val_end_logits],\n",
    "                                                             val_answer_impossible[:num_validation_samples])\n",
    "                                                      )\n",
    "\n",
    "\n",
    "\n",
    "    feasibility_model.save(ExperimentNo+'span2_model_feasibility_model.h5')\n",
    "    with open(ExperimentNo+'span2_model_'+'history_feasibility_model', 'wb') as file_history:\n",
    "        pickle.dump(history_feasibility_model.history, file_history)\n",
    "    \"\"\"\n",
    "    "
   ]
  },
  {
   "cell_type": "code",
   "execution_count": 14,
   "metadata": {},
   "outputs": [],
   "source": [
    "def create_inference_model(Experiment_Dic,\n",
    "                           Experiment_No,\n",
    "                           embedding_matrix,\n",
    "                           ndim = 100):\n",
    "    ExperimentNo = 'Experiment'+str(Experiment_No)\n",
    "    num_unit_gru = Experiment_Dic[ExperimentNo]['num_unit_gru']\n",
    "    num_layers_gru = Experiment_Dic[ExperimentNo]['num_layers_gru']\n",
    "    num_episodes = Experiment_Dic[ExperimentNo]['num_episodes']\n",
    "    num_dense_layer_feasibility_units = Experiment_Dic[ExperimentNo]['num_dense_layer_feasibility_units']\n",
    "    dropout_rate = Experiment_Dic[ExperimentNo]['dropout_rate']\n",
    "    num_dense_layers_feasibility = Experiment_Dic[ExperimentNo]['num_dense_layers_feasibility']\n",
    "    num_episodic_network_unit = Experiment_Dic[ExperimentNo]['num_episodic_network_unit']\n",
    "    learning_rate = Experiment_Dic[ExperimentNo]['learning_rate']\n",
    "    l1_regularizer_weight = Experiment_Dic[ExperimentNo]['l1_regularizer_weight']\n",
    "    l2_regularizer_weight = Experiment_Dic[ExperimentNo]['l2_regularizer_weight']\n",
    "    inference_answer_model,\\\n",
    "    inference_encoder_model,\\\n",
    "    inference_feasibility_model = create_models(\n",
    "                                          embedding_matrix = embedding_matrix,\n",
    "                                          max_context_length = context_maxlen,\n",
    "                                          max_question_length = question_maxlen,\n",
    "                                          max_answer_length = answer_maxlen,\n",
    "                                          num_unit_gru = num_unit_gru,\n",
    "                                          num_layers_gru = num_layers_gru,\n",
    "                                          ndim =ndim,\n",
    "                                          num_episodes = num_episodes,\n",
    "                                          num_dense_layer_feasibility_units = num_dense_layer_feasibility_units,\n",
    "                                          dropout_rate = dropout_rate,\n",
    "                                          num_dense_layers_feasibility = num_dense_layers_feasibility,\n",
    "                                          num_episodic_network_unit = num_episodic_network_unit,\n",
    "                                          l1_regularizer_weight = l1_regularizer_weight,\n",
    "                                          l2_regularizer_weight = l2_regularizer_weight )\n",
    "\n",
    "    # train on 1 row so that weights can be loaded \n",
    "    #Train the Answer Model and Encoder Model\n",
    "    inference_answer_optimizer = tf.keras.optimizers.Adam(learning_rate=learning_rate)\n",
    "    inference_answer_loss_object = tf.keras.losses.CategoricalCrossentropy(from_logits=True, \n",
    "                                                                           reduction='none')\n",
    "    @tf.function\n",
    "    def inference_answer_loss_function(real_start, real_end,pred_start,pred_end):\n",
    "        \n",
    "        start_loss = inference_answer_loss_object(real_start,pred_start)\n",
    "        end_loss = inference_answer_loss_object(real_end,pred_end)\n",
    "        return tf.reduce_mean(start_loss+end_loss)\n",
    "\n",
    "    @tf.function\n",
    "    def inference_answer_train_step(inp,ques,targ_start,targ_end,encoder_model,answer_model):\n",
    "        loss = 0\n",
    "        with tf.GradientTape() as tape:\n",
    "            question_output,context_output = encoder_model(inp,ques)\n",
    "            start_logits,end_logits = answer_model(question_output,context_output)\n",
    "            loss += inference_answer_loss_function(targ_start,targ_end,start_logits,end_logits)\n",
    "            batch_loss = loss/inp.shape[0]\n",
    "            #train_acc_metric(targ_start,start_logits)\n",
    "            #train_acc_metric(targ_end,end_logits)\n",
    "            variables = encoder_model.trainable_variables + answer_model.trainable_variables\n",
    "            gradients = tape.gradient(loss, variables)\n",
    "            inference_answer_optimizer.apply_gradients(zip(gradients, variables))\n",
    "            return batch_loss\n",
    "\n",
    "        \n",
    "        \n",
    "    \n",
    "    \n",
    "    inference_answer_train_step(train_context_padded_seq[:1],\n",
    "                              train_question_seq_padded[:1],\n",
    "                              train_answer_start_seq_padded[:1],\n",
    "                              train_answer_end_seq_padded[:1],\n",
    "                              inference_encoder_model,\n",
    "                              inference_answer_model)\n",
    "        \n",
    "    inference_answer_model.load_weights(ExperimentNo+'span2_model_answer_model.h5')\n",
    "    inference_encoder_model.load_weights(ExperimentNo+'span2_model_encoder_model.h5')\n",
    "    inference_feasibility_model.load_weights(ExperimentNo+'span2_model_feasibility_model.h5')\n",
    "    return (inference_answer_model,inference_encoder_model,inference_feasibility_model)"
   ]
  },
  {
   "cell_type": "code",
   "execution_count": 34,
   "metadata": {
    "scrolled": false
   },
   "outputs": [
    {
     "name": "stderr",
     "output_type": "stream",
     "text": [
      "\r",
      "[Training Answer]:   0%|          | 0/320 [00:00<?, ?it/s]"
     ]
    },
    {
     "name": "stdout",
     "output_type": "stream",
     "text": [
      "\n",
      "Training the answer model:\n",
      "Epoch 1/50\n"
     ]
    },
    {
     "name": "stderr",
     "output_type": "stream",
     "text": [
      "[Training Answer]: 100%|██████████| 320/320 [03:59<00:00,  1.34it/s]\n",
      "[Validating Answer]:   0%|          | 0/32 [00:00<?, ?it/s]"
     ]
    },
    {
     "name": "stdout",
     "output_type": "stream",
     "text": [
      "\n",
      "Epoch 1 - Train Loss 7.9049 Train Accuracy 0.1331\n"
     ]
    },
    {
     "name": "stderr",
     "output_type": "stream",
     "text": [
      "[Validating Answer]: 100%|██████████| 32/32 [00:07<00:00,  4.53it/s]\n",
      "[Training Answer]:   0%|          | 0/320 [00:00<?, ?it/s]"
     ]
    },
    {
     "name": "stdout",
     "output_type": "stream",
     "text": [
      "\n",
      "Epoch 1 - Validation Loss 6.7952 Validation Accuracy 0.1866\n",
      "Time taken for epoch 246.8091218471527 sec\n",
      "\n",
      "Epoch 2/50\n"
     ]
    },
    {
     "name": "stderr",
     "output_type": "stream",
     "text": [
      "[Training Answer]: 100%|██████████| 320/320 [03:53<00:00,  1.37it/s]\n",
      "[Validating Answer]:   3%|▎         | 1/32 [00:00<00:05,  5.48it/s]"
     ]
    },
    {
     "name": "stdout",
     "output_type": "stream",
     "text": [
      "\n",
      "Epoch 2 - Train Loss 6.4930 Train Accuracy 0.2177\n"
     ]
    },
    {
     "name": "stderr",
     "output_type": "stream",
     "text": [
      "[Validating Answer]: 100%|██████████| 32/32 [00:05<00:00,  5.60it/s]\n",
      "[Training Answer]:   0%|          | 0/320 [00:00<?, ?it/s]"
     ]
    },
    {
     "name": "stdout",
     "output_type": "stream",
     "text": [
      "\n",
      "Epoch 2 - Validation Loss 6.3279 Validation Accuracy 0.2250\n",
      "Time taken for epoch 239.72413969039917 sec\n",
      "\n",
      "Epoch 3/50\n"
     ]
    },
    {
     "name": "stderr",
     "output_type": "stream",
     "text": [
      "[Training Answer]: 100%|██████████| 320/320 [03:51<00:00,  1.38it/s]\n",
      "[Validating Answer]:   3%|▎         | 1/32 [00:00<00:05,  5.61it/s]"
     ]
    },
    {
     "name": "stdout",
     "output_type": "stream",
     "text": [
      "\n",
      "Epoch 3 - Train Loss 6.0087 Train Accuracy 0.2613\n"
     ]
    },
    {
     "name": "stderr",
     "output_type": "stream",
     "text": [
      "[Validating Answer]: 100%|██████████| 32/32 [00:05<00:00,  5.57it/s]\n",
      "[Training Answer]:   0%|          | 0/320 [00:00<?, ?it/s]"
     ]
    },
    {
     "name": "stdout",
     "output_type": "stream",
     "text": [
      "\n",
      "Epoch 3 - Validation Loss 6.0540 Validation Accuracy 0.2457\n",
      "Time taken for epoch 237.2470555305481 sec\n",
      "\n",
      "Epoch 4/50\n"
     ]
    },
    {
     "name": "stderr",
     "output_type": "stream",
     "text": [
      "[Training Answer]: 100%|██████████| 320/320 [03:51<00:00,  1.38it/s]\n",
      "[Validating Answer]:   3%|▎         | 1/32 [00:00<00:05,  5.56it/s]"
     ]
    },
    {
     "name": "stdout",
     "output_type": "stream",
     "text": [
      "\n",
      "Epoch 4 - Train Loss 5.6760 Train Accuracy 0.2937\n"
     ]
    },
    {
     "name": "stderr",
     "output_type": "stream",
     "text": [
      "[Validating Answer]: 100%|██████████| 32/32 [00:05<00:00,  5.61it/s]\n",
      "[Training Answer]:   0%|          | 0/320 [00:00<?, ?it/s]"
     ]
    },
    {
     "name": "stdout",
     "output_type": "stream",
     "text": [
      "\n",
      "Epoch 4 - Validation Loss 5.9367 Validation Accuracy 0.2625\n",
      "Time taken for epoch 236.90763640403748 sec\n",
      "\n",
      "Epoch 5/50\n"
     ]
    },
    {
     "name": "stderr",
     "output_type": "stream",
     "text": [
      "[Training Answer]: 100%|██████████| 320/320 [03:50<00:00,  1.39it/s]\n",
      "[Validating Answer]:   3%|▎         | 1/32 [00:00<00:05,  5.77it/s]"
     ]
    },
    {
     "name": "stdout",
     "output_type": "stream",
     "text": [
      "\n",
      "Epoch 5 - Train Loss 5.4166 Train Accuracy 0.3203\n"
     ]
    },
    {
     "name": "stderr",
     "output_type": "stream",
     "text": [
      "[Validating Answer]: 100%|██████████| 32/32 [00:05<00:00,  5.65it/s]\n",
      "[Training Answer]:   0%|          | 0/320 [00:00<?, ?it/s]"
     ]
    },
    {
     "name": "stdout",
     "output_type": "stream",
     "text": [
      "\n",
      "Epoch 5 - Validation Loss 5.8314 Validation Accuracy 0.2710\n",
      "Time taken for epoch 236.60460209846497 sec\n",
      "\n",
      "Epoch 6/50\n"
     ]
    },
    {
     "name": "stderr",
     "output_type": "stream",
     "text": [
      "[Training Answer]: 100%|██████████| 320/320 [03:50<00:00,  1.39it/s]\n",
      "[Validating Answer]:   3%|▎         | 1/32 [00:00<00:05,  5.68it/s]"
     ]
    },
    {
     "name": "stdout",
     "output_type": "stream",
     "text": [
      "\n",
      "Epoch 6 - Train Loss 5.1775 Train Accuracy 0.3445\n"
     ]
    },
    {
     "name": "stderr",
     "output_type": "stream",
     "text": [
      "[Validating Answer]: 100%|██████████| 32/32 [00:05<00:00,  5.67it/s]\n",
      "[Training Answer]:   0%|          | 0/320 [00:00<?, ?it/s]"
     ]
    },
    {
     "name": "stdout",
     "output_type": "stream",
     "text": [
      "\n",
      "Epoch 6 - Validation Loss 5.7852 Validation Accuracy 0.2791\n",
      "Time taken for epoch 236.2781834602356 sec\n",
      "\n",
      "Epoch 7/50\n"
     ]
    },
    {
     "name": "stderr",
     "output_type": "stream",
     "text": [
      "[Training Answer]: 100%|██████████| 320/320 [03:50<00:00,  1.39it/s]\n",
      "[Validating Answer]:   3%|▎         | 1/32 [00:00<00:05,  5.72it/s]"
     ]
    },
    {
     "name": "stdout",
     "output_type": "stream",
     "text": [
      "\n",
      "Epoch 7 - Train Loss 4.9694 Train Accuracy 0.3670\n"
     ]
    },
    {
     "name": "stderr",
     "output_type": "stream",
     "text": [
      "[Validating Answer]: 100%|██████████| 32/32 [00:05<00:00,  5.61it/s]\n",
      "[Training Answer]:   0%|          | 0/320 [00:00<?, ?it/s]"
     ]
    },
    {
     "name": "stdout",
     "output_type": "stream",
     "text": [
      "\n",
      "Epoch 7 - Validation Loss 5.7281 Validation Accuracy 0.2823\n",
      "Time taken for epoch 236.32316875457764 sec\n",
      "\n",
      "Epoch 8/50\n"
     ]
    },
    {
     "name": "stderr",
     "output_type": "stream",
     "text": [
      "[Training Answer]: 100%|██████████| 320/320 [03:50<00:00,  1.39it/s]\n",
      "[Validating Answer]:   3%|▎         | 1/32 [00:00<00:05,  5.69it/s]"
     ]
    },
    {
     "name": "stdout",
     "output_type": "stream",
     "text": [
      "\n",
      "Epoch 8 - Train Loss 4.7826 Train Accuracy 0.3888\n"
     ]
    },
    {
     "name": "stderr",
     "output_type": "stream",
     "text": [
      "[Validating Answer]: 100%|██████████| 32/32 [00:05<00:00,  5.62it/s]\n",
      "[Training Answer]:   0%|          | 0/320 [00:00<?, ?it/s]"
     ]
    },
    {
     "name": "stdout",
     "output_type": "stream",
     "text": [
      "\n",
      "Epoch 8 - Validation Loss 5.8235 Validation Accuracy 0.2863\n",
      "Time taken for epoch 236.0805287361145 sec\n",
      "\n",
      "Epoch 9/50\n"
     ]
    },
    {
     "name": "stderr",
     "output_type": "stream",
     "text": [
      "[Training Answer]: 100%|██████████| 320/320 [03:50<00:00,  1.39it/s]\n",
      "[Validating Answer]:   3%|▎         | 1/32 [00:00<00:05,  5.66it/s]"
     ]
    },
    {
     "name": "stdout",
     "output_type": "stream",
     "text": [
      "\n",
      "Epoch 9 - Train Loss 4.6067 Train Accuracy 0.4112\n"
     ]
    },
    {
     "name": "stderr",
     "output_type": "stream",
     "text": [
      "[Validating Answer]: 100%|██████████| 32/32 [00:05<00:00,  5.63it/s]\n",
      "[Training Answer]:   0%|          | 0/320 [00:00<?, ?it/s]"
     ]
    },
    {
     "name": "stdout",
     "output_type": "stream",
     "text": [
      "\n",
      "Epoch 9 - Validation Loss 5.7886 Validation Accuracy 0.2826\n",
      "Time taken for epoch 236.19033885002136 sec\n",
      "\n",
      "Epoch 10/50\n"
     ]
    },
    {
     "name": "stderr",
     "output_type": "stream",
     "text": [
      "[Training Answer]: 100%|██████████| 320/320 [03:57<00:00,  1.35it/s]\n",
      "[Validating Answer]:   0%|          | 0/32 [00:00<?, ?it/s]"
     ]
    },
    {
     "name": "stdout",
     "output_type": "stream",
     "text": [
      "\n",
      "Epoch 10 - Train Loss 4.4463 Train Accuracy 0.4278\n"
     ]
    },
    {
     "name": "stderr",
     "output_type": "stream",
     "text": [
      "[Validating Answer]: 100%|██████████| 32/32 [00:05<00:00,  5.44it/s]\n",
      "[Training Answer]:   0%|          | 0/320 [00:00<?, ?it/s]"
     ]
    },
    {
     "name": "stdout",
     "output_type": "stream",
     "text": [
      "\n",
      "Epoch 10 - Validation Loss 5.8272 Validation Accuracy 0.2865\n",
      "Time taken for epoch 243.82708549499512 sec\n",
      "\n",
      "Epoch 11/50\n"
     ]
    },
    {
     "name": "stderr",
     "output_type": "stream",
     "text": [
      "[Training Answer]: 100%|██████████| 320/320 [03:56<00:00,  1.35it/s]\n",
      "[Validating Answer]:   3%|▎         | 1/32 [00:00<00:05,  5.70it/s]"
     ]
    },
    {
     "name": "stdout",
     "output_type": "stream",
     "text": [
      "\n",
      "Epoch 11 - Train Loss 4.2866 Train Accuracy 0.4459\n"
     ]
    },
    {
     "name": "stderr",
     "output_type": "stream",
     "text": [
      "[Validating Answer]: 100%|██████████| 32/32 [00:05<00:00,  5.59it/s]\n",
      "[Training Answer]:   0%|          | 0/320 [00:00<?, ?it/s]"
     ]
    },
    {
     "name": "stdout",
     "output_type": "stream",
     "text": [
      "\n",
      "Epoch 11 - Validation Loss 5.8702 Validation Accuracy 0.2841\n",
      "Time taken for epoch 242.38427424430847 sec\n",
      "\n",
      "Epoch 12/50\n"
     ]
    },
    {
     "name": "stderr",
     "output_type": "stream",
     "text": [
      "[Training Answer]: 100%|██████████| 320/320 [03:50<00:00,  1.39it/s]\n",
      "[Validating Answer]:   3%|▎         | 1/32 [00:00<00:05,  5.48it/s]"
     ]
    },
    {
     "name": "stdout",
     "output_type": "stream",
     "text": [
      "\n",
      "Epoch 12 - Train Loss 4.1429 Train Accuracy 0.4625\n"
     ]
    },
    {
     "name": "stderr",
     "output_type": "stream",
     "text": [
      "[Validating Answer]: 100%|██████████| 32/32 [00:05<00:00,  5.64it/s]\n",
      "[Training Answer]:   0%|          | 0/320 [00:00<?, ?it/s]"
     ]
    },
    {
     "name": "stdout",
     "output_type": "stream",
     "text": [
      "\n",
      "Epoch 12 - Validation Loss 6.2092 Validation Accuracy 0.2860\n",
      "Time taken for epoch 236.40686774253845 sec\n",
      "\n",
      "Epoch 13/50\n"
     ]
    },
    {
     "name": "stderr",
     "output_type": "stream",
     "text": [
      "[Training Answer]: 100%|██████████| 320/320 [03:53<00:00,  1.37it/s]\n",
      "[Validating Answer]:   3%|▎         | 1/32 [00:00<00:05,  5.34it/s]"
     ]
    },
    {
     "name": "stdout",
     "output_type": "stream",
     "text": [
      "\n",
      "Epoch 13 - Train Loss 3.9963 Train Accuracy 0.4817\n"
     ]
    },
    {
     "name": "stderr",
     "output_type": "stream",
     "text": [
      "[Validating Answer]: 100%|██████████| 32/32 [00:05<00:00,  5.47it/s]\n",
      "[Training Answer]:   0%|          | 0/320 [00:00<?, ?it/s]"
     ]
    },
    {
     "name": "stdout",
     "output_type": "stream",
     "text": [
      "\n",
      "Epoch 13 - Validation Loss 6.2119 Validation Accuracy 0.2833\n",
      "Time taken for epoch 239.57618761062622 sec\n",
      "\n",
      "Epoch 14/50\n"
     ]
    },
    {
     "name": "stderr",
     "output_type": "stream",
     "text": [
      "[Training Answer]: 100%|██████████| 320/320 [03:58<00:00,  1.34it/s]\n",
      "[Validating Answer]:   0%|          | 0/32 [00:00<?, ?it/s]"
     ]
    },
    {
     "name": "stdout",
     "output_type": "stream",
     "text": [
      "\n",
      "Epoch 14 - Train Loss 3.8693 Train Accuracy 0.4951\n"
     ]
    },
    {
     "name": "stderr",
     "output_type": "stream",
     "text": [
      "[Validating Answer]: 100%|██████████| 32/32 [00:05<00:00,  5.46it/s]\n",
      "[Training Answer]:   0%|          | 0/320 [00:00<?, ?it/s]"
     ]
    },
    {
     "name": "stdout",
     "output_type": "stream",
     "text": [
      "\n",
      "Epoch 14 - Validation Loss 6.2023 Validation Accuracy 0.2854\n",
      "Time taken for epoch 244.22436594963074 sec\n",
      "\n",
      "Epoch 15/50\n"
     ]
    },
    {
     "name": "stderr",
     "output_type": "stream",
     "text": [
      "[Training Answer]: 100%|██████████| 320/320 [03:55<00:00,  1.36it/s]\n",
      "[Validating Answer]:   3%|▎         | 1/32 [00:00<00:05,  5.52it/s]"
     ]
    },
    {
     "name": "stdout",
     "output_type": "stream",
     "text": [
      "\n",
      "Epoch 15 - Train Loss 3.7365 Train Accuracy 0.5112\n"
     ]
    },
    {
     "name": "stderr",
     "output_type": "stream",
     "text": [
      "[Validating Answer]: 100%|██████████| 32/32 [00:05<00:00,  5.41it/s]\n",
      "[Training Answer]:   0%|          | 0/320 [00:00<?, ?it/s]"
     ]
    },
    {
     "name": "stdout",
     "output_type": "stream",
     "text": [
      "\n",
      "Epoch 15 - Validation Loss 6.3876 Validation Accuracy 0.2930\n",
      "Time taken for epoch 242.05628657341003 sec\n",
      "\n",
      "Epoch 16/50\n"
     ]
    },
    {
     "name": "stderr",
     "output_type": "stream",
     "text": [
      "[Training Answer]: 100%|██████████| 320/320 [03:56<00:00,  1.35it/s]\n",
      "[Validating Answer]:   0%|          | 0/32 [00:00<?, ?it/s]"
     ]
    },
    {
     "name": "stdout",
     "output_type": "stream",
     "text": [
      "\n",
      "Epoch 16 - Train Loss 3.5950 Train Accuracy 0.5287\n"
     ]
    },
    {
     "name": "stderr",
     "output_type": "stream",
     "text": [
      "[Validating Answer]: 100%|██████████| 32/32 [00:05<00:00,  5.49it/s]\n",
      "[Training Answer]:   0%|          | 0/320 [00:00<?, ?it/s]"
     ]
    },
    {
     "name": "stdout",
     "output_type": "stream",
     "text": [
      "\n",
      "Epoch 16 - Validation Loss 6.5912 Validation Accuracy 0.2878\n",
      "Time taken for epoch 242.72056770324707 sec\n",
      "\n",
      "Epoch 17/50\n"
     ]
    },
    {
     "name": "stderr",
     "output_type": "stream",
     "text": [
      "[Training Answer]: 100%|██████████| 320/320 [04:01<00:00,  1.32it/s]\n",
      "[Validating Answer]:   3%|▎         | 1/32 [00:00<00:05,  5.53it/s]"
     ]
    },
    {
     "name": "stdout",
     "output_type": "stream",
     "text": [
      "\n",
      "Epoch 17 - Train Loss 3.4899 Train Accuracy 0.5421\n"
     ]
    },
    {
     "name": "stderr",
     "output_type": "stream",
     "text": [
      "[Validating Answer]: 100%|██████████| 32/32 [00:05<00:00,  5.48it/s]\n",
      "[Training Answer]:   0%|          | 0/320 [00:00<?, ?it/s]"
     ]
    },
    {
     "name": "stdout",
     "output_type": "stream",
     "text": [
      "\n",
      "Epoch 17 - Validation Loss 6.5814 Validation Accuracy 0.2875\n",
      "Time taken for epoch 247.6211814880371 sec\n",
      "\n",
      "Epoch 18/50\n"
     ]
    },
    {
     "name": "stderr",
     "output_type": "stream",
     "text": [
      "[Training Answer]: 100%|██████████| 320/320 [03:54<00:00,  1.36it/s]\n",
      "[Validating Answer]:   3%|▎         | 1/32 [00:00<00:05,  5.77it/s]"
     ]
    },
    {
     "name": "stdout",
     "output_type": "stream",
     "text": [
      "\n",
      "Epoch 18 - Train Loss 3.3742 Train Accuracy 0.5587\n"
     ]
    },
    {
     "name": "stderr",
     "output_type": "stream",
     "text": [
      "[Validating Answer]: 100%|██████████| 32/32 [00:05<00:00,  5.65it/s]\n",
      "[Training Answer]:   0%|          | 0/320 [00:00<?, ?it/s]"
     ]
    },
    {
     "name": "stdout",
     "output_type": "stream",
     "text": [
      "\n",
      "Epoch 18 - Validation Loss 6.8621 Validation Accuracy 0.2863\n",
      "Time taken for epoch 240.47340655326843 sec\n",
      "\n",
      "Epoch 19/50\n"
     ]
    },
    {
     "name": "stderr",
     "output_type": "stream",
     "text": [
      "[Training Answer]: 100%|██████████| 320/320 [03:51<00:00,  1.38it/s]\n",
      "[Validating Answer]:   3%|▎         | 1/32 [00:00<00:05,  5.68it/s]"
     ]
    },
    {
     "name": "stdout",
     "output_type": "stream",
     "text": [
      "\n",
      "Epoch 19 - Train Loss 3.2819 Train Accuracy 0.5699\n"
     ]
    },
    {
     "name": "stderr",
     "output_type": "stream",
     "text": [
      "[Validating Answer]: 100%|██████████| 32/32 [00:05<00:00,  5.65it/s]\n",
      "[Training Answer]:   0%|          | 0/320 [00:00<?, ?it/s]"
     ]
    },
    {
     "name": "stdout",
     "output_type": "stream",
     "text": [
      "\n",
      "Epoch 19 - Validation Loss 7.1831 Validation Accuracy 0.2792\n",
      "Time taken for epoch 236.90816617012024 sec\n",
      "\n",
      "Epoch 20/50\n"
     ]
    },
    {
     "name": "stderr",
     "output_type": "stream",
     "text": [
      "[Training Answer]: 100%|██████████| 320/320 [03:51<00:00,  1.38it/s]\n",
      "[Validating Answer]:   3%|▎         | 1/32 [00:00<00:05,  5.74it/s]"
     ]
    },
    {
     "name": "stdout",
     "output_type": "stream",
     "text": [
      "\n",
      "Epoch 20 - Train Loss 3.1701 Train Accuracy 0.5850\n"
     ]
    },
    {
     "name": "stderr",
     "output_type": "stream",
     "text": [
      "[Validating Answer]: 100%|██████████| 32/32 [00:05<00:00,  5.65it/s]\n",
      "[Training Answer]:   0%|          | 0/320 [00:00<?, ?it/s]"
     ]
    },
    {
     "name": "stdout",
     "output_type": "stream",
     "text": [
      "\n",
      "Epoch 20 - Validation Loss 6.9855 Validation Accuracy 0.2815\n",
      "Time taken for epoch 236.8908886909485 sec\n",
      "\n",
      "Epoch 21/50\n"
     ]
    },
    {
     "name": "stderr",
     "output_type": "stream",
     "text": [
      "[Training Answer]: 100%|██████████| 320/320 [03:50<00:00,  1.39it/s]\n",
      "[Validating Answer]:   3%|▎         | 1/32 [00:00<00:05,  5.85it/s]"
     ]
    },
    {
     "name": "stdout",
     "output_type": "stream",
     "text": [
      "\n",
      "Epoch 21 - Train Loss 3.0591 Train Accuracy 0.5963\n"
     ]
    },
    {
     "name": "stderr",
     "output_type": "stream",
     "text": [
      "[Validating Answer]: 100%|██████████| 32/32 [00:05<00:00,  5.63it/s]\n",
      "[Training Answer]:   0%|          | 0/320 [00:00<?, ?it/s]"
     ]
    },
    {
     "name": "stdout",
     "output_type": "stream",
     "text": [
      "\n",
      "Epoch 21 - Validation Loss 7.2814 Validation Accuracy 0.2777\n",
      "Time taken for epoch 236.37860417366028 sec\n",
      "\n",
      "Epoch 22/50\n"
     ]
    },
    {
     "name": "stderr",
     "output_type": "stream",
     "text": [
      "[Training Answer]: 100%|██████████| 320/320 [03:50<00:00,  1.39it/s]\n",
      "[Validating Answer]:   3%|▎         | 1/32 [00:00<00:05,  5.78it/s]"
     ]
    },
    {
     "name": "stdout",
     "output_type": "stream",
     "text": [
      "\n",
      "Epoch 22 - Train Loss 2.9730 Train Accuracy 0.6090\n"
     ]
    },
    {
     "name": "stderr",
     "output_type": "stream",
     "text": [
      "[Validating Answer]: 100%|██████████| 32/32 [00:05<00:00,  5.56it/s]\n",
      "[Training Answer]:   0%|          | 0/320 [00:00<?, ?it/s]"
     ]
    },
    {
     "name": "stdout",
     "output_type": "stream",
     "text": [
      "\n",
      "Epoch 22 - Validation Loss 7.3564 Validation Accuracy 0.2709\n",
      "Time taken for epoch 236.75134587287903 sec\n",
      "\n",
      "Epoch 23/50\n"
     ]
    },
    {
     "name": "stderr",
     "output_type": "stream",
     "text": [
      "[Training Answer]: 100%|██████████| 320/320 [03:51<00:00,  1.38it/s]\n",
      "[Validating Answer]:   3%|▎         | 1/32 [00:00<00:05,  5.76it/s]"
     ]
    },
    {
     "name": "stdout",
     "output_type": "stream",
     "text": [
      "\n",
      "Epoch 23 - Train Loss 2.8882 Train Accuracy 0.6194\n"
     ]
    },
    {
     "name": "stderr",
     "output_type": "stream",
     "text": [
      "[Validating Answer]: 100%|██████████| 32/32 [00:05<00:00,  5.58it/s]\n",
      "[Training Answer]:   0%|          | 0/320 [00:00<?, ?it/s]"
     ]
    },
    {
     "name": "stdout",
     "output_type": "stream",
     "text": [
      "\n",
      "Epoch 23 - Validation Loss 8.1695 Validation Accuracy 0.2777\n",
      "Time taken for epoch 237.18473148345947 sec\n",
      "\n",
      "Epoch 24/50\n"
     ]
    },
    {
     "name": "stderr",
     "output_type": "stream",
     "text": [
      "[Training Answer]: 100%|██████████| 320/320 [03:51<00:00,  1.38it/s]\n",
      "[Validating Answer]:   3%|▎         | 1/32 [00:00<00:05,  5.82it/s]"
     ]
    },
    {
     "name": "stdout",
     "output_type": "stream",
     "text": [
      "\n",
      "Epoch 24 - Train Loss 2.7992 Train Accuracy 0.6300\n"
     ]
    },
    {
     "name": "stderr",
     "output_type": "stream",
     "text": [
      "[Validating Answer]: 100%|██████████| 32/32 [00:05<00:00,  5.62it/s]\n",
      "[Training Answer]:   0%|          | 0/320 [00:00<?, ?it/s]"
     ]
    },
    {
     "name": "stdout",
     "output_type": "stream",
     "text": [
      "\n",
      "Epoch 24 - Validation Loss 7.9905 Validation Accuracy 0.2683\n",
      "Time taken for epoch 237.59773111343384 sec\n",
      "\n",
      "Epoch 25/50\n"
     ]
    },
    {
     "name": "stderr",
     "output_type": "stream",
     "text": [
      "[Training Answer]: 100%|██████████| 320/320 [03:51<00:00,  1.38it/s]\n",
      "[Validating Answer]:   3%|▎         | 1/32 [00:00<00:05,  5.80it/s]"
     ]
    },
    {
     "name": "stdout",
     "output_type": "stream",
     "text": [
      "\n",
      "Epoch 25 - Train Loss 2.7051 Train Accuracy 0.6417\n"
     ]
    },
    {
     "name": "stderr",
     "output_type": "stream",
     "text": [
      "[Validating Answer]: 100%|██████████| 32/32 [00:05<00:00,  5.63it/s]\n",
      "[Training Answer]:   0%|          | 0/320 [00:00<?, ?it/s]"
     ]
    },
    {
     "name": "stdout",
     "output_type": "stream",
     "text": [
      "\n",
      "Epoch 25 - Validation Loss 8.0496 Validation Accuracy 0.2698\n",
      "Time taken for epoch 237.4287941455841 sec\n",
      "\n",
      "Epoch 26/50\n"
     ]
    },
    {
     "name": "stderr",
     "output_type": "stream",
     "text": [
      "[Training Answer]: 100%|██████████| 320/320 [03:51<00:00,  1.38it/s]\n",
      "[Validating Answer]:   3%|▎         | 1/32 [00:00<00:05,  5.74it/s]"
     ]
    },
    {
     "name": "stdout",
     "output_type": "stream",
     "text": [
      "\n",
      "Epoch 26 - Train Loss 2.6687 Train Accuracy 0.6454\n"
     ]
    },
    {
     "name": "stderr",
     "output_type": "stream",
     "text": [
      "[Validating Answer]: 100%|██████████| 32/32 [00:05<00:00,  5.64it/s]\n",
      "[Training Answer]:   0%|          | 0/320 [00:00<?, ?it/s]"
     ]
    },
    {
     "name": "stdout",
     "output_type": "stream",
     "text": [
      "\n",
      "Epoch 26 - Validation Loss 8.4605 Validation Accuracy 0.2679\n",
      "Time taken for epoch 237.27879810333252 sec\n",
      "\n",
      "Epoch 27/50\n"
     ]
    },
    {
     "name": "stderr",
     "output_type": "stream",
     "text": [
      "[Training Answer]: 100%|██████████| 320/320 [03:51<00:00,  1.38it/s]\n",
      "[Validating Answer]:   3%|▎         | 1/32 [00:00<00:05,  5.65it/s]"
     ]
    },
    {
     "name": "stdout",
     "output_type": "stream",
     "text": [
      "\n",
      "Epoch 27 - Train Loss 2.5822 Train Accuracy 0.6567\n"
     ]
    },
    {
     "name": "stderr",
     "output_type": "stream",
     "text": [
      "[Validating Answer]: 100%|██████████| 32/32 [00:05<00:00,  5.61it/s]\n",
      "[Training Answer]:   0%|          | 0/320 [00:00<?, ?it/s]"
     ]
    },
    {
     "name": "stdout",
     "output_type": "stream",
     "text": [
      "\n",
      "Epoch 27 - Validation Loss 9.5742 Validation Accuracy 0.2667\n",
      "Time taken for epoch 237.40908694267273 sec\n",
      "\n",
      "Epoch 28/50\n"
     ]
    },
    {
     "name": "stderr",
     "output_type": "stream",
     "text": [
      "[Training Answer]: 100%|██████████| 320/320 [03:51<00:00,  1.38it/s]\n",
      "[Validating Answer]:   3%|▎         | 1/32 [00:00<00:05,  5.69it/s]"
     ]
    },
    {
     "name": "stdout",
     "output_type": "stream",
     "text": [
      "\n",
      "Epoch 28 - Train Loss 2.4893 Train Accuracy 0.6705\n"
     ]
    },
    {
     "name": "stderr",
     "output_type": "stream",
     "text": [
      "[Validating Answer]: 100%|██████████| 32/32 [00:05<00:00,  5.62it/s]\n",
      "[Training Answer]:   0%|          | 0/320 [00:00<?, ?it/s]"
     ]
    },
    {
     "name": "stdout",
     "output_type": "stream",
     "text": [
      "\n",
      "Epoch 28 - Validation Loss 8.9512 Validation Accuracy 0.2640\n",
      "Time taken for epoch 236.9263837337494 sec\n",
      "\n",
      "Epoch 29/50\n"
     ]
    },
    {
     "name": "stderr",
     "output_type": "stream",
     "text": [
      "[Training Answer]: 100%|██████████| 320/320 [03:51<00:00,  1.39it/s]\n",
      "[Validating Answer]:   3%|▎         | 1/32 [00:00<00:05,  5.71it/s]"
     ]
    },
    {
     "name": "stdout",
     "output_type": "stream",
     "text": [
      "\n",
      "Epoch 29 - Train Loss 2.4153 Train Accuracy 0.6781\n"
     ]
    },
    {
     "name": "stderr",
     "output_type": "stream",
     "text": [
      "[Validating Answer]: 100%|██████████| 32/32 [00:05<00:00,  5.62it/s]\n",
      "[Training Answer]:   0%|          | 0/320 [00:00<?, ?it/s]"
     ]
    },
    {
     "name": "stdout",
     "output_type": "stream",
     "text": [
      "\n",
      "Epoch 29 - Validation Loss 9.1262 Validation Accuracy 0.2609\n",
      "Time taken for epoch 236.86457586288452 sec\n",
      "\n",
      "Epoch 30/50\n"
     ]
    },
    {
     "name": "stderr",
     "output_type": "stream",
     "text": [
      "[Training Answer]: 100%|██████████| 320/320 [03:51<00:00,  1.38it/s]\n",
      "[Validating Answer]:   3%|▎         | 1/32 [00:00<00:05,  5.69it/s]"
     ]
    },
    {
     "name": "stdout",
     "output_type": "stream",
     "text": [
      "\n",
      "Epoch 30 - Train Loss 2.3793 Train Accuracy 0.6810\n"
     ]
    },
    {
     "name": "stderr",
     "output_type": "stream",
     "text": [
      "[Validating Answer]: 100%|██████████| 32/32 [00:05<00:00,  5.62it/s]\n",
      "[Training Answer]:   0%|          | 0/320 [00:00<?, ?it/s]"
     ]
    },
    {
     "name": "stdout",
     "output_type": "stream",
     "text": [
      "\n",
      "Epoch 30 - Validation Loss 9.7195 Validation Accuracy 0.2628\n",
      "Time taken for epoch 237.10840821266174 sec\n",
      "\n",
      "Epoch 31/50\n"
     ]
    },
    {
     "name": "stderr",
     "output_type": "stream",
     "text": [
      "[Training Answer]: 100%|██████████| 320/320 [03:51<00:00,  1.38it/s]\n",
      "[Validating Answer]:   3%|▎         | 1/32 [00:00<00:05,  5.65it/s]"
     ]
    },
    {
     "name": "stdout",
     "output_type": "stream",
     "text": [
      "\n",
      "Epoch 31 - Train Loss 2.3358 Train Accuracy 0.6881\n"
     ]
    },
    {
     "name": "stderr",
     "output_type": "stream",
     "text": [
      "[Validating Answer]: 100%|██████████| 32/32 [00:05<00:00,  5.60it/s]\n",
      "[Training Answer]:   0%|          | 0/320 [00:00<?, ?it/s]"
     ]
    },
    {
     "name": "stdout",
     "output_type": "stream",
     "text": [
      "\n",
      "Epoch 31 - Validation Loss 10.2969 Validation Accuracy 0.2548\n",
      "Time taken for epoch 237.5088074207306 sec\n",
      "\n",
      "Epoch 32/50\n"
     ]
    },
    {
     "name": "stderr",
     "output_type": "stream",
     "text": [
      "[Training Answer]: 100%|██████████| 320/320 [03:51<00:00,  1.38it/s]\n",
      "[Validating Answer]:   3%|▎         | 1/32 [00:00<00:05,  5.50it/s]"
     ]
    },
    {
     "name": "stdout",
     "output_type": "stream",
     "text": [
      "\n",
      "Epoch 32 - Train Loss 2.2648 Train Accuracy 0.6986\n"
     ]
    },
    {
     "name": "stderr",
     "output_type": "stream",
     "text": [
      "[Validating Answer]: 100%|██████████| 32/32 [00:05<00:00,  5.62it/s]\n",
      "[Training Answer]:   0%|          | 0/320 [00:00<?, ?it/s]"
     ]
    },
    {
     "name": "stdout",
     "output_type": "stream",
     "text": [
      "\n",
      "Epoch 32 - Validation Loss 10.5406 Validation Accuracy 0.2635\n",
      "Time taken for epoch 237.5826289653778 sec\n",
      "\n",
      "Epoch 33/50\n"
     ]
    },
    {
     "name": "stderr",
     "output_type": "stream",
     "text": [
      "[Training Answer]: 100%|██████████| 320/320 [03:51<00:00,  1.38it/s]\n",
      "[Validating Answer]:   3%|▎         | 1/32 [00:00<00:05,  5.34it/s]"
     ]
    },
    {
     "name": "stdout",
     "output_type": "stream",
     "text": [
      "\n",
      "Epoch 33 - Train Loss 2.2087 Train Accuracy 0.7050\n"
     ]
    },
    {
     "name": "stderr",
     "output_type": "stream",
     "text": [
      "[Validating Answer]: 100%|██████████| 32/32 [00:05<00:00,  5.62it/s]\n",
      "[Training Answer]:   0%|          | 0/320 [00:00<?, ?it/s]"
     ]
    },
    {
     "name": "stdout",
     "output_type": "stream",
     "text": [
      "\n",
      "Epoch 33 - Validation Loss 10.0508 Validation Accuracy 0.2563\n",
      "Time taken for epoch 237.18826961517334 sec\n",
      "\n",
      "Epoch 34/50\n"
     ]
    },
    {
     "name": "stderr",
     "output_type": "stream",
     "text": [
      "[Training Answer]: 100%|██████████| 320/320 [03:51<00:00,  1.38it/s]\n",
      "[Validating Answer]:   3%|▎         | 1/32 [00:00<00:05,  5.66it/s]"
     ]
    },
    {
     "name": "stdout",
     "output_type": "stream",
     "text": [
      "\n",
      "Epoch 34 - Train Loss 2.2333 Train Accuracy 0.7011\n"
     ]
    },
    {
     "name": "stderr",
     "output_type": "stream",
     "text": [
      "[Validating Answer]: 100%|██████████| 32/32 [00:05<00:00,  5.60it/s]\n",
      "[Training Answer]:   0%|          | 0/320 [00:00<?, ?it/s]"
     ]
    },
    {
     "name": "stdout",
     "output_type": "stream",
     "text": [
      "\n",
      "Epoch 34 - Validation Loss 10.8288 Validation Accuracy 0.2513\n",
      "Time taken for epoch 237.61415314674377 sec\n",
      "\n",
      "Epoch 35/50\n"
     ]
    },
    {
     "name": "stderr",
     "output_type": "stream",
     "text": [
      "[Training Answer]: 100%|██████████| 320/320 [03:51<00:00,  1.38it/s]\n",
      "[Validating Answer]:   3%|▎         | 1/32 [00:00<00:05,  5.66it/s]"
     ]
    },
    {
     "name": "stdout",
     "output_type": "stream",
     "text": [
      "\n",
      "Epoch 35 - Train Loss 2.1247 Train Accuracy 0.7146\n"
     ]
    },
    {
     "name": "stderr",
     "output_type": "stream",
     "text": [
      "[Validating Answer]: 100%|██████████| 32/32 [00:05<00:00,  5.61it/s]\n",
      "[Training Answer]:   0%|          | 0/320 [00:00<?, ?it/s]"
     ]
    },
    {
     "name": "stdout",
     "output_type": "stream",
     "text": [
      "\n",
      "Epoch 35 - Validation Loss 10.7200 Validation Accuracy 0.2576\n",
      "Time taken for epoch 237.3939597606659 sec\n",
      "\n",
      "Epoch 36/50\n"
     ]
    },
    {
     "name": "stderr",
     "output_type": "stream",
     "text": [
      "[Training Answer]: 100%|██████████| 320/320 [03:51<00:00,  1.38it/s]\n",
      "[Validating Answer]:   3%|▎         | 1/32 [00:00<00:05,  5.78it/s]"
     ]
    },
    {
     "name": "stdout",
     "output_type": "stream",
     "text": [
      "\n",
      "Epoch 36 - Train Loss 2.0572 Train Accuracy 0.7248\n"
     ]
    },
    {
     "name": "stderr",
     "output_type": "stream",
     "text": [
      "[Validating Answer]: 100%|██████████| 32/32 [00:05<00:00,  5.65it/s]\n",
      "[Training Answer]:   0%|          | 0/320 [00:00<?, ?it/s]"
     ]
    },
    {
     "name": "stdout",
     "output_type": "stream",
     "text": [
      "\n",
      "Epoch 36 - Validation Loss 10.4140 Validation Accuracy 0.2501\n",
      "Time taken for epoch 237.02449584007263 sec\n",
      "\n",
      "Epoch 37/50\n"
     ]
    },
    {
     "name": "stderr",
     "output_type": "stream",
     "text": [
      "[Training Answer]: 100%|██████████| 320/320 [03:50<00:00,  1.39it/s]\n",
      "[Validating Answer]:   3%|▎         | 1/32 [00:00<00:05,  5.57it/s]"
     ]
    },
    {
     "name": "stdout",
     "output_type": "stream",
     "text": [
      "\n",
      "Epoch 37 - Train Loss 1.9756 Train Accuracy 0.7355\n"
     ]
    },
    {
     "name": "stderr",
     "output_type": "stream",
     "text": [
      "[Validating Answer]: 100%|██████████| 32/32 [00:05<00:00,  5.63it/s]\n",
      "[Training Answer]:   0%|          | 0/320 [00:00<?, ?it/s]"
     ]
    },
    {
     "name": "stdout",
     "output_type": "stream",
     "text": [
      "\n",
      "Epoch 37 - Validation Loss 11.3758 Validation Accuracy 0.2584\n",
      "Time taken for epoch 236.81485414505005 sec\n",
      "\n",
      "Epoch 38/50\n"
     ]
    },
    {
     "name": "stderr",
     "output_type": "stream",
     "text": [
      "[Training Answer]: 100%|██████████| 320/320 [03:51<00:00,  1.38it/s]\n",
      "[Validating Answer]:   3%|▎         | 1/32 [00:00<00:05,  5.62it/s]"
     ]
    },
    {
     "name": "stdout",
     "output_type": "stream",
     "text": [
      "\n",
      "Epoch 38 - Train Loss 1.9653 Train Accuracy 0.7360\n"
     ]
    },
    {
     "name": "stderr",
     "output_type": "stream",
     "text": [
      "[Validating Answer]: 100%|██████████| 32/32 [00:05<00:00,  5.59it/s]\n",
      "[Training Answer]:   0%|          | 0/320 [00:00<?, ?it/s]"
     ]
    },
    {
     "name": "stdout",
     "output_type": "stream",
     "text": [
      "\n",
      "Epoch 38 - Validation Loss 12.3037 Validation Accuracy 0.2561\n",
      "Time taken for epoch 236.9898681640625 sec\n",
      "\n",
      "Epoch 39/50\n"
     ]
    },
    {
     "name": "stderr",
     "output_type": "stream",
     "text": [
      "[Training Answer]: 100%|██████████| 320/320 [03:51<00:00,  1.38it/s]\n",
      "[Validating Answer]:   3%|▎         | 1/32 [00:00<00:05,  5.47it/s]"
     ]
    },
    {
     "name": "stdout",
     "output_type": "stream",
     "text": [
      "\n",
      "Epoch 39 - Train Loss 1.8991 Train Accuracy 0.7450\n"
     ]
    },
    {
     "name": "stderr",
     "output_type": "stream",
     "text": [
      "[Validating Answer]: 100%|██████████| 32/32 [00:05<00:00,  5.60it/s]\n",
      "[Training Answer]:   0%|          | 0/320 [00:00<?, ?it/s]"
     ]
    },
    {
     "name": "stdout",
     "output_type": "stream",
     "text": [
      "\n",
      "Epoch 39 - Validation Loss 12.2381 Validation Accuracy 0.2499\n",
      "Time taken for epoch 237.40105533599854 sec\n",
      "\n",
      "Epoch 40/50\n"
     ]
    },
    {
     "name": "stderr",
     "output_type": "stream",
     "text": [
      "[Training Answer]: 100%|██████████| 320/320 [03:51<00:00,  1.38it/s]\n",
      "[Validating Answer]:   3%|▎         | 1/32 [00:00<00:05,  5.62it/s]"
     ]
    },
    {
     "name": "stdout",
     "output_type": "stream",
     "text": [
      "\n",
      "Epoch 40 - Train Loss 1.9185 Train Accuracy 0.7423\n"
     ]
    },
    {
     "name": "stderr",
     "output_type": "stream",
     "text": [
      "[Validating Answer]: 100%|██████████| 32/32 [00:05<00:00,  5.63it/s]\n",
      "[Training Answer]:   0%|          | 0/320 [00:00<?, ?it/s]"
     ]
    },
    {
     "name": "stdout",
     "output_type": "stream",
     "text": [
      "\n",
      "Epoch 40 - Validation Loss 12.5581 Validation Accuracy 0.2527\n",
      "Time taken for epoch 237.6640944480896 sec\n",
      "\n",
      "Epoch 41/50\n"
     ]
    },
    {
     "name": "stderr",
     "output_type": "stream",
     "text": [
      "[Training Answer]: 100%|██████████| 320/320 [03:51<00:00,  1.38it/s]\n",
      "[Validating Answer]:   3%|▎         | 1/32 [00:00<00:05,  5.60it/s]"
     ]
    },
    {
     "name": "stdout",
     "output_type": "stream",
     "text": [
      "\n",
      "Epoch 41 - Train Loss 1.9668 Train Accuracy 0.7380\n"
     ]
    },
    {
     "name": "stderr",
     "output_type": "stream",
     "text": [
      "[Validating Answer]: 100%|██████████| 32/32 [00:05<00:00,  5.60it/s]\n",
      "[Training Answer]:   0%|          | 0/320 [00:00<?, ?it/s]"
     ]
    },
    {
     "name": "stdout",
     "output_type": "stream",
     "text": [
      "\n",
      "Epoch 41 - Validation Loss 12.1137 Validation Accuracy 0.2578\n",
      "Time taken for epoch 237.29083108901978 sec\n",
      "\n",
      "Epoch 42/50\n"
     ]
    },
    {
     "name": "stderr",
     "output_type": "stream",
     "text": [
      "[Training Answer]: 100%|██████████| 320/320 [03:57<00:00,  1.34it/s]\n",
      "[Validating Answer]:   3%|▎         | 1/32 [00:00<00:05,  5.36it/s]"
     ]
    },
    {
     "name": "stdout",
     "output_type": "stream",
     "text": [
      "\n",
      "Epoch 42 - Train Loss 1.8747 Train Accuracy 0.7476\n"
     ]
    },
    {
     "name": "stderr",
     "output_type": "stream",
     "text": [
      "[Validating Answer]: 100%|██████████| 32/32 [00:05<00:00,  5.48it/s]\n",
      "[Training Answer]:   0%|          | 0/320 [00:00<?, ?it/s]"
     ]
    },
    {
     "name": "stdout",
     "output_type": "stream",
     "text": [
      "\n",
      "Epoch 42 - Validation Loss 13.1650 Validation Accuracy 0.2504\n",
      "Time taken for epoch 243.93490481376648 sec\n",
      "\n",
      "Epoch 43/50\n"
     ]
    },
    {
     "name": "stderr",
     "output_type": "stream",
     "text": [
      "[Training Answer]: 100%|██████████| 320/320 [03:57<00:00,  1.35it/s]\n",
      "[Validating Answer]:   3%|▎         | 1/32 [00:00<00:05,  5.47it/s]"
     ]
    },
    {
     "name": "stdout",
     "output_type": "stream",
     "text": [
      "\n",
      "Epoch 43 - Train Loss 2.1621 Train Accuracy 0.7089\n"
     ]
    },
    {
     "name": "stderr",
     "output_type": "stream",
     "text": [
      "[Validating Answer]: 100%|██████████| 32/32 [00:05<00:00,  5.65it/s]\n",
      "[Training Answer]:   0%|          | 0/320 [00:00<?, ?it/s]"
     ]
    },
    {
     "name": "stdout",
     "output_type": "stream",
     "text": [
      "\n",
      "Epoch 43 - Validation Loss 11.8801 Validation Accuracy 0.2523\n",
      "Time taken for epoch 242.8671157360077 sec\n",
      "\n",
      "Epoch 44/50\n"
     ]
    },
    {
     "name": "stderr",
     "output_type": "stream",
     "text": [
      "[Training Answer]: 100%|██████████| 320/320 [03:50<00:00,  1.39it/s]\n",
      "[Validating Answer]:   3%|▎         | 1/32 [00:00<00:05,  5.46it/s]"
     ]
    },
    {
     "name": "stdout",
     "output_type": "stream",
     "text": [
      "\n",
      "Epoch 44 - Train Loss 1.7724 Train Accuracy 0.7608\n"
     ]
    },
    {
     "name": "stderr",
     "output_type": "stream",
     "text": [
      "[Validating Answer]: 100%|██████████| 32/32 [00:05<00:00,  5.63it/s]\n",
      "[Training Answer]:   0%|          | 0/320 [00:00<?, ?it/s]"
     ]
    },
    {
     "name": "stdout",
     "output_type": "stream",
     "text": [
      "\n",
      "Epoch 44 - Validation Loss 12.5765 Validation Accuracy 0.2495\n",
      "Time taken for epoch 236.55961775779724 sec\n",
      "\n",
      "Epoch 45/50\n"
     ]
    },
    {
     "name": "stderr",
     "output_type": "stream",
     "text": [
      "[Training Answer]: 100%|██████████| 320/320 [03:50<00:00,  1.39it/s]\n",
      "[Validating Answer]:   3%|▎         | 1/32 [00:00<00:05,  5.46it/s]"
     ]
    },
    {
     "name": "stdout",
     "output_type": "stream",
     "text": [
      "\n",
      "Epoch 45 - Train Loss 1.6568 Train Accuracy 0.7772\n"
     ]
    },
    {
     "name": "stderr",
     "output_type": "stream",
     "text": [
      "[Validating Answer]: 100%|██████████| 32/32 [00:05<00:00,  5.64it/s]\n",
      "[Training Answer]:   0%|          | 0/320 [00:00<?, ?it/s]"
     ]
    },
    {
     "name": "stdout",
     "output_type": "stream",
     "text": [
      "\n",
      "Epoch 45 - Validation Loss 13.4399 Validation Accuracy 0.2490\n",
      "Time taken for epoch 236.35248613357544 sec\n",
      "\n",
      "Epoch 46/50\n"
     ]
    },
    {
     "name": "stderr",
     "output_type": "stream",
     "text": [
      "[Training Answer]: 100%|██████████| 320/320 [03:50<00:00,  1.39it/s]\n",
      "[Validating Answer]:   3%|▎         | 1/32 [00:00<00:05,  5.66it/s]"
     ]
    },
    {
     "name": "stdout",
     "output_type": "stream",
     "text": [
      "\n",
      "Epoch 46 - Train Loss 1.6411 Train Accuracy 0.7791\n"
     ]
    },
    {
     "name": "stderr",
     "output_type": "stream",
     "text": [
      "[Validating Answer]: 100%|██████████| 32/32 [00:05<00:00,  5.62it/s]\n",
      "[Training Answer]:   0%|          | 0/320 [00:00<?, ?it/s]"
     ]
    },
    {
     "name": "stdout",
     "output_type": "stream",
     "text": [
      "\n",
      "Epoch 46 - Validation Loss 12.9428 Validation Accuracy 0.2479\n",
      "Time taken for epoch 236.59711337089539 sec\n",
      "\n",
      "Epoch 47/50\n"
     ]
    },
    {
     "name": "stderr",
     "output_type": "stream",
     "text": [
      "[Training Answer]: 100%|██████████| 320/320 [03:50<00:00,  1.39it/s]\n",
      "[Validating Answer]:   3%|▎         | 1/32 [00:00<00:05,  5.65it/s]"
     ]
    },
    {
     "name": "stdout",
     "output_type": "stream",
     "text": [
      "\n",
      "Epoch 47 - Train Loss 1.6711 Train Accuracy 0.7739\n"
     ]
    },
    {
     "name": "stderr",
     "output_type": "stream",
     "text": [
      "[Validating Answer]: 100%|██████████| 32/32 [00:05<00:00,  5.63it/s]\n",
      "[Training Answer]:   0%|          | 0/320 [00:00<?, ?it/s]"
     ]
    },
    {
     "name": "stdout",
     "output_type": "stream",
     "text": [
      "\n",
      "Epoch 47 - Validation Loss 15.4672 Validation Accuracy 0.2465\n",
      "Time taken for epoch 236.23855137825012 sec\n",
      "\n",
      "Epoch 48/50\n"
     ]
    },
    {
     "name": "stderr",
     "output_type": "stream",
     "text": [
      "[Training Answer]: 100%|██████████| 320/320 [03:50<00:00,  1.39it/s]\n",
      "[Validating Answer]:   3%|▎         | 1/32 [00:00<00:05,  5.62it/s]"
     ]
    },
    {
     "name": "stdout",
     "output_type": "stream",
     "text": [
      "\n",
      "Epoch 48 - Train Loss 1.6545 Train Accuracy 0.7763\n"
     ]
    },
    {
     "name": "stderr",
     "output_type": "stream",
     "text": [
      "[Validating Answer]: 100%|██████████| 32/32 [00:05<00:00,  5.63it/s]\n",
      "[Training Answer]:   0%|          | 0/320 [00:00<?, ?it/s]"
     ]
    },
    {
     "name": "stdout",
     "output_type": "stream",
     "text": [
      "\n",
      "Epoch 48 - Validation Loss 13.9172 Validation Accuracy 0.2446\n",
      "Time taken for epoch 236.4518129825592 sec\n",
      "\n",
      "Epoch 49/50\n"
     ]
    },
    {
     "name": "stderr",
     "output_type": "stream",
     "text": [
      "[Training Answer]: 100%|██████████| 320/320 [03:50<00:00,  1.39it/s]\n",
      "[Validating Answer]:   3%|▎         | 1/32 [00:00<00:05,  5.66it/s]"
     ]
    },
    {
     "name": "stdout",
     "output_type": "stream",
     "text": [
      "\n",
      "Epoch 49 - Train Loss 1.6049 Train Accuracy 0.7838\n"
     ]
    },
    {
     "name": "stderr",
     "output_type": "stream",
     "text": [
      "[Validating Answer]: 100%|██████████| 32/32 [00:05<00:00,  5.64it/s]\n",
      "[Training Answer]:   0%|          | 0/320 [00:00<?, ?it/s]"
     ]
    },
    {
     "name": "stdout",
     "output_type": "stream",
     "text": [
      "\n",
      "Epoch 49 - Validation Loss 14.6349 Validation Accuracy 0.2408\n",
      "Time taken for epoch 236.65052461624146 sec\n",
      "\n",
      "Epoch 50/50\n"
     ]
    },
    {
     "name": "stderr",
     "output_type": "stream",
     "text": [
      "[Training Answer]: 100%|██████████| 320/320 [03:50<00:00,  1.39it/s]\n",
      "[Validating Answer]:   3%|▎         | 1/32 [00:00<00:05,  5.55it/s]"
     ]
    },
    {
     "name": "stdout",
     "output_type": "stream",
     "text": [
      "\n",
      "Epoch 50 - Train Loss 1.5406 Train Accuracy 0.7934\n"
     ]
    },
    {
     "name": "stderr",
     "output_type": "stream",
     "text": [
      "[Validating Answer]: 100%|██████████| 32/32 [00:05<00:00,  5.61it/s]\n"
     ]
    },
    {
     "name": "stdout",
     "output_type": "stream",
     "text": [
      "\n",
      "Epoch 50 - Validation Loss 15.9102 Validation Accuracy 0.2458\n",
      "Time taken for epoch 236.56840467453003 sec\n",
      "\n"
     ]
    },
    {
     "name": "stderr",
     "output_type": "stream",
     "text": [
      "\r",
      "[Training Feasibility]:   0%|          | 0/320 [00:00<?, ?it/s]"
     ]
    },
    {
     "name": "stdout",
     "output_type": "stream",
     "text": [
      "\n",
      "Training the Feasibility model:\n",
      "Epoch 1/50\n"
     ]
    },
    {
     "name": "stderr",
     "output_type": "stream",
     "text": [
      "[Training Feasibility]: 100%|██████████| 320/320 [01:59<00:00,  2.68it/s]\n",
      "[Validating Feasibility]:   0%|          | 0/32 [00:00<?, ?it/s]"
     ]
    },
    {
     "name": "stdout",
     "output_type": "stream",
     "text": [
      "\n",
      "Epoch 1 - Train Loss 0.7752 Train Accuracy 0.6162\n"
     ]
    },
    {
     "name": "stderr",
     "output_type": "stream",
     "text": [
      "[Validating Feasibility]: 100%|██████████| 32/32 [00:09<00:00,  3.43it/s]\n",
      "[Training Feasibility]:   0%|          | 0/320 [00:00<?, ?it/s]"
     ]
    },
    {
     "name": "stdout",
     "output_type": "stream",
     "text": [
      "\n",
      "Epoch 1 - Validation Loss 0.6729 Validation Accuracy 0.6431\n",
      "Time taken for epoch 128.79700589179993 sec\n",
      "\n",
      "Epoch 2/50\n"
     ]
    },
    {
     "name": "stderr",
     "output_type": "stream",
     "text": [
      "[Training Feasibility]: 100%|██████████| 320/320 [01:57<00:00,  2.73it/s]\n",
      "[Validating Feasibility]:   0%|          | 0/32 [00:00<?, ?it/s]"
     ]
    },
    {
     "name": "stdout",
     "output_type": "stream",
     "text": [
      "\n",
      "Epoch 2 - Train Loss 0.6350 Train Accuracy 0.6563\n"
     ]
    },
    {
     "name": "stderr",
     "output_type": "stream",
     "text": [
      "[Validating Feasibility]: 100%|██████████| 32/32 [00:08<00:00,  3.96it/s]\n",
      "[Training Feasibility]:   0%|          | 0/320 [00:00<?, ?it/s]"
     ]
    },
    {
     "name": "stdout",
     "output_type": "stream",
     "text": [
      "\n",
      "Epoch 2 - Validation Loss 0.6598 Validation Accuracy 0.6572\n",
      "Time taken for epoch 125.47115278244019 sec\n",
      "\n",
      "Epoch 3/50\n"
     ]
    },
    {
     "name": "stderr",
     "output_type": "stream",
     "text": [
      "[Training Feasibility]: 100%|██████████| 320/320 [01:57<00:00,  2.73it/s]\n",
      "[Validating Feasibility]:   0%|          | 0/32 [00:00<?, ?it/s]"
     ]
    },
    {
     "name": "stdout",
     "output_type": "stream",
     "text": [
      "\n",
      "Epoch 3 - Train Loss 0.6125 Train Accuracy 0.6693\n"
     ]
    },
    {
     "name": "stderr",
     "output_type": "stream",
     "text": [
      "[Validating Feasibility]: 100%|██████████| 32/32 [00:08<00:00,  3.97it/s]\n",
      "[Training Feasibility]:   0%|          | 0/320 [00:00<?, ?it/s]"
     ]
    },
    {
     "name": "stdout",
     "output_type": "stream",
     "text": [
      "\n",
      "Epoch 3 - Validation Loss 0.6476 Validation Accuracy 0.6460\n",
      "Time taken for epoch 125.36098766326904 sec\n",
      "\n",
      "Epoch 4/50\n"
     ]
    },
    {
     "name": "stderr",
     "output_type": "stream",
     "text": [
      "[Training Feasibility]: 100%|██████████| 320/320 [01:57<00:00,  2.73it/s]\n",
      "[Validating Feasibility]:   0%|          | 0/32 [00:00<?, ?it/s]"
     ]
    },
    {
     "name": "stdout",
     "output_type": "stream",
     "text": [
      "\n",
      "Epoch 4 - Train Loss 0.5989 Train Accuracy 0.6788\n"
     ]
    },
    {
     "name": "stderr",
     "output_type": "stream",
     "text": [
      "[Validating Feasibility]: 100%|██████████| 32/32 [00:08<00:00,  3.94it/s]\n",
      "[Training Feasibility]:   0%|          | 0/320 [00:00<?, ?it/s]"
     ]
    },
    {
     "name": "stdout",
     "output_type": "stream",
     "text": [
      "\n",
      "Epoch 4 - Validation Loss 0.6573 Validation Accuracy 0.6465\n",
      "Time taken for epoch 125.50292491912842 sec\n",
      "\n",
      "Epoch 5/50\n"
     ]
    },
    {
     "name": "stderr",
     "output_type": "stream",
     "text": [
      "[Training Feasibility]: 100%|██████████| 320/320 [01:57<00:00,  2.72it/s]\n",
      "[Validating Feasibility]:   0%|          | 0/32 [00:00<?, ?it/s]"
     ]
    },
    {
     "name": "stdout",
     "output_type": "stream",
     "text": [
      "\n",
      "Epoch 5 - Train Loss 0.5859 Train Accuracy 0.6901\n"
     ]
    },
    {
     "name": "stderr",
     "output_type": "stream",
     "text": [
      "[Validating Feasibility]: 100%|██████████| 32/32 [00:08<00:00,  3.95it/s]\n",
      "[Training Feasibility]:   0%|          | 0/320 [00:00<?, ?it/s]"
     ]
    },
    {
     "name": "stdout",
     "output_type": "stream",
     "text": [
      "\n",
      "Epoch 5 - Validation Loss 0.6639 Validation Accuracy 0.6062\n",
      "Time taken for epoch 125.70972180366516 sec\n",
      "\n",
      "Epoch 6/50\n"
     ]
    },
    {
     "name": "stderr",
     "output_type": "stream",
     "text": [
      "[Training Feasibility]: 100%|██████████| 320/320 [01:57<00:00,  2.73it/s]\n",
      "[Validating Feasibility]:   0%|          | 0/32 [00:00<?, ?it/s]"
     ]
    },
    {
     "name": "stdout",
     "output_type": "stream",
     "text": [
      "\n",
      "Epoch 6 - Train Loss 0.5717 Train Accuracy 0.7013\n"
     ]
    },
    {
     "name": "stderr",
     "output_type": "stream",
     "text": [
      "[Validating Feasibility]: 100%|██████████| 32/32 [00:08<00:00,  3.95it/s]\n",
      "[Training Feasibility]:   0%|          | 0/320 [00:00<?, ?it/s]"
     ]
    },
    {
     "name": "stdout",
     "output_type": "stream",
     "text": [
      "\n",
      "Epoch 6 - Validation Loss 0.6690 Validation Accuracy 0.6123\n",
      "Time taken for epoch 125.57722973823547 sec\n",
      "\n",
      "Epoch 7/50\n"
     ]
    },
    {
     "name": "stderr",
     "output_type": "stream",
     "text": [
      "[Training Feasibility]: 100%|██████████| 320/320 [01:57<00:00,  2.72it/s]\n",
      "[Validating Feasibility]:   0%|          | 0/32 [00:00<?, ?it/s]"
     ]
    },
    {
     "name": "stdout",
     "output_type": "stream",
     "text": [
      "\n",
      "Epoch 7 - Train Loss 0.5601 Train Accuracy 0.7123\n"
     ]
    },
    {
     "name": "stderr",
     "output_type": "stream",
     "text": [
      "[Validating Feasibility]: 100%|██████████| 32/32 [00:08<00:00,  3.94it/s]\n",
      "[Training Feasibility]:   0%|          | 0/320 [00:00<?, ?it/s]"
     ]
    },
    {
     "name": "stdout",
     "output_type": "stream",
     "text": [
      "\n",
      "Epoch 7 - Validation Loss 0.6836 Validation Accuracy 0.5962\n",
      "Time taken for epoch 125.97875595092773 sec\n",
      "\n",
      "Epoch 8/50\n"
     ]
    },
    {
     "name": "stderr",
     "output_type": "stream",
     "text": [
      "[Training Feasibility]: 100%|██████████| 320/320 [01:57<00:00,  2.73it/s]\n",
      "[Validating Feasibility]:   0%|          | 0/32 [00:00<?, ?it/s]"
     ]
    },
    {
     "name": "stdout",
     "output_type": "stream",
     "text": [
      "\n",
      "Epoch 8 - Train Loss 0.5512 Train Accuracy 0.7191\n"
     ]
    },
    {
     "name": "stderr",
     "output_type": "stream",
     "text": [
      "[Validating Feasibility]: 100%|██████████| 32/32 [00:08<00:00,  3.95it/s]\n",
      "[Training Feasibility]:   0%|          | 0/320 [00:00<?, ?it/s]"
     ]
    },
    {
     "name": "stdout",
     "output_type": "stream",
     "text": [
      "\n",
      "Epoch 8 - Validation Loss 0.6761 Validation Accuracy 0.6423\n",
      "Time taken for epoch 125.62863254547119 sec\n",
      "\n",
      "Epoch 9/50\n"
     ]
    },
    {
     "name": "stderr",
     "output_type": "stream",
     "text": [
      "[Training Feasibility]: 100%|██████████| 320/320 [01:57<00:00,  2.73it/s]\n",
      "[Validating Feasibility]:   0%|          | 0/32 [00:00<?, ?it/s]"
     ]
    },
    {
     "name": "stdout",
     "output_type": "stream",
     "text": [
      "\n",
      "Epoch 9 - Train Loss 0.5438 Train Accuracy 0.7276\n"
     ]
    },
    {
     "name": "stderr",
     "output_type": "stream",
     "text": [
      "[Validating Feasibility]: 100%|██████████| 32/32 [00:08<00:00,  3.96it/s]\n",
      "[Training Feasibility]:   0%|          | 0/320 [00:00<?, ?it/s]"
     ]
    },
    {
     "name": "stdout",
     "output_type": "stream",
     "text": [
      "\n",
      "Epoch 9 - Validation Loss 0.6802 Validation Accuracy 0.6350\n",
      "Time taken for epoch 125.53931331634521 sec\n",
      "\n",
      "Epoch 10/50\n"
     ]
    },
    {
     "name": "stderr",
     "output_type": "stream",
     "text": [
      "[Training Feasibility]: 100%|██████████| 320/320 [01:57<00:00,  2.73it/s]\n",
      "[Validating Feasibility]:   0%|          | 0/32 [00:00<?, ?it/s]"
     ]
    },
    {
     "name": "stdout",
     "output_type": "stream",
     "text": [
      "\n",
      "Epoch 10 - Train Loss 0.5307 Train Accuracy 0.7382\n"
     ]
    },
    {
     "name": "stderr",
     "output_type": "stream",
     "text": [
      "[Validating Feasibility]: 100%|██████████| 32/32 [00:08<00:00,  3.95it/s]\n",
      "[Training Feasibility]:   0%|          | 0/320 [00:00<?, ?it/s]"
     ]
    },
    {
     "name": "stdout",
     "output_type": "stream",
     "text": [
      "\n",
      "Epoch 10 - Validation Loss 0.7039 Validation Accuracy 0.6084\n",
      "Time taken for epoch 125.50963258743286 sec\n",
      "\n",
      "Epoch 11/50\n"
     ]
    },
    {
     "name": "stderr",
     "output_type": "stream",
     "text": [
      "[Training Feasibility]: 100%|██████████| 320/320 [01:57<00:00,  2.72it/s]\n",
      "[Validating Feasibility]:   0%|          | 0/32 [00:00<?, ?it/s]"
     ]
    },
    {
     "name": "stdout",
     "output_type": "stream",
     "text": [
      "\n",
      "Epoch 11 - Train Loss 0.5227 Train Accuracy 0.7435\n"
     ]
    },
    {
     "name": "stderr",
     "output_type": "stream",
     "text": [
      "[Validating Feasibility]: 100%|██████████| 32/32 [00:08<00:00,  3.95it/s]\n",
      "[Training Feasibility]:   0%|          | 0/320 [00:00<?, ?it/s]"
     ]
    },
    {
     "name": "stdout",
     "output_type": "stream",
     "text": [
      "\n",
      "Epoch 11 - Validation Loss 0.7065 Validation Accuracy 0.6243\n",
      "Time taken for epoch 125.96682238578796 sec\n",
      "\n",
      "Epoch 12/50\n"
     ]
    },
    {
     "name": "stderr",
     "output_type": "stream",
     "text": [
      "[Training Feasibility]: 100%|██████████| 320/320 [01:57<00:00,  2.73it/s]\n",
      "[Validating Feasibility]:   0%|          | 0/32 [00:00<?, ?it/s]"
     ]
    },
    {
     "name": "stdout",
     "output_type": "stream",
     "text": [
      "\n",
      "Epoch 12 - Train Loss 0.5145 Train Accuracy 0.7522\n"
     ]
    },
    {
     "name": "stderr",
     "output_type": "stream",
     "text": [
      "[Validating Feasibility]: 100%|██████████| 32/32 [00:08<00:00,  3.92it/s]\n",
      "[Training Feasibility]:   0%|          | 0/320 [00:00<?, ?it/s]"
     ]
    },
    {
     "name": "stdout",
     "output_type": "stream",
     "text": [
      "\n",
      "Epoch 12 - Validation Loss 0.7344 Validation Accuracy 0.5962\n",
      "Time taken for epoch 125.44634056091309 sec\n",
      "\n",
      "Epoch 13/50\n"
     ]
    },
    {
     "name": "stderr",
     "output_type": "stream",
     "text": [
      "[Training Feasibility]: 100%|██████████| 320/320 [01:57<00:00,  2.72it/s]\n",
      "[Validating Feasibility]:   0%|          | 0/32 [00:00<?, ?it/s]"
     ]
    },
    {
     "name": "stdout",
     "output_type": "stream",
     "text": [
      "\n",
      "Epoch 13 - Train Loss 0.5037 Train Accuracy 0.7586\n"
     ]
    },
    {
     "name": "stderr",
     "output_type": "stream",
     "text": [
      "[Validating Feasibility]: 100%|██████████| 32/32 [00:08<00:00,  3.92it/s]\n",
      "[Training Feasibility]:   0%|          | 0/320 [00:00<?, ?it/s]"
     ]
    },
    {
     "name": "stdout",
     "output_type": "stream",
     "text": [
      "\n",
      "Epoch 13 - Validation Loss 0.7347 Validation Accuracy 0.6125\n",
      "Time taken for epoch 125.6893789768219 sec\n",
      "\n",
      "Epoch 14/50\n"
     ]
    },
    {
     "name": "stderr",
     "output_type": "stream",
     "text": [
      "[Training Feasibility]: 100%|██████████| 320/320 [02:01<00:00,  2.64it/s]\n",
      "[Validating Feasibility]:   0%|          | 0/32 [00:00<?, ?it/s]"
     ]
    },
    {
     "name": "stdout",
     "output_type": "stream",
     "text": [
      "\n",
      "Epoch 14 - Train Loss 0.4953 Train Accuracy 0.7645\n"
     ]
    },
    {
     "name": "stderr",
     "output_type": "stream",
     "text": [
      "[Validating Feasibility]: 100%|██████████| 32/32 [00:08<00:00,  3.81it/s]\n",
      "[Training Feasibility]:   0%|          | 0/320 [00:00<?, ?it/s]"
     ]
    },
    {
     "name": "stdout",
     "output_type": "stream",
     "text": [
      "\n",
      "Epoch 14 - Validation Loss 0.7451 Validation Accuracy 0.5881\n",
      "Time taken for epoch 129.62693071365356 sec\n",
      "\n",
      "Epoch 15/50\n"
     ]
    },
    {
     "name": "stderr",
     "output_type": "stream",
     "text": [
      "[Training Feasibility]: 100%|██████████| 320/320 [02:09<00:00,  2.46it/s]\n",
      "[Validating Feasibility]:   0%|          | 0/32 [00:00<?, ?it/s]"
     ]
    },
    {
     "name": "stdout",
     "output_type": "stream",
     "text": [
      "\n",
      "Epoch 15 - Train Loss 0.4880 Train Accuracy 0.7681\n"
     ]
    },
    {
     "name": "stderr",
     "output_type": "stream",
     "text": [
      "[Validating Feasibility]: 100%|██████████| 32/32 [00:08<00:00,  3.70it/s]\n",
      "[Training Feasibility]:   0%|          | 0/320 [00:00<?, ?it/s]"
     ]
    },
    {
     "name": "stdout",
     "output_type": "stream",
     "text": [
      "\n",
      "Epoch 15 - Validation Loss 0.7694 Validation Accuracy 0.6309\n",
      "Time taken for epoch 138.60704851150513 sec\n",
      "\n",
      "Epoch 16/50\n"
     ]
    },
    {
     "name": "stderr",
     "output_type": "stream",
     "text": [
      "[Training Feasibility]: 100%|██████████| 320/320 [02:11<00:00,  2.42it/s]\n",
      "[Validating Feasibility]:   0%|          | 0/32 [00:00<?, ?it/s]"
     ]
    },
    {
     "name": "stdout",
     "output_type": "stream",
     "text": [
      "\n",
      "Epoch 16 - Train Loss 0.4834 Train Accuracy 0.7717\n"
     ]
    },
    {
     "name": "stderr",
     "output_type": "stream",
     "text": [
      "[Validating Feasibility]: 100%|██████████| 32/32 [00:10<00:00,  3.05it/s]\n",
      "[Training Feasibility]:   0%|          | 0/320 [00:00<?, ?it/s]"
     ]
    },
    {
     "name": "stdout",
     "output_type": "stream",
     "text": [
      "\n",
      "Epoch 16 - Validation Loss 0.7540 Validation Accuracy 0.6296\n",
      "Time taken for epoch 142.5932013988495 sec\n",
      "\n",
      "Epoch 17/50\n"
     ]
    },
    {
     "name": "stderr",
     "output_type": "stream",
     "text": [
      "[Training Feasibility]: 100%|██████████| 320/320 [02:31<00:00,  2.11it/s]\n",
      "[Validating Feasibility]:   0%|          | 0/32 [00:00<?, ?it/s]"
     ]
    },
    {
     "name": "stdout",
     "output_type": "stream",
     "text": [
      "\n",
      "Epoch 17 - Train Loss 0.4710 Train Accuracy 0.7801\n"
     ]
    },
    {
     "name": "stderr",
     "output_type": "stream",
     "text": [
      "[Validating Feasibility]: 100%|██████████| 32/32 [00:10<00:00,  3.14it/s]\n",
      "[Training Feasibility]:   0%|          | 0/320 [00:00<?, ?it/s]"
     ]
    },
    {
     "name": "stdout",
     "output_type": "stream",
     "text": [
      "\n",
      "Epoch 17 - Validation Loss 0.7832 Validation Accuracy 0.6111\n",
      "Time taken for epoch 161.80687046051025 sec\n",
      "\n",
      "Epoch 18/50\n"
     ]
    },
    {
     "name": "stderr",
     "output_type": "stream",
     "text": [
      "[Training Feasibility]: 100%|██████████| 320/320 [02:49<00:00,  1.89it/s]\n",
      "[Validating Feasibility]:   0%|          | 0/32 [00:00<?, ?it/s]"
     ]
    },
    {
     "name": "stdout",
     "output_type": "stream",
     "text": [
      "\n",
      "Epoch 18 - Train Loss 0.4676 Train Accuracy 0.7820\n"
     ]
    },
    {
     "name": "stderr",
     "output_type": "stream",
     "text": [
      "[Validating Feasibility]: 100%|██████████| 32/32 [00:13<00:00,  2.42it/s]\n",
      "[Training Feasibility]:   0%|          | 0/320 [00:00<?, ?it/s]"
     ]
    },
    {
     "name": "stdout",
     "output_type": "stream",
     "text": [
      "\n",
      "Epoch 18 - Validation Loss 0.7829 Validation Accuracy 0.6245\n",
      "Time taken for epoch 182.9746437072754 sec\n",
      "\n",
      "Epoch 19/50\n"
     ]
    },
    {
     "name": "stderr",
     "output_type": "stream",
     "text": [
      "[Training Feasibility]: 100%|██████████| 320/320 [02:58<00:00,  1.79it/s]\n",
      "[Validating Feasibility]:   0%|          | 0/32 [00:00<?, ?it/s]"
     ]
    },
    {
     "name": "stdout",
     "output_type": "stream",
     "text": [
      "\n",
      "Epoch 19 - Train Loss 0.4569 Train Accuracy 0.7877\n"
     ]
    },
    {
     "name": "stderr",
     "output_type": "stream",
     "text": [
      "[Validating Feasibility]: 100%|██████████| 32/32 [00:11<00:00,  2.89it/s]\n",
      "[Training Feasibility]:   0%|          | 0/320 [00:00<?, ?it/s]"
     ]
    },
    {
     "name": "stdout",
     "output_type": "stream",
     "text": [
      "\n",
      "Epoch 19 - Validation Loss 0.8167 Validation Accuracy 0.6235\n",
      "Time taken for epoch 190.17993640899658 sec\n",
      "\n",
      "Epoch 20/50\n"
     ]
    },
    {
     "name": "stderr",
     "output_type": "stream",
     "text": [
      "[Training Feasibility]: 100%|██████████| 320/320 [02:51<00:00,  1.86it/s]\n",
      "[Validating Feasibility]:   0%|          | 0/32 [00:00<?, ?it/s]"
     ]
    },
    {
     "name": "stdout",
     "output_type": "stream",
     "text": [
      "\n",
      "Epoch 20 - Train Loss 0.4541 Train Accuracy 0.7910\n"
     ]
    },
    {
     "name": "stderr",
     "output_type": "stream",
     "text": [
      "[Validating Feasibility]: 100%|██████████| 32/32 [00:11<00:00,  2.71it/s]\n",
      "[Training Feasibility]:   0%|          | 0/320 [00:00<?, ?it/s]"
     ]
    },
    {
     "name": "stdout",
     "output_type": "stream",
     "text": [
      "\n",
      "Epoch 20 - Validation Loss 0.8201 Validation Accuracy 0.6094\n",
      "Time taken for epoch 183.95790457725525 sec\n",
      "\n",
      "Epoch 21/50\n"
     ]
    },
    {
     "name": "stderr",
     "output_type": "stream",
     "text": [
      "[Training Feasibility]: 100%|██████████| 320/320 [02:59<00:00,  1.78it/s]\n",
      "[Validating Feasibility]:   0%|          | 0/32 [00:00<?, ?it/s]"
     ]
    },
    {
     "name": "stdout",
     "output_type": "stream",
     "text": [
      "\n",
      "Epoch 21 - Train Loss 0.4464 Train Accuracy 0.7953\n"
     ]
    },
    {
     "name": "stderr",
     "output_type": "stream",
     "text": [
      "[Validating Feasibility]: 100%|██████████| 32/32 [00:11<00:00,  2.75it/s]\n",
      "[Training Feasibility]:   0%|          | 0/320 [00:00<?, ?it/s]"
     ]
    },
    {
     "name": "stdout",
     "output_type": "stream",
     "text": [
      "\n",
      "Epoch 21 - Validation Loss 0.8430 Validation Accuracy 0.6096\n",
      "Time taken for epoch 191.54736876487732 sec\n",
      "\n",
      "Epoch 22/50\n"
     ]
    },
    {
     "name": "stderr",
     "output_type": "stream",
     "text": [
      "[Training Feasibility]: 100%|██████████| 320/320 [02:50<00:00,  1.87it/s]\n",
      "[Validating Feasibility]:   0%|          | 0/32 [00:00<?, ?it/s]"
     ]
    },
    {
     "name": "stdout",
     "output_type": "stream",
     "text": [
      "\n",
      "Epoch 22 - Train Loss 0.4400 Train Accuracy 0.7971\n"
     ]
    },
    {
     "name": "stderr",
     "output_type": "stream",
     "text": [
      "[Validating Feasibility]: 100%|██████████| 32/32 [00:12<00:00,  2.65it/s]\n",
      "[Training Feasibility]:   0%|          | 0/320 [00:00<?, ?it/s]"
     ]
    },
    {
     "name": "stdout",
     "output_type": "stream",
     "text": [
      "\n",
      "Epoch 22 - Validation Loss 0.8650 Validation Accuracy 0.6108\n",
      "Time taken for epoch 183.11671209335327 sec\n",
      "\n",
      "Epoch 23/50\n"
     ]
    },
    {
     "name": "stderr",
     "output_type": "stream",
     "text": [
      "[Training Feasibility]: 100%|██████████| 320/320 [02:57<00:00,  1.80it/s]\n",
      "[Validating Feasibility]:   0%|          | 0/32 [00:00<?, ?it/s]"
     ]
    },
    {
     "name": "stdout",
     "output_type": "stream",
     "text": [
      "\n",
      "Epoch 23 - Train Loss 0.4383 Train Accuracy 0.7979\n"
     ]
    },
    {
     "name": "stderr",
     "output_type": "stream",
     "text": [
      "[Validating Feasibility]: 100%|██████████| 32/32 [00:14<00:00,  2.22it/s]\n",
      "[Training Feasibility]:   0%|          | 0/320 [00:00<?, ?it/s]"
     ]
    },
    {
     "name": "stdout",
     "output_type": "stream",
     "text": [
      "\n",
      "Epoch 23 - Validation Loss 0.8244 Validation Accuracy 0.6008\n",
      "Time taken for epoch 192.29735684394836 sec\n",
      "\n",
      "Epoch 24/50\n"
     ]
    },
    {
     "name": "stderr",
     "output_type": "stream",
     "text": [
      "[Training Feasibility]: 100%|██████████| 320/320 [03:22<00:00,  1.58it/s]\n",
      "[Validating Feasibility]:   0%|          | 0/32 [00:00<?, ?it/s]"
     ]
    },
    {
     "name": "stdout",
     "output_type": "stream",
     "text": [
      "\n",
      "Epoch 24 - Train Loss 0.4342 Train Accuracy 0.8017\n"
     ]
    },
    {
     "name": "stderr",
     "output_type": "stream",
     "text": [
      "[Validating Feasibility]: 100%|██████████| 32/32 [00:14<00:00,  2.18it/s]\n",
      "[Training Feasibility]:   0%|          | 0/320 [00:00<?, ?it/s]"
     ]
    },
    {
     "name": "stdout",
     "output_type": "stream",
     "text": [
      "\n",
      "Epoch 24 - Validation Loss 0.8544 Validation Accuracy 0.6204\n",
      "Time taken for epoch 217.60237669944763 sec\n",
      "\n",
      "Epoch 25/50\n"
     ]
    },
    {
     "name": "stderr",
     "output_type": "stream",
     "text": [
      "[Training Feasibility]: 100%|██████████| 320/320 [03:11<00:00,  1.67it/s]\n",
      "[Validating Feasibility]:   0%|          | 0/32 [00:00<?, ?it/s]"
     ]
    },
    {
     "name": "stdout",
     "output_type": "stream",
     "text": [
      "\n",
      "Epoch 25 - Train Loss 0.4272 Train Accuracy 0.8069\n"
     ]
    },
    {
     "name": "stderr",
     "output_type": "stream",
     "text": [
      "[Validating Feasibility]: 100%|██████████| 32/32 [00:13<00:00,  2.37it/s]\n",
      "[Training Feasibility]:   0%|          | 0/320 [00:00<?, ?it/s]"
     ]
    },
    {
     "name": "stdout",
     "output_type": "stream",
     "text": [
      "\n",
      "Epoch 25 - Validation Loss 0.8754 Validation Accuracy 0.6169\n",
      "Time taken for epoch 204.7803599834442 sec\n",
      "\n",
      "Epoch 26/50\n"
     ]
    },
    {
     "name": "stderr",
     "output_type": "stream",
     "text": [
      "[Training Feasibility]: 100%|██████████| 320/320 [03:06<00:00,  1.72it/s]\n",
      "[Validating Feasibility]:   0%|          | 0/32 [00:00<?, ?it/s]"
     ]
    },
    {
     "name": "stdout",
     "output_type": "stream",
     "text": [
      "\n",
      "Epoch 26 - Train Loss 0.4181 Train Accuracy 0.8106\n"
     ]
    },
    {
     "name": "stderr",
     "output_type": "stream",
     "text": [
      "[Validating Feasibility]: 100%|██████████| 32/32 [00:11<00:00,  2.73it/s]\n",
      "[Training Feasibility]:   0%|          | 0/320 [00:00<?, ?it/s]"
     ]
    },
    {
     "name": "stdout",
     "output_type": "stream",
     "text": [
      "\n",
      "Epoch 26 - Validation Loss 0.8725 Validation Accuracy 0.5994\n",
      "Time taken for epoch 198.3020830154419 sec\n",
      "\n",
      "Epoch 27/50\n"
     ]
    },
    {
     "name": "stderr",
     "output_type": "stream",
     "text": [
      "[Training Feasibility]: 100%|██████████| 320/320 [03:13<00:00,  1.65it/s]\n",
      "[Validating Feasibility]:   0%|          | 0/32 [00:00<?, ?it/s]"
     ]
    },
    {
     "name": "stdout",
     "output_type": "stream",
     "text": [
      "\n",
      "Epoch 27 - Train Loss 0.4133 Train Accuracy 0.8146\n"
     ]
    },
    {
     "name": "stderr",
     "output_type": "stream",
     "text": [
      "[Validating Feasibility]: 100%|██████████| 32/32 [00:11<00:00,  2.69it/s]\n",
      "[Training Feasibility]:   0%|          | 0/320 [00:00<?, ?it/s]"
     ]
    },
    {
     "name": "stdout",
     "output_type": "stream",
     "text": [
      "\n",
      "Epoch 27 - Validation Loss 0.9163 Validation Accuracy 0.6030\n",
      "Time taken for epoch 205.61948084831238 sec\n",
      "\n",
      "Epoch 28/50\n"
     ]
    },
    {
     "name": "stderr",
     "output_type": "stream",
     "text": [
      "[Training Feasibility]: 100%|██████████| 320/320 [03:04<00:00,  1.74it/s]\n",
      "[Validating Feasibility]:   0%|          | 0/32 [00:00<?, ?it/s]"
     ]
    },
    {
     "name": "stdout",
     "output_type": "stream",
     "text": [
      "\n",
      "Epoch 28 - Train Loss 0.4075 Train Accuracy 0.8151\n"
     ]
    },
    {
     "name": "stderr",
     "output_type": "stream",
     "text": [
      "[Validating Feasibility]: 100%|██████████| 32/32 [00:11<00:00,  2.81it/s]\n",
      "[Training Feasibility]:   0%|          | 0/320 [00:00<?, ?it/s]"
     ]
    },
    {
     "name": "stdout",
     "output_type": "stream",
     "text": [
      "\n",
      "Epoch 28 - Validation Loss 0.9560 Validation Accuracy 0.6086\n",
      "Time taken for epoch 195.83276414871216 sec\n",
      "\n",
      "Epoch 29/50\n"
     ]
    },
    {
     "name": "stderr",
     "output_type": "stream",
     "text": [
      "[Training Feasibility]: 100%|██████████| 320/320 [03:08<00:00,  1.69it/s]\n",
      "[Validating Feasibility]:   0%|          | 0/32 [00:00<?, ?it/s]"
     ]
    },
    {
     "name": "stdout",
     "output_type": "stream",
     "text": [
      "\n",
      "Epoch 29 - Train Loss 0.4000 Train Accuracy 0.8213\n"
     ]
    },
    {
     "name": "stderr",
     "output_type": "stream",
     "text": [
      "[Validating Feasibility]: 100%|██████████| 32/32 [00:12<00:00,  2.59it/s]\n",
      "[Training Feasibility]:   0%|          | 0/320 [00:00<?, ?it/s]"
     ]
    },
    {
     "name": "stdout",
     "output_type": "stream",
     "text": [
      "\n",
      "Epoch 29 - Validation Loss 0.9147 Validation Accuracy 0.6072\n",
      "Time taken for epoch 201.41436791419983 sec\n",
      "\n",
      "Epoch 30/50\n"
     ]
    },
    {
     "name": "stderr",
     "output_type": "stream",
     "text": [
      "[Training Feasibility]: 100%|██████████| 320/320 [02:58<00:00,  1.79it/s]\n",
      "[Validating Feasibility]:   0%|          | 0/32 [00:00<?, ?it/s]"
     ]
    },
    {
     "name": "stdout",
     "output_type": "stream",
     "text": [
      "\n",
      "Epoch 30 - Train Loss 0.4006 Train Accuracy 0.8194\n"
     ]
    },
    {
     "name": "stderr",
     "output_type": "stream",
     "text": [
      "[Validating Feasibility]: 100%|██████████| 32/32 [00:11<00:00,  2.70it/s]\n",
      "[Training Feasibility]:   0%|          | 0/320 [00:00<?, ?it/s]"
     ]
    },
    {
     "name": "stdout",
     "output_type": "stream",
     "text": [
      "\n",
      "Epoch 30 - Validation Loss 0.9673 Validation Accuracy 0.6194\n",
      "Time taken for epoch 190.5920717716217 sec\n",
      "\n",
      "Epoch 31/50\n"
     ]
    },
    {
     "name": "stderr",
     "output_type": "stream",
     "text": [
      "[Training Feasibility]: 100%|██████████| 320/320 [03:05<00:00,  1.73it/s]\n",
      "[Validating Feasibility]:   0%|          | 0/32 [00:00<?, ?it/s]"
     ]
    },
    {
     "name": "stdout",
     "output_type": "stream",
     "text": [
      "\n",
      "Epoch 31 - Train Loss 0.3966 Train Accuracy 0.8228\n"
     ]
    },
    {
     "name": "stderr",
     "output_type": "stream",
     "text": [
      "[Validating Feasibility]: 100%|██████████| 32/32 [00:12<00:00,  2.65it/s]\n",
      "[Training Feasibility]:   0%|          | 0/320 [00:00<?, ?it/s]"
     ]
    },
    {
     "name": "stdout",
     "output_type": "stream",
     "text": [
      "\n",
      "Epoch 31 - Validation Loss 0.9840 Validation Accuracy 0.5796\n",
      "Time taken for epoch 197.4826374053955 sec\n",
      "\n",
      "Epoch 32/50\n"
     ]
    },
    {
     "name": "stderr",
     "output_type": "stream",
     "text": [
      "[Training Feasibility]: 100%|██████████| 320/320 [03:02<00:00,  1.76it/s]\n",
      "[Validating Feasibility]:   0%|          | 0/32 [00:00<?, ?it/s]"
     ]
    },
    {
     "name": "stdout",
     "output_type": "stream",
     "text": [
      "\n",
      "Epoch 32 - Train Loss 0.3889 Train Accuracy 0.8274\n"
     ]
    },
    {
     "name": "stderr",
     "output_type": "stream",
     "text": [
      "[Validating Feasibility]: 100%|██████████| 32/32 [00:14<00:00,  2.22it/s]\n",
      "[Training Feasibility]:   0%|          | 0/320 [00:00<?, ?it/s]"
     ]
    },
    {
     "name": "stdout",
     "output_type": "stream",
     "text": [
      "\n",
      "Epoch 32 - Validation Loss 0.9965 Validation Accuracy 0.6074\n",
      "Time taken for epoch 196.90107250213623 sec\n",
      "\n",
      "Epoch 33/50\n"
     ]
    },
    {
     "name": "stderr",
     "output_type": "stream",
     "text": [
      "[Training Feasibility]: 100%|██████████| 320/320 [02:16<00:00,  2.34it/s]\n",
      "[Validating Feasibility]:   0%|          | 0/32 [00:00<?, ?it/s]"
     ]
    },
    {
     "name": "stdout",
     "output_type": "stream",
     "text": [
      "\n",
      "Epoch 33 - Train Loss 0.3833 Train Accuracy 0.8289\n"
     ]
    },
    {
     "name": "stderr",
     "output_type": "stream",
     "text": [
      "[Validating Feasibility]: 100%|██████████| 32/32 [00:08<00:00,  3.70it/s]\n",
      "[Training Feasibility]:   0%|          | 0/320 [00:00<?, ?it/s]"
     ]
    },
    {
     "name": "stdout",
     "output_type": "stream",
     "text": [
      "\n",
      "Epoch 33 - Validation Loss 0.9849 Validation Accuracy 0.5894\n",
      "Time taken for epoch 145.46934485435486 sec\n",
      "\n",
      "Epoch 34/50\n"
     ]
    },
    {
     "name": "stderr",
     "output_type": "stream",
     "text": [
      "[Training Feasibility]: 100%|██████████| 320/320 [02:04<00:00,  2.56it/s]\n",
      "[Validating Feasibility]:   0%|          | 0/32 [00:00<?, ?it/s]"
     ]
    },
    {
     "name": "stdout",
     "output_type": "stream",
     "text": [
      "\n",
      "Epoch 34 - Train Loss 0.3796 Train Accuracy 0.8312\n"
     ]
    },
    {
     "name": "stderr",
     "output_type": "stream",
     "text": [
      "[Validating Feasibility]: 100%|██████████| 32/32 [00:08<00:00,  3.66it/s]\n",
      "[Training Feasibility]:   0%|          | 0/320 [00:00<?, ?it/s]"
     ]
    },
    {
     "name": "stdout",
     "output_type": "stream",
     "text": [
      "\n",
      "Epoch 34 - Validation Loss 1.0541 Validation Accuracy 0.6038\n",
      "Time taken for epoch 133.74475240707397 sec\n",
      "\n",
      "Epoch 35/50\n"
     ]
    },
    {
     "name": "stderr",
     "output_type": "stream",
     "text": [
      "[Training Feasibility]: 100%|██████████| 320/320 [02:02<00:00,  2.61it/s]\n",
      "[Validating Feasibility]:   0%|          | 0/32 [00:00<?, ?it/s]"
     ]
    },
    {
     "name": "stdout",
     "output_type": "stream",
     "text": [
      "\n",
      "Epoch 35 - Train Loss 0.3783 Train Accuracy 0.8340\n"
     ]
    },
    {
     "name": "stderr",
     "output_type": "stream",
     "text": [
      "[Validating Feasibility]: 100%|██████████| 32/32 [00:08<00:00,  3.86it/s]\n",
      "[Training Feasibility]:   0%|          | 0/320 [00:00<?, ?it/s]"
     ]
    },
    {
     "name": "stdout",
     "output_type": "stream",
     "text": [
      "\n",
      "Epoch 35 - Validation Loss 1.0409 Validation Accuracy 0.6189\n",
      "Time taken for epoch 131.21014428138733 sec\n",
      "\n",
      "Epoch 36/50\n"
     ]
    },
    {
     "name": "stderr",
     "output_type": "stream",
     "text": [
      "[Training Feasibility]: 100%|██████████| 320/320 [01:59<00:00,  2.67it/s]\n",
      "[Validating Feasibility]:   0%|          | 0/32 [00:00<?, ?it/s]"
     ]
    },
    {
     "name": "stdout",
     "output_type": "stream",
     "text": [
      "\n",
      "Epoch 36 - Train Loss 0.3759 Train Accuracy 0.8328\n"
     ]
    },
    {
     "name": "stderr",
     "output_type": "stream",
     "text": [
      "[Validating Feasibility]: 100%|██████████| 32/32 [00:08<00:00,  3.73it/s]\n",
      "[Training Feasibility]:   0%|          | 0/320 [00:00<?, ?it/s]"
     ]
    },
    {
     "name": "stdout",
     "output_type": "stream",
     "text": [
      "\n",
      "Epoch 36 - Validation Loss 0.9906 Validation Accuracy 0.6013\n",
      "Time taken for epoch 128.31902241706848 sec\n",
      "\n",
      "Epoch 37/50\n"
     ]
    },
    {
     "name": "stderr",
     "output_type": "stream",
     "text": [
      "[Training Feasibility]: 100%|██████████| 320/320 [01:58<00:00,  2.70it/s]\n",
      "[Validating Feasibility]:   0%|          | 0/32 [00:00<?, ?it/s]"
     ]
    },
    {
     "name": "stdout",
     "output_type": "stream",
     "text": [
      "\n",
      "Epoch 37 - Train Loss 0.3700 Train Accuracy 0.8384\n"
     ]
    },
    {
     "name": "stderr",
     "output_type": "stream",
     "text": [
      "[Validating Feasibility]: 100%|██████████| 32/32 [00:08<00:00,  3.87it/s]\n",
      "[Training Feasibility]:   0%|          | 0/320 [00:00<?, ?it/s]"
     ]
    },
    {
     "name": "stdout",
     "output_type": "stream",
     "text": [
      "\n",
      "Epoch 37 - Validation Loss 1.0359 Validation Accuracy 0.5989\n",
      "Time taken for epoch 127.11792421340942 sec\n",
      "\n",
      "Epoch 38/50\n"
     ]
    },
    {
     "name": "stderr",
     "output_type": "stream",
     "text": [
      "[Training Feasibility]: 100%|██████████| 320/320 [01:58<00:00,  2.70it/s]\n",
      "[Validating Feasibility]:   0%|          | 0/32 [00:00<?, ?it/s]"
     ]
    },
    {
     "name": "stdout",
     "output_type": "stream",
     "text": [
      "\n",
      "Epoch 38 - Train Loss 0.3675 Train Accuracy 0.8392\n"
     ]
    },
    {
     "name": "stderr",
     "output_type": "stream",
     "text": [
      "[Validating Feasibility]: 100%|██████████| 32/32 [00:08<00:00,  3.89it/s]\n",
      "[Training Feasibility]:   0%|          | 0/320 [00:00<?, ?it/s]"
     ]
    },
    {
     "name": "stdout",
     "output_type": "stream",
     "text": [
      "\n",
      "Epoch 38 - Validation Loss 1.0212 Validation Accuracy 0.5771\n",
      "Time taken for epoch 127.03702282905579 sec\n",
      "\n",
      "Epoch 39/50\n"
     ]
    },
    {
     "name": "stderr",
     "output_type": "stream",
     "text": [
      "[Training Feasibility]: 100%|██████████| 320/320 [01:58<00:00,  2.70it/s]\n",
      "[Validating Feasibility]:   0%|          | 0/32 [00:00<?, ?it/s]"
     ]
    },
    {
     "name": "stdout",
     "output_type": "stream",
     "text": [
      "\n",
      "Epoch 39 - Train Loss 0.3623 Train Accuracy 0.8408\n"
     ]
    },
    {
     "name": "stderr",
     "output_type": "stream",
     "text": [
      "[Validating Feasibility]: 100%|██████████| 32/32 [00:08<00:00,  3.87it/s]\n",
      "[Training Feasibility]:   0%|          | 0/320 [00:00<?, ?it/s]"
     ]
    },
    {
     "name": "stdout",
     "output_type": "stream",
     "text": [
      "\n",
      "Epoch 39 - Validation Loss 1.0616 Validation Accuracy 0.6006\n",
      "Time taken for epoch 127.00795292854309 sec\n",
      "\n",
      "Epoch 40/50\n"
     ]
    },
    {
     "name": "stderr",
     "output_type": "stream",
     "text": [
      "[Training Feasibility]: 100%|██████████| 320/320 [01:58<00:00,  2.69it/s]\n",
      "[Validating Feasibility]:   0%|          | 0/32 [00:00<?, ?it/s]"
     ]
    },
    {
     "name": "stdout",
     "output_type": "stream",
     "text": [
      "\n",
      "Epoch 40 - Train Loss 0.3641 Train Accuracy 0.8398\n"
     ]
    },
    {
     "name": "stderr",
     "output_type": "stream",
     "text": [
      "[Validating Feasibility]: 100%|██████████| 32/32 [00:08<00:00,  3.88it/s]\n",
      "[Training Feasibility]:   0%|          | 0/320 [00:00<?, ?it/s]"
     ]
    },
    {
     "name": "stdout",
     "output_type": "stream",
     "text": [
      "\n",
      "Epoch 40 - Validation Loss 1.0861 Validation Accuracy 0.5950\n",
      "Time taken for epoch 127.22207617759705 sec\n",
      "\n",
      "Epoch 41/50\n"
     ]
    },
    {
     "name": "stderr",
     "output_type": "stream",
     "text": [
      "[Training Feasibility]: 100%|██████████| 320/320 [01:59<00:00,  2.69it/s]\n",
      "[Validating Feasibility]:   0%|          | 0/32 [00:00<?, ?it/s]"
     ]
    },
    {
     "name": "stdout",
     "output_type": "stream",
     "text": [
      "\n",
      "Epoch 41 - Train Loss 0.3560 Train Accuracy 0.8432\n"
     ]
    },
    {
     "name": "stderr",
     "output_type": "stream",
     "text": [
      "[Validating Feasibility]: 100%|██████████| 32/32 [00:08<00:00,  3.85it/s]\n",
      "[Training Feasibility]:   0%|          | 0/320 [00:00<?, ?it/s]"
     ]
    },
    {
     "name": "stdout",
     "output_type": "stream",
     "text": [
      "\n",
      "Epoch 41 - Validation Loss 1.1127 Validation Accuracy 0.5808\n",
      "Time taken for epoch 127.51616358757019 sec\n",
      "\n",
      "Epoch 42/50\n"
     ]
    },
    {
     "name": "stderr",
     "output_type": "stream",
     "text": [
      "[Training Feasibility]: 100%|██████████| 320/320 [01:58<00:00,  2.70it/s]\n",
      "[Validating Feasibility]:   0%|          | 0/32 [00:00<?, ?it/s]"
     ]
    },
    {
     "name": "stdout",
     "output_type": "stream",
     "text": [
      "\n",
      "Epoch 42 - Train Loss 0.3477 Train Accuracy 0.8495\n"
     ]
    },
    {
     "name": "stderr",
     "output_type": "stream",
     "text": [
      "[Validating Feasibility]: 100%|██████████| 32/32 [00:08<00:00,  3.89it/s]\n",
      "[Training Feasibility]:   0%|          | 0/320 [00:00<?, ?it/s]"
     ]
    },
    {
     "name": "stdout",
     "output_type": "stream",
     "text": [
      "\n",
      "Epoch 42 - Validation Loss 1.1507 Validation Accuracy 0.6169\n",
      "Time taken for epoch 126.90932250022888 sec\n",
      "\n",
      "Epoch 43/50\n"
     ]
    },
    {
     "name": "stderr",
     "output_type": "stream",
     "text": [
      "[Training Feasibility]: 100%|██████████| 320/320 [01:58<00:00,  2.70it/s]\n",
      "[Validating Feasibility]:   0%|          | 0/32 [00:00<?, ?it/s]"
     ]
    },
    {
     "name": "stdout",
     "output_type": "stream",
     "text": [
      "\n",
      "Epoch 43 - Train Loss 0.3472 Train Accuracy 0.8473\n"
     ]
    },
    {
     "name": "stderr",
     "output_type": "stream",
     "text": [
      "[Validating Feasibility]: 100%|██████████| 32/32 [00:08<00:00,  3.89it/s]\n",
      "[Training Feasibility]:   0%|          | 0/320 [00:00<?, ?it/s]"
     ]
    },
    {
     "name": "stdout",
     "output_type": "stream",
     "text": [
      "\n",
      "Epoch 43 - Validation Loss 1.0923 Validation Accuracy 0.5977\n",
      "Time taken for epoch 126.79934620857239 sec\n",
      "\n",
      "Epoch 44/50\n"
     ]
    },
    {
     "name": "stderr",
     "output_type": "stream",
     "text": [
      "[Training Feasibility]: 100%|██████████| 320/320 [01:58<00:00,  2.70it/s]\n",
      "[Validating Feasibility]:   0%|          | 0/32 [00:00<?, ?it/s]"
     ]
    },
    {
     "name": "stdout",
     "output_type": "stream",
     "text": [
      "\n",
      "Epoch 44 - Train Loss 0.3472 Train Accuracy 0.8485\n"
     ]
    },
    {
     "name": "stderr",
     "output_type": "stream",
     "text": [
      "[Validating Feasibility]: 100%|██████████| 32/32 [00:08<00:00,  3.88it/s]\n",
      "[Training Feasibility]:   0%|          | 0/320 [00:00<?, ?it/s]"
     ]
    },
    {
     "name": "stdout",
     "output_type": "stream",
     "text": [
      "\n",
      "Epoch 44 - Validation Loss 1.1197 Validation Accuracy 0.5808\n",
      "Time taken for epoch 126.76718497276306 sec\n",
      "\n",
      "Epoch 45/50\n"
     ]
    },
    {
     "name": "stderr",
     "output_type": "stream",
     "text": [
      "[Training Feasibility]: 100%|██████████| 320/320 [01:58<00:00,  2.70it/s]\n",
      "[Validating Feasibility]:   0%|          | 0/32 [00:00<?, ?it/s]"
     ]
    },
    {
     "name": "stdout",
     "output_type": "stream",
     "text": [
      "\n",
      "Epoch 45 - Train Loss 0.3368 Train Accuracy 0.8538\n"
     ]
    },
    {
     "name": "stderr",
     "output_type": "stream",
     "text": [
      "[Validating Feasibility]: 100%|██████████| 32/32 [00:08<00:00,  3.89it/s]\n",
      "[Training Feasibility]:   0%|          | 0/320 [00:00<?, ?it/s]"
     ]
    },
    {
     "name": "stdout",
     "output_type": "stream",
     "text": [
      "\n",
      "Epoch 45 - Validation Loss 1.1323 Validation Accuracy 0.5742\n",
      "Time taken for epoch 126.87183475494385 sec\n",
      "\n",
      "Epoch 46/50\n"
     ]
    },
    {
     "name": "stderr",
     "output_type": "stream",
     "text": [
      "[Training Feasibility]: 100%|██████████| 320/320 [01:58<00:00,  2.70it/s]\n",
      "[Validating Feasibility]:   0%|          | 0/32 [00:00<?, ?it/s]"
     ]
    },
    {
     "name": "stdout",
     "output_type": "stream",
     "text": [
      "\n",
      "Epoch 46 - Train Loss 0.3363 Train Accuracy 0.8540\n"
     ]
    },
    {
     "name": "stderr",
     "output_type": "stream",
     "text": [
      "[Validating Feasibility]: 100%|██████████| 32/32 [00:08<00:00,  3.89it/s]\n",
      "[Training Feasibility]:   0%|          | 0/320 [00:00<?, ?it/s]"
     ]
    },
    {
     "name": "stdout",
     "output_type": "stream",
     "text": [
      "\n",
      "Epoch 46 - Validation Loss 1.1393 Validation Accuracy 0.5986\n",
      "Time taken for epoch 126.87064671516418 sec\n",
      "\n",
      "Epoch 47/50\n"
     ]
    },
    {
     "name": "stderr",
     "output_type": "stream",
     "text": [
      "[Training Feasibility]: 100%|██████████| 320/320 [02:03<00:00,  2.58it/s]\n",
      "[Validating Feasibility]:   0%|          | 0/32 [00:00<?, ?it/s]"
     ]
    },
    {
     "name": "stdout",
     "output_type": "stream",
     "text": [
      "\n",
      "Epoch 47 - Train Loss 0.3335 Train Accuracy 0.8550\n"
     ]
    },
    {
     "name": "stderr",
     "output_type": "stream",
     "text": [
      "[Validating Feasibility]: 100%|██████████| 32/32 [00:08<00:00,  3.73it/s]\n",
      "[Training Feasibility]:   0%|          | 0/320 [00:00<?, ?it/s]"
     ]
    },
    {
     "name": "stdout",
     "output_type": "stream",
     "text": [
      "\n",
      "Epoch 47 - Validation Loss 1.1743 Validation Accuracy 0.5867\n",
      "Time taken for epoch 132.61421251296997 sec\n",
      "\n",
      "Epoch 48/50\n"
     ]
    },
    {
     "name": "stderr",
     "output_type": "stream",
     "text": [
      "[Training Feasibility]: 100%|██████████| 320/320 [02:06<00:00,  2.54it/s]\n",
      "[Validating Feasibility]:   0%|          | 0/32 [00:00<?, ?it/s]"
     ]
    },
    {
     "name": "stdout",
     "output_type": "stream",
     "text": [
      "\n",
      "Epoch 48 - Train Loss 0.3358 Train Accuracy 0.8543\n"
     ]
    },
    {
     "name": "stderr",
     "output_type": "stream",
     "text": [
      "[Validating Feasibility]: 100%|██████████| 32/32 [00:08<00:00,  3.56it/s]\n",
      "[Training Feasibility]:   0%|          | 0/320 [00:00<?, ?it/s]"
     ]
    },
    {
     "name": "stdout",
     "output_type": "stream",
     "text": [
      "\n",
      "Epoch 48 - Validation Loss 1.1416 Validation Accuracy 0.5913\n",
      "Time taken for epoch 135.34997868537903 sec\n",
      "\n",
      "Epoch 49/50\n"
     ]
    },
    {
     "name": "stderr",
     "output_type": "stream",
     "text": [
      "[Training Feasibility]: 100%|██████████| 320/320 [02:04<00:00,  2.57it/s]\n",
      "[Validating Feasibility]:   0%|          | 0/32 [00:00<?, ?it/s]"
     ]
    },
    {
     "name": "stdout",
     "output_type": "stream",
     "text": [
      "\n",
      "Epoch 49 - Train Loss 0.3253 Train Accuracy 0.8592\n"
     ]
    },
    {
     "name": "stderr",
     "output_type": "stream",
     "text": [
      "[Validating Feasibility]: 100%|██████████| 32/32 [00:08<00:00,  3.88it/s]\n",
      "[Training Feasibility]:   0%|          | 0/320 [00:00<?, ?it/s]"
     ]
    },
    {
     "name": "stdout",
     "output_type": "stream",
     "text": [
      "\n",
      "Epoch 49 - Validation Loss 1.1644 Validation Accuracy 0.5850\n",
      "Time taken for epoch 132.97663068771362 sec\n",
      "\n",
      "Epoch 50/50\n"
     ]
    },
    {
     "name": "stderr",
     "output_type": "stream",
     "text": [
      "[Training Feasibility]: 100%|██████████| 320/320 [01:58<00:00,  2.69it/s]\n",
      "[Validating Feasibility]:   0%|          | 0/32 [00:00<?, ?it/s]"
     ]
    },
    {
     "name": "stdout",
     "output_type": "stream",
     "text": [
      "\n",
      "Epoch 50 - Train Loss 0.3249 Train Accuracy 0.8602\n"
     ]
    },
    {
     "name": "stderr",
     "output_type": "stream",
     "text": [
      "[Validating Feasibility]: 100%|██████████| 32/32 [00:08<00:00,  3.88it/s]\n"
     ]
    },
    {
     "name": "stdout",
     "output_type": "stream",
     "text": [
      "\n",
      "Epoch 50 - Validation Loss 1.2124 Validation Accuracy 0.6113\n",
      "Time taken for epoch 127.27809548377991 sec\n",
      "\n"
     ]
    }
   ],
   "source": [
    "#Run Experiments\n",
    "#change the num_training_samples and num_validation_samples make sure its multiple of 128 when running on tpu\n",
    "#change to tpu_enabled = 1 when running on tpu \n",
    "#Change the batch_size and epochs too\n",
    "run_experiments(Experiment_Dic=Experiment_Dic,\n",
    "                Experiment_No=7,\n",
    "                embedding_matrix=embedding_matrix,\n",
    "                ndim = ndim,\n",
    "                tpu_enabled=0,\n",
    "                num_training_samples=40960,\n",
    "                num_validation_samples = 4096,\n",
    "                num_epochs = 50,\n",
    "                batch_size = 128)"
   ]
  },
  {
   "cell_type": "code",
   "execution_count": 35,
   "metadata": {},
   "outputs": [],
   "source": [
    "#Run Inference\n",
    "inference_answer_model,\\\n",
    "inference_encoder_model,\\\n",
    "inference_feasibility_model = create_inference_model(Experiment_Dic=Experiment_Dic,\n",
    "                                                     Experiment_No=6,\n",
    "                                                     embedding_matrix=embedding_matrix,\n",
    "                                                     ndim = ndim)"
   ]
  },
  {
   "cell_type": "code",
   "execution_count": 37,
   "metadata": {},
   "outputs": [
    {
     "name": "stdout",
     "output_type": "stream",
     "text": [
      "question: what enacted the transactions of customs and ways of life for the people of the asian continent and the grecian\n",
      "Predicted Answer: the classical tradition derived from greece\n",
      "Actual answer: <s> in the east alexander the great s conquests initiated several centuries of exchange between greek central\n",
      "question: where do thousands of early tombs still exist\n",
      "Predicted Answer: british isles\n",
      "Actual answer: <s> ireland </s>\n",
      "question: what country experienced conflict with the jewish community after world war ii\n",
      "Predicted Answer: britain\n",
      "Actual answer: <s> britain </s>\n",
      "question: what do 54 of upper limb amputees experience\n",
      "Predicted Answer: continuous pain\n",
      "Actual answer: <s> </s>\n",
      "question: what is used to close the circuit of a dipole antenna\n",
      "Predicted Answer: the dipole antenna\n",
      "Actual answer: <s> large conductive surface </s>\n",
      "question: what manpower does punjab provide\n",
      "Predicted Answer: manpower\n",
      "Actual answer: <s> largest pool of professionals and highly skilled technically trained manpower in pakistan </s>\n",
      "question: what do phonemes differentiate\n",
      "Predicted Answer: as well as for example syllable structure stress feature geometry accent and intonation\n",
      "Actual answer: <s> meaning </s>\n",
      "question: along with various behaviors and physical attributes what were domestic dogs bred for\n",
      "Predicted Answer: behaviors sensory capabilities and physical attributes\n",
      "Actual answer: <s> sensory capabilities </s>\n",
      "question: when did american idol debut\n",
      "Predicted Answer: june 2002\n",
      "Actual answer: <s> june 2002 </s>\n",
      "question: which economic system was ultimately started by the upheavals of the 14th century\n",
      "Predicted Answer: serfdom\n",
      "Actual answer: <s> </s>\n"
     ]
    }
   ],
   "source": [
    "for seq_index in range(80000,80010):\n",
    "    # Take one sequence (part of the training test)\n",
    "    # for trying out decoding.\n",
    "    context_input_seq = train_context_padded_seq[seq_index: seq_index+ 1]\n",
    "    question_input_seq = train_question_seq_padded[seq_index: seq_index + 1]\n",
    "    decoded_sentence = decode_sentence(context_input_seq,\n",
    "                                       question_input_seq,\n",
    "                                       inference_encoder_model,\n",
    "                                       inference_answer_model)\n",
    "    print(\"question:\",' '.join([id_vocab.get(i) for i in train_question_seq_padded[seq_index].tolist() if i !=0]))\n",
    "    print('Predicted Answer:', decoded_sentence)\n",
    "    act_answer = ' '.join([id_vocab.get(i) for i in train_answer_input_seq_padded[seq_index].tolist() if i !=0])\n",
    "    print('Actual answer:',act_answer)"
   ]
  },
  {
   "cell_type": "code",
   "execution_count": 56,
   "metadata": {},
   "outputs": [],
   "source": [
    "import matplotlib.pyplot as plt\n",
    "def plot_experiments(ExperimentNumber):\n",
    "    ExperimentNo = \"Experiment\"+str(ExperimentNumber)\n",
    "    with open(ExperimentNo+'span2_model_'+'history_feasibility_model', 'rb') as file_history:\n",
    "        feasibility_history = pickle.load( file_history )\n",
    "    \n",
    "    with open(ExperimentNo+'span2_model_'+'history_answer_model', 'rb') as file_history:\n",
    "        answer_history = pickle.load( file_history )\n",
    "    \n",
    "    fig, axs = plt.subplots(2, 2,figsize=(15,15))\n",
    "    #plot Answer Module\n",
    "    # Plot training & validation accuracy values\n",
    "    axs[0, 0].plot(answer_history['categorical_accuracy'])\n",
    "    axs[0, 0].plot(answer_history['val_categorical_accuracy'])\n",
    "    axs[0, 0].set_title(ExperimentNo+' Answer Model accuracy')\n",
    "    axs[0, 0].set_ylabel('Categorical Cross Entropy Accuracy')\n",
    "    axs[0, 0].set_xlabel('Epoch')\n",
    "    axs[0, 0].legend(['Train', 'Val'], loc='upper left')\n",
    "    #plt.show()\n",
    "\n",
    "    # Plot training & validation loss values\n",
    "    axs[0, 1].plot(answer_history['loss'])\n",
    "    axs[0, 1].plot(answer_history['val_loss'])\n",
    "    axs[0, 1].set_title(ExperimentNo+' Answer Model loss')\n",
    "    axs[0, 1].set_ylabel('Categorical Cross Entropy Loss')\n",
    "    axs[0, 1].set_xlabel('Epoch')\n",
    "    axs[0, 1].legend(['Train', 'Val'], loc='upper left')\n",
    "    #plt.show()\n",
    "        \n",
    "    \n",
    "    #plot Feasibility Module\n",
    "    # Plot training & validation accuracy values\n",
    "    axs[1, 0].plot(feasibility_history['binary_accuracy'])\n",
    "    axs[1, 0].plot(feasibility_history['val_binary_accuracy'])\n",
    "    axs[1, 0].set_title(ExperimentNo+' Feasibility Model accuracy')\n",
    "    axs[1, 0].set_ylabel('Binary Cross Entropy Accuracy')\n",
    "    axs[1, 0].set_xlabel('Epoch')\n",
    "    axs[1, 0].legend(['Train', 'Val'], loc='upper left')\n",
    "    #plt.show()\n",
    "\n",
    "    # Plot training & validation loss values\n",
    "    axs[1, 1].plot(feasibility_history['loss'])\n",
    "    axs[1, 1].plot(feasibility_history['val_loss'])\n",
    "    axs[1, 1].set_title(ExperimentNo+' Feasibility Model loss')\n",
    "    axs[1, 1].set_ylabel('Binary Cross Entropy Loss')\n",
    "    axs[1, 1].set_xlabel('Epoch')\n",
    "    axs[1, 1].legend(['Train', 'Val'], loc='upper left')\n",
    "    #plt.show()"
   ]
  },
  {
   "cell_type": "code",
   "execution_count": 57,
   "metadata": {},
   "outputs": [
    {
     "data": {
      "image/png": "[encoded data removed]",
      "text/plain": [
       "<Figure size 1080x1080 with 4 Axes>"
      ]
     },
     "metadata": {
      "needs_background": "light"
     },
     "output_type": "display_data"
    }
   ],
   "source": [
    "plot_experiments(6)"
   ]
  },
  {
   "cell_type": "code",
   "execution_count": 15,
   "metadata": {},
   "outputs": [
    {
     "name": "stdout",
     "output_type": "stream",
     "text": [
      "Model: \"model\"\n",
      "__________________________________________________________________________________________________\n",
      "Layer (type)                    Output Shape         Param #     Connected to                     \n",
      "==================================================================================================\n",
      "feasibilityQuestion_Input (Inpu [(None, 128)]        0                                            \n",
      "__________________________________________________________________________________________________\n",
      "tf_op_layer_Identity (TensorFlo [(None, 128)]        0           feasibilityQuestion_Input[0][0]  \n",
      "__________________________________________________________________________________________________\n",
      "tf_op_layer_ExpandDims (TensorF [(None, 1, 128)]     0           tf_op_layer_Identity[0][0]       \n",
      "__________________________________________________________________________________________________\n",
      "tf_op_layer_ExpandDims_1 (Tenso [(None, 1, 128)]     0           feasibilityQuestion_Input[0][0]  \n",
      "__________________________________________________________________________________________________\n",
      "dense_5 (Dense)                 (None, 128)          16384       feasibilityQuestion_Input[0][0]  \n",
      "                                                                 tf_op_layer_Identity[0][0]       \n",
      "                                                                 feasibilityQuestion_Input[0][0]  \n",
      "                                                                 tf_op_layer_Sum[0][0]            \n",
      "                                                                 feasibilityQuestion_Input[0][0]  \n",
      "                                                                 tf_op_layer_Sum_1[0][0]          \n",
      "__________________________________________________________________________________________________\n",
      "feasibilityContext_Input (Input [(None, None, 128)]  0                                            \n",
      "__________________________________________________________________________________________________\n",
      "tf_op_layer_Tile (TensorFlowOpL [(None, 250, 128)]   0           tf_op_layer_ExpandDims[0][0]     \n",
      "__________________________________________________________________________________________________\n",
      "tf_op_layer_Tile_1 (TensorFlowO [(None, 250, 128)]   0           tf_op_layer_ExpandDims_1[0][0]   \n",
      "__________________________________________________________________________________________________\n",
      "tf_op_layer_ExpandDims_2 (Tenso [(None, 1, 128)]     0           dense_5[0][0]                    \n",
      "__________________________________________________________________________________________________\n",
      "tf_op_layer_ExpandDims_3 (Tenso [(None, 1, 128)]     0           dense_5[1][0]                    \n",
      "__________________________________________________________________________________________________\n",
      "subtract (Subtract)             (None, 250, 128)     0           feasibilityContext_Input[0][0]   \n",
      "                                                                 tf_op_layer_Tile_1[0][0]         \n",
      "__________________________________________________________________________________________________\n",
      "subtract_1 (Subtract)           (None, 250, 128)     0           feasibilityContext_Input[0][0]   \n",
      "                                                                 tf_op_layer_Tile[0][0]           \n",
      "__________________________________________________________________________________________________\n",
      "tf_op_layer_MatMul (TensorFlowO [(None, 1, None)]    0           tf_op_layer_ExpandDims_2[0][0]   \n",
      "                                                                 feasibilityContext_Input[0][0]   \n",
      "__________________________________________________________________________________________________\n",
      "tf_op_layer_MatMul_1 (TensorFlo [(None, 1, None)]    0           tf_op_layer_ExpandDims_3[0][0]   \n",
      "                                                                 feasibilityContext_Input[0][0]   \n",
      "__________________________________________________________________________________________________\n",
      "multiply (Multiply)             (None, 250, 128)     0           feasibilityContext_Input[0][0]   \n",
      "                                                                 tf_op_layer_Tile_1[0][0]         \n",
      "__________________________________________________________________________________________________\n",
      "multiply_1 (Multiply)           (None, 250, 128)     0           feasibilityContext_Input[0][0]   \n",
      "                                                                 tf_op_layer_Tile[0][0]           \n",
      "__________________________________________________________________________________________________\n",
      "tf_op_layer_Abs (TensorFlowOpLa [(None, 250, 128)]   0           subtract[0][0]                   \n",
      "__________________________________________________________________________________________________\n",
      "tf_op_layer_Abs_1 (TensorFlowOp [(None, 250, 128)]   0           subtract_1[0][0]                 \n",
      "__________________________________________________________________________________________________\n",
      "permute (Permute)               (None, None, 1)      0           tf_op_layer_MatMul[0][0]         \n",
      "__________________________________________________________________________________________________\n",
      "permute_1 (Permute)             (None, None, 1)      0           tf_op_layer_MatMul_1[0][0]       \n",
      "__________________________________________________________________________________________________\n",
      "tf_op_layer_concat (TensorFlowO [(None, 250, 898)]   0           feasibilityContext_Input[0][0]   \n",
      "                                                                 tf_op_layer_Tile[0][0]           \n",
      "                                                                 tf_op_layer_Tile_1[0][0]         \n",
      "                                                                 multiply[0][0]                   \n",
      "                                                                 multiply_1[0][0]                 \n",
      "                                                                 tf_op_layer_Abs[0][0]            \n",
      "                                                                 tf_op_layer_Abs_1[0][0]          \n",
      "                                                                 permute[0][0]                    \n",
      "                                                                 permute_1[0][0]                  \n",
      "__________________________________________________________________________________________________\n",
      "dense_6 (Dense)                 (None, 250, 192)     172608      tf_op_layer_concat[0][0]         \n",
      "                                                                 tf_op_layer_concat_1[0][0]       \n",
      "                                                                 tf_op_layer_concat_2[0][0]       \n",
      "__________________________________________________________________________________________________\n",
      "dense_7 (Dense)                 (None, 250, 1)       193         dense_6[0][0]                    \n",
      "                                                                 dense_6[1][0]                    \n",
      "                                                                 dense_6[2][0]                    \n",
      "__________________________________________________________________________________________________\n",
      "tf_op_layer_transpose (TensorFl [(None, 1, 250)]     0           dense_7[0][0]                    \n",
      "__________________________________________________________________________________________________\n",
      "tf_op_layer_Softmax (TensorFlow [(None, 1, 250)]     0           tf_op_layer_transpose[0][0]      \n",
      "__________________________________________________________________________________________________\n",
      "tf_op_layer_transpose_1 (Tensor [(None, 250, 1)]     0           tf_op_layer_Softmax[0][0]        \n",
      "__________________________________________________________________________________________________\n",
      "tf_op_layer_mul (TensorFlowOpLa [(None, 250, 128)]   0           tf_op_layer_transpose_1[0][0]    \n",
      "                                                                 feasibilityContext_Input[0][0]   \n",
      "__________________________________________________________________________________________________\n",
      "tf_op_layer_Sum (TensorFlowOpLa [(None, 128)]        0           tf_op_layer_mul[0][0]            \n",
      "__________________________________________________________________________________________________\n",
      "tf_op_layer_ExpandDims_4 (Tenso [(None, 1, 128)]     0           tf_op_layer_Sum[0][0]            \n",
      "__________________________________________________________________________________________________\n",
      "tf_op_layer_ExpandDims_5 (Tenso [(None, 1, 128)]     0           feasibilityQuestion_Input[0][0]  \n",
      "__________________________________________________________________________________________________\n",
      "tf_op_layer_Tile_2 (TensorFlowO [(None, 250, 128)]   0           tf_op_layer_ExpandDims_4[0][0]   \n",
      "__________________________________________________________________________________________________\n",
      "tf_op_layer_Tile_3 (TensorFlowO [(None, 250, 128)]   0           tf_op_layer_ExpandDims_5[0][0]   \n",
      "__________________________________________________________________________________________________\n",
      "tf_op_layer_ExpandDims_6 (Tenso [(None, 1, 128)]     0           dense_5[2][0]                    \n",
      "__________________________________________________________________________________________________\n",
      "tf_op_layer_ExpandDims_7 (Tenso [(None, 1, 128)]     0           dense_5[3][0]                    \n",
      "__________________________________________________________________________________________________\n",
      "subtract_2 (Subtract)           (None, 250, 128)     0           feasibilityContext_Input[0][0]   \n",
      "                                                                 tf_op_layer_Tile_3[0][0]         \n",
      "__________________________________________________________________________________________________\n",
      "subtract_3 (Subtract)           (None, 250, 128)     0           feasibilityContext_Input[0][0]   \n",
      "                                                                 tf_op_layer_Tile_2[0][0]         \n",
      "__________________________________________________________________________________________________\n",
      "tf_op_layer_MatMul_2 (TensorFlo [(None, 1, None)]    0           tf_op_layer_ExpandDims_6[0][0]   \n",
      "                                                                 feasibilityContext_Input[0][0]   \n",
      "__________________________________________________________________________________________________\n",
      "tf_op_layer_MatMul_3 (TensorFlo [(None, 1, None)]    0           tf_op_layer_ExpandDims_7[0][0]   \n",
      "                                                                 feasibilityContext_Input[0][0]   \n",
      "__________________________________________________________________________________________________\n",
      "multiply_2 (Multiply)           (None, 250, 128)     0           feasibilityContext_Input[0][0]   \n",
      "                                                                 tf_op_layer_Tile_3[0][0]         \n",
      "__________________________________________________________________________________________________\n",
      "multiply_3 (Multiply)           (None, 250, 128)     0           feasibilityContext_Input[0][0]   \n",
      "                                                                 tf_op_layer_Tile_2[0][0]         \n",
      "__________________________________________________________________________________________________\n",
      "tf_op_layer_Abs_2 (TensorFlowOp [(None, 250, 128)]   0           subtract_2[0][0]                 \n",
      "__________________________________________________________________________________________________\n",
      "tf_op_layer_Abs_3 (TensorFlowOp [(None, 250, 128)]   0           subtract_3[0][0]                 \n",
      "__________________________________________________________________________________________________\n",
      "permute_2 (Permute)             (None, None, 1)      0           tf_op_layer_MatMul_2[0][0]       \n",
      "__________________________________________________________________________________________________\n",
      "permute_3 (Permute)             (None, None, 1)      0           tf_op_layer_MatMul_3[0][0]       \n",
      "__________________________________________________________________________________________________\n",
      "tf_op_layer_concat_1 (TensorFlo [(None, 250, 898)]   0           feasibilityContext_Input[0][0]   \n",
      "                                                                 tf_op_layer_Tile_2[0][0]         \n",
      "                                                                 tf_op_layer_Tile_3[0][0]         \n",
      "                                                                 multiply_2[0][0]                 \n",
      "                                                                 multiply_3[0][0]                 \n",
      "                                                                 tf_op_layer_Abs_2[0][0]          \n",
      "                                                                 tf_op_layer_Abs_3[0][0]          \n",
      "                                                                 permute_2[0][0]                  \n",
      "                                                                 permute_3[0][0]                  \n",
      "__________________________________________________________________________________________________\n",
      "tf_op_layer_transpose_2 (Tensor [(None, 1, 250)]     0           dense_7[1][0]                    \n",
      "__________________________________________________________________________________________________\n",
      "tf_op_layer_Softmax_1 (TensorFl [(None, 1, 250)]     0           tf_op_layer_transpose_2[0][0]    \n",
      "__________________________________________________________________________________________________\n",
      "tf_op_layer_transpose_3 (Tensor [(None, 250, 1)]     0           tf_op_layer_Softmax_1[0][0]      \n",
      "__________________________________________________________________________________________________\n",
      "tf_op_layer_mul_1 (TensorFlowOp [(None, 250, 128)]   0           tf_op_layer_transpose_3[0][0]    \n",
      "                                                                 feasibilityContext_Input[0][0]   \n",
      "__________________________________________________________________________________________________\n",
      "tf_op_layer_Sum_1 (TensorFlowOp [(None, 128)]        0           tf_op_layer_mul_1[0][0]          \n",
      "__________________________________________________________________________________________________\n",
      "tf_op_layer_ExpandDims_8 (Tenso [(None, 1, 128)]     0           tf_op_layer_Sum_1[0][0]          \n",
      "__________________________________________________________________________________________________\n",
      "tf_op_layer_ExpandDims_9 (Tenso [(None, 1, 128)]     0           feasibilityQuestion_Input[0][0]  \n",
      "__________________________________________________________________________________________________\n",
      "tf_op_layer_Tile_4 (TensorFlowO [(None, 250, 128)]   0           tf_op_layer_ExpandDims_8[0][0]   \n",
      "__________________________________________________________________________________________________\n",
      "tf_op_layer_Tile_5 (TensorFlowO [(None, 250, 128)]   0           tf_op_layer_ExpandDims_9[0][0]   \n",
      "__________________________________________________________________________________________________\n",
      "tf_op_layer_ExpandDims_10 (Tens [(None, 1, 128)]     0           dense_5[4][0]                    \n",
      "__________________________________________________________________________________________________\n",
      "tf_op_layer_ExpandDims_11 (Tens [(None, 1, 128)]     0           dense_5[5][0]                    \n",
      "__________________________________________________________________________________________________\n",
      "subtract_4 (Subtract)           (None, 250, 128)     0           feasibilityContext_Input[0][0]   \n",
      "                                                                 tf_op_layer_Tile_5[0][0]         \n",
      "__________________________________________________________________________________________________\n",
      "subtract_5 (Subtract)           (None, 250, 128)     0           feasibilityContext_Input[0][0]   \n",
      "                                                                 tf_op_layer_Tile_4[0][0]         \n",
      "__________________________________________________________________________________________________\n",
      "tf_op_layer_MatMul_4 (TensorFlo [(None, 1, None)]    0           tf_op_layer_ExpandDims_10[0][0]  \n",
      "                                                                 feasibilityContext_Input[0][0]   \n",
      "__________________________________________________________________________________________________\n",
      "tf_op_layer_MatMul_5 (TensorFlo [(None, 1, None)]    0           tf_op_layer_ExpandDims_11[0][0]  \n",
      "                                                                 feasibilityContext_Input[0][0]   \n",
      "__________________________________________________________________________________________________\n",
      "multiply_4 (Multiply)           (None, 250, 128)     0           feasibilityContext_Input[0][0]   \n",
      "                                                                 tf_op_layer_Tile_5[0][0]         \n",
      "__________________________________________________________________________________________________\n",
      "multiply_5 (Multiply)           (None, 250, 128)     0           feasibilityContext_Input[0][0]   \n",
      "                                                                 tf_op_layer_Tile_4[0][0]         \n",
      "__________________________________________________________________________________________________\n",
      "tf_op_layer_Abs_4 (TensorFlowOp [(None, 250, 128)]   0           subtract_4[0][0]                 \n",
      "__________________________________________________________________________________________________\n",
      "tf_op_layer_Abs_5 (TensorFlowOp [(None, 250, 128)]   0           subtract_5[0][0]                 \n",
      "__________________________________________________________________________________________________\n",
      "permute_4 (Permute)             (None, None, 1)      0           tf_op_layer_MatMul_4[0][0]       \n",
      "__________________________________________________________________________________________________\n",
      "permute_5 (Permute)             (None, None, 1)      0           tf_op_layer_MatMul_5[0][0]       \n",
      "__________________________________________________________________________________________________\n",
      "tf_op_layer_concat_2 (TensorFlo [(None, 250, 898)]   0           feasibilityContext_Input[0][0]   \n",
      "                                                                 tf_op_layer_Tile_4[0][0]         \n",
      "                                                                 tf_op_layer_Tile_5[0][0]         \n",
      "                                                                 multiply_4[0][0]                 \n",
      "                                                                 multiply_5[0][0]                 \n",
      "                                                                 tf_op_layer_Abs_4[0][0]          \n",
      "                                                                 tf_op_layer_Abs_5[0][0]          \n",
      "                                                                 permute_4[0][0]                  \n",
      "                                                                 permute_5[0][0]                  \n",
      "__________________________________________________________________________________________________\n",
      "tf_op_layer_transpose_4 (Tensor [(None, 1, 250)]     0           dense_7[2][0]                    \n",
      "__________________________________________________________________________________________________\n",
      "tf_op_layer_Softmax_2 (TensorFl [(None, 1, 250)]     0           tf_op_layer_transpose_4[0][0]    \n",
      "__________________________________________________________________________________________________\n",
      "tf_op_layer_transpose_5 (Tensor [(None, 250, 1)]     0           tf_op_layer_Softmax_2[0][0]      \n",
      "__________________________________________________________________________________________________\n",
      "tf_op_layer_mul_2 (TensorFlowOp [(None, 250, 128)]   0           tf_op_layer_transpose_5[0][0]    \n",
      "                                                                 feasibilityContext_Input[0][0]   \n",
      "__________________________________________________________________________________________________\n",
      "tf_op_layer_Sum_2 (TensorFlowOp [(None, 128)]        0           tf_op_layer_mul_2[0][0]          \n",
      "__________________________________________________________________________________________________\n",
      "FeasibilityStartLogitInput (Inp [(None, 250)]        0                                            \n",
      "__________________________________________________________________________________________________\n",
      "FeasibilityEndLogitInput (Input [(None, 250)]        0                                            \n",
      "__________________________________________________________________________________________________\n",
      "tf_op_layer_concat_3 (TensorFlo [(None, 628)]        0           tf_op_layer_Sum_2[0][0]          \n",
      "                                                                 FeasibilityStartLogitInput[0][0] \n",
      "                                                                 FeasibilityEndLogitInput[0][0]   \n",
      "__________________________________________________________________________________________________\n",
      "feasibility_layer_0 (Dense)     (None, 32)           20128       tf_op_layer_concat_3[0][0]       \n",
      "__________________________________________________________________________________________________\n",
      "batch_normalization_4 (BatchNor (None, 32)           128         feasibility_layer_0[0][0]        \n",
      "__________________________________________________________________________________________________\n",
      "feasibility_drop_0 (Dropout)    (None, 32)           0           batch_normalization_4[0][0]      \n",
      "__________________________________________________________________________________________________\n",
      "feasibility_output (Dense)      (None, 1)            33          feasibility_drop_0[0][0]         \n",
      "==================================================================================================\n",
      "Total params: 209,474\n",
      "Trainable params: 209,410\n",
      "Non-trainable params: 64\n",
      "__________________________________________________________________________________________________\n"
     ]
    }
   ],
   "source": [
    "inference_feasibility_model.summary()"
   ]
  },
  {
   "cell_type": "code",
   "execution_count": 16,
   "metadata": {},
   "outputs": [
    {
     "name": "stdout",
     "output_type": "stream",
     "text": [
      "Model: \"encoder_module\"\n",
      "_________________________________________________________________\n",
      "Layer (type)                 Output Shape              Param #   \n",
      "=================================================================\n",
      "Context_Embedding (Embedding multiple                  8870200   \n",
      "_________________________________________________________________\n",
      "Context_Bid_Layer0 (Bidirect multiple                  102144    \n",
      "_________________________________________________________________\n",
      "Context_Bid_Layer1 (Bidirect multiple                  74496     \n",
      "_________________________________________________________________\n",
      "batch_normalization (BatchNo multiple                  512       \n",
      "_________________________________________________________________\n",
      "batch_normalization_1 (Batch multiple                  512       \n",
      "_________________________________________________________________\n",
      "Question_Embedding (Embeddin multiple                  8870200   \n",
      "_________________________________________________________________\n",
      "Question_Bid_Layer0 (Bidirec multiple                  63744     \n",
      "_________________________________________________________________\n",
      "Question_Bid_Layer1 (Bidirec multiple                  74496     \n",
      "_________________________________________________________________\n",
      "batch_normalization_2 (Batch multiple                  512       \n",
      "_________________________________________________________________\n",
      "batch_normalization_3 (Batch multiple                  512       \n",
      "_________________________________________________________________\n",
      "dense (Dense)                multiple                  129       \n",
      "_________________________________________________________________\n",
      "dense_1 (Dense)              multiple                  101       \n",
      "_________________________________________________________________\n",
      "dense_2 (Dense)              multiple                  101       \n",
      "=================================================================\n",
      "Total params: 18,057,659\n",
      "Trainable params: 316,235\n",
      "Non-trainable params: 17,741,424\n",
      "_________________________________________________________________\n"
     ]
    }
   ],
   "source": [
    "inference_encoder_model.summary()"
   ]
  },
  {
   "cell_type": "code",
   "execution_count": 17,
   "metadata": {},
   "outputs": [
    {
     "name": "stdout",
     "output_type": "stream",
     "text": [
      "Model: \"answer_module\"\n",
      "_________________________________________________________________\n",
      "Layer (type)                 Output Shape              Param #   \n",
      "=================================================================\n",
      "dense_3 (Dense)              multiple                  16512     \n",
      "_________________________________________________________________\n",
      "dense_4 (Dense)              multiple                  16512     \n",
      "=================================================================\n",
      "Total params: 33,024\n",
      "Trainable params: 33,024\n",
      "Non-trainable params: 0\n",
      "_________________________________________________________________\n"
     ]
    }
   ],
   "source": [
    "inference_answer_model.summary()"
   ]
  }
 ],
 "metadata": {
  "kernelspec": {
   "display_name": "tensorflow_cpu_2",
   "language": "python",
   "name": "tensorflow_cpu_2"
  },
  "language_info": {
   "codemirror_mode": {
    "name": "ipython",
    "version": 3
   },
   "file_extension": ".py",
   "mimetype": "text/x-python",
   "name": "python",
   "nbconvert_exporter": "python",
   "pygments_lexer": "ipython3",
   "version": "3.7.6"
  }
 },
 "nbformat": 4,
 "nbformat_minor": 4
}
